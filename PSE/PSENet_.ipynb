{
  "cells": [
    {
      "cell_type": "code",
      "source": [
        "!pip install pyclipper"
      ],
      "metadata": {
        "colab": {
          "base_uri": "https://localhost:8080/"
        },
        "id": "4kUP9i3kayYy",
        "outputId": "77dc7357-acf0-425a-8ec4-a4b4d95a83d3"
      },
      "execution_count": null,
      "outputs": [
        {
          "output_type": "stream",
          "name": "stdout",
          "text": [
            "Looking in indexes: https://pypi.org/simple, https://us-python.pkg.dev/colab-wheels/public/simple/\n",
            "Collecting pyclipper\n",
            "  Downloading pyclipper-1.3.0.post4-cp38-cp38-manylinux_2_5_x86_64.manylinux1_x86_64.whl (619 kB)\n",
            "\u001b[K     |████████████████████████████████| 619 kB 17.9 MB/s \n",
            "\u001b[?25hInstalling collected packages: pyclipper\n",
            "Successfully installed pyclipper-1.3.0.post4\n"
          ]
        }
      ]
    },
    {
      "cell_type": "code",
      "source": [
        "!pip install shapely"
      ],
      "metadata": {
        "colab": {
          "base_uri": "https://localhost:8080/"
        },
        "id": "2nyoSxq0a5QJ",
        "outputId": "75e70b21-29b9-48b5-cc1e-ca80f42be0b3"
      },
      "execution_count": null,
      "outputs": [
        {
          "output_type": "stream",
          "name": "stdout",
          "text": [
            "Looking in indexes: https://pypi.org/simple, https://us-python.pkg.dev/colab-wheels/public/simple/\n",
            "Requirement already satisfied: shapely in /usr/local/lib/python3.8/dist-packages (2.0.0)\n",
            "Requirement already satisfied: numpy>=1.14 in /usr/local/lib/python3.8/dist-packages (from shapely) (1.21.6)\n"
          ]
        }
      ]
    },
    {
      "cell_type": "code",
      "execution_count": null,
      "metadata": {
        "id": "_DmtgOnlmhin"
      },
      "outputs": [],
      "source": [
        "import argparse\n",
        "import math\n",
        "import os\n",
        "import random\n",
        "import shutil\n",
        "import sys\n",
        "import time\n",
        "\n",
        "import cv2\n",
        "import matplotlib.pyplot as plt\n",
        "import numpy as np\n",
        "import pyclipper\n",
        "import torch\n",
        "import torch.nn as nn\n",
        "import torch.nn.functional as F\n",
        "import torch.utils.model_zoo as model_zoo\n",
        "import torchvision.transforms as transforms\n",
        "from PIL import Image\n",
        "from shapely import Point, Polygon\n",
        "from torch.autograd import Variable\n",
        "from torch.utils import data"
      ]
    },
    {
      "cell_type": "code",
      "source": [
        "from google.colab import drive\n",
        "drive.mount('/content/drive')"
      ],
      "metadata": {
        "colab": {
          "base_uri": "https://localhost:8080/"
        },
        "id": "k7gCX3XBaYDH",
        "outputId": "e7a1d862-24bd-42ce-8611-722bcb174eac"
      },
      "execution_count": null,
      "outputs": [
        {
          "output_type": "stream",
          "name": "stdout",
          "text": [
            "Mounted at /content/drive\n"
          ]
        }
      ]
    },
    {
      "cell_type": "code",
      "execution_count": null,
      "metadata": {
        "colab": {
          "base_uri": "https://localhost:8080/",
          "height": 36
        },
        "id": "lDgJO0f2aUkG",
        "outputId": "6399f6d8-cbfc-48c0-f10e-3777da1a2787"
      },
      "outputs": [
        {
          "output_type": "execute_result",
          "data": {
            "text/plain": [
              "'cuda'"
            ],
            "application/vnd.google.colaboratory.intrinsic+json": {
              "type": "string"
            }
          },
          "metadata": {},
          "execution_count": 5
        }
      ],
      "source": [
        "device = \"cuda\" if torch.cuda.is_available() else \"cpu\"\n",
        "device"
      ]
    },
    {
      "cell_type": "markdown",
      "metadata": {
        "id": "zsQ28lKZwjvE"
      },
      "source": [
        "# DataLoader"
      ]
    },
    {
      "cell_type": "code",
      "execution_count": null,
      "metadata": {
        "id": "CFmvLYluwlxh"
      },
      "outputs": [],
      "source": [
        "#Read image from img_path\n",
        "def get_img(img_path):\n",
        "    try:\n",
        "        img = cv2.imread(img_path)\n",
        "        img = img[:, :, [2, 1, 0]]\n",
        "        return img\n",
        "    except Exception as e:\n",
        "        print(\"Can't get image: \" + img_path)\n",
        "        raise e\n",
        "\n",
        "#Read bounding box and tags(True if ### else False) from gt_path\n",
        "def get_bboxes(img, gt_path):\n",
        "    try:\n",
        "        h, w = img.shape[0:2]\n",
        "        with open(gt_path,'r',encoding='utf-8-sig') as f:\n",
        "            lines = f.readlines()\n",
        "        bboxes = []\n",
        "        tags = []\n",
        "        for line in lines:\n",
        "            gt =  line.strip().strip('\\ufeff').strip('\\xef\\xbb\\xbf').split(\",\",8)\n",
        "            if gt[-1] == '###':\n",
        "                tags.append(False)\n",
        "            else:\n",
        "                tags.append(True)\n",
        "                \n",
        "            box = [int(gt[i]) for i in range(8)]\n",
        "            box = np.asarray(box) / ([w * 1.0, h * 1.0] * 4)\n",
        "            bboxes.append(box)\n",
        "        return np.array(bboxes), tags\n",
        "    except Exception as e:\n",
        "        print(\"Can't get image bbox:\" + gt_path)\n",
        "        raise e\n",
        "\n",
        "def random_horizontal_flip(imgs):\n",
        "    try:\n",
        "        if random.random() < 0.5:\n",
        "            for i in range(len(imgs)):\n",
        "                imgs[i] = np.flip(imgs[i], axis=1).copy()\n",
        "        return imgs\n",
        "    except Exception as e:\n",
        "        print(\"Can't randomly flip image\")\n",
        "        raise e\n",
        "\n",
        "def random_rotate(imgs):\n",
        "    try:\n",
        "        max_angle = 10\n",
        "        angle = random.random() * 2 * max_angle - max_angle\n",
        "        for i in range(len(imgs)):\n",
        "            img = imgs[i]\n",
        "            w, h = img.shape[:2]\n",
        "            rotation_matrix = cv2.getRotationMatrix2D((h / 2, w / 2), angle, 1)\n",
        "            img_rotation = cv2.warpAffine(img, rotation_matrix, (h, w))\n",
        "            imgs[i] = img_rotation\n",
        "        return imgs\n",
        "    except Exception as e:\n",
        "        print(\"Can't rotate image\")\n",
        "        raise e\n",
        "\n",
        "def scale(img, long_size=2240):\n",
        "    try:\n",
        "        h, w = img.shape[0:2]\n",
        "        scale = long_size * 1.0 / max(h, w)\n",
        "        img = cv2.resize(img, dsize=None, fx=scale, fy=scale)\n",
        "        return img\n",
        "    except Exception as e:\n",
        "        print(\"Can't scale image\")\n",
        "        raise e\n",
        "\n",
        "def random_scale(img, min_size):\n",
        "    try: \n",
        "        h, w = img.shape[0:2]\n",
        "        if max(h, w) > 1280:\n",
        "            scale = 1280.0 / max(h, w)\n",
        "            img = cv2.resize(img, dsize=None, fx=scale, fy=scale)\n",
        "\n",
        "        h, w = img.shape[0:2]\n",
        "        random_scale = np.array([0.5, 1.0, 2.0, 3.0])\n",
        "        scale = np.random.choice(random_scale)\n",
        "        if min(h, w) * scale <= min_size:\n",
        "            scale = (min_size + 10) * 1.0 / min(h, w)\n",
        "        img = cv2.resize(img, dsize=None, fx=scale, fy=scale)\n",
        "        return img\n",
        "    except Exception as e:\n",
        "        print(\"Can't random scale\")\n",
        "        raise e\n",
        "\n",
        "def random_crop(imgs, img_size):\n",
        "    try:\n",
        "        h, w = imgs[0].shape[0:2]\n",
        "        th, tw = img_size\n",
        "        if w == tw and h == th:\n",
        "            return imgs\n",
        "        \n",
        "        if random.random() > 3.0 / 8.0 and np.max(imgs[1]) > 0:\n",
        "            tl = np.min(np.where(imgs[1] > 0), axis = 1) - img_size\n",
        "            tl[tl < 0] = 0\n",
        "            br = np.max(np.where(imgs[1] > 0), axis = 1) - img_size\n",
        "            br[br < 0] = 0\n",
        "            br[0] = min(br[0], h - th)\n",
        "            br[1] = min(br[1], w - tw)\n",
        "            \n",
        "            i = random.randint(tl[0], br[0])\n",
        "            j = random.randint(tl[1], br[1])\n",
        "        else:\n",
        "            i = random.randint(0, h - th)\n",
        "            j = random.randint(0, w - tw)\n",
        "        \n",
        "        # return i, j, th, tw\n",
        "        for idx in range(len(imgs)):\n",
        "            if len(imgs[idx].shape) == 3:\n",
        "                imgs[idx] = imgs[idx][i:i + th, j:j + tw, :]\n",
        "            else:\n",
        "                imgs[idx] = imgs[idx][i:i + th, j:j + tw]\n",
        "        return imgs\n",
        "    except Exception as e:\n",
        "        print(\"Can't crop image\")\n",
        "        raise e\n",
        "\n",
        "\n",
        "\n",
        "def shrink(bboxes, rate, max_shr=20):\n",
        "    try:\n",
        "        rate = rate * rate\n",
        "        shrinked_bboxes = []\n",
        "        for bbox in bboxes:\n",
        "            #area\n",
        "            area = Polygon(bbox).area\n",
        "            #perimeter\n",
        "            peri = 0\n",
        "            for i in range(bbox.shape[0]):\n",
        "                peri += Point(bbox[i][0], bbox[i][1]).distance(Point(bbox[(i + 1) % bbox.shape[0]][0], bbox[(i + 1) % bbox.shape[0]][1]))\n",
        "\n",
        "            pco = pyclipper.PyclipperOffset()\n",
        "            pco.AddPath(bbox, pyclipper.JT_ROUND, pyclipper.ET_CLOSEDPOLYGON)\n",
        "            offset = min((int)(area * (1 - rate) / (peri + 0.001) + 0.5), max_shr)\n",
        "            \n",
        "            shrinked_bbox = pco.Execute(-offset)\n",
        "            if len(shrinked_bbox) == 0:\n",
        "                shrinked_bboxes.append(bbox)\n",
        "                continue\n",
        "            \n",
        "            shrinked_bbox = np.array(shrinked_bbox)[0]\n",
        "            if shrinked_bbox.shape[0] <= 2:\n",
        "                shrinked_bboxes.append(bbox)\n",
        "                continue\n",
        "            \n",
        "            shrinked_bboxes.append(shrinked_bbox)\n",
        "        \n",
        "        return np.array(shrinked_bboxes)\n",
        "    except Exception as e:\n",
        "        print(\"Can't skrink bbox\")\n",
        "        raise e\n",
        "\n",
        "def resize(image, anns,size):\n",
        "    h, w, c = image.shape\n",
        "    scale_w = size / w\n",
        "    scale_h = size / h\n",
        "    scale = min(scale_w, scale_h)\n",
        "    h = int(h * scale)\n",
        "    w = int(w * scale)\n",
        "    mean = np.mean(image, axis=(0,1))\n",
        "    \n",
        "    padimg = np.zeros((size, size, c), image.dtype)\n",
        "    padimg[:,:,0]=np.full((size, size), mean[0])\n",
        "    padimg[:,:,1]=np.full((size,size), mean[1])\n",
        "    padimg[:,:,2]=np.full((size,size), mean[2])\n",
        "    padimg[:h, :w] = cv2.resize(image, (w, h))\n",
        "    new_anns = []\n",
        "    for ann in anns:\n",
        "        # random_pad=np.random.randint(-10,10, size=(4, 2))\n",
        "        # poly =np.clip(poly*scale+random_pad, 1, size-1)\n",
        "        new_ann=ann*scale\n",
        "        new_ann=[int(i) for i in new_ann]\n",
        "        new_anns.append(new_ann)\n",
        "    return padimg, np.array(new_anns)"
      ]
    },
    {
      "cell_type": "code",
      "execution_count": null,
      "metadata": {
        "id": "-uQqFtJL8335"
      },
      "outputs": [],
      "source": [
        "class TrainLoader(data.Dataset):\n",
        "    def __init__(self, img_path, gt_path, is_transform=False, img_size=None, kernel_num=7, min_scale=0.4):\n",
        "        self.is_transform = is_transform\n",
        "        \n",
        "        self.img_size = img_size if (img_size is None or isinstance(img_size, tuple)) else (img_size, img_size)\n",
        "        self.kernel_num = kernel_num\n",
        "        self.min_scale = min_scale\n",
        "\n",
        "        img_names = [i for i in os.listdir(img_path) if i[-4:] == \".jpg\"]\n",
        "        self.img_paths = [os.path.join(img_path, img_name) for img_name in img_names]\n",
        "        self.gt_paths = [os.path.join(gt_path, img_name+\".txt\") for img_name in img_names]\n",
        "                \n",
        "    def __len__(self):\n",
        "        return len(self.img_paths)\n",
        "\n",
        "    def __getitem__(self, index):\n",
        "        try:\n",
        "            img_path = self.img_paths[index]\n",
        "            gt_path = self.gt_paths[index]\n",
        "            img = get_img(img_path)\n",
        "            bboxes, tags = get_bboxes(img, gt_path)\n",
        "            if self.is_transform:\n",
        "                img = random_scale(img, self.img_size[0])\n",
        "            gt_text = np.zeros(img.shape[0:2], dtype='uint8')\n",
        "            training_mask = np.ones(img.shape[0:2], dtype='uint8')\n",
        "            if bboxes.shape[0] > 0:\n",
        "                bboxes = np.reshape(bboxes * ([img.shape[1], img.shape[0]] * 4), (bboxes.shape[0], bboxes.shape[1] // 2, 2)).astype('int32')\n",
        "\n",
        "                for i in range(len(bboxes)):\n",
        "                    cv2.drawContours(gt_text, [bboxes[i]], -1, i + 1, -1)\n",
        "                    if not tags[i]:\n",
        "                        cv2.drawContours(training_mask, [bboxes[i]], -1, 0, -1)\n",
        "            gt_kernels = []\n",
        "            for i in range(1, self.kernel_num):\n",
        "                rate = 1.0 - (1.0 - self.min_scale) / (self.kernel_num - 1) * i\n",
        "                gt_kernel = np.zeros(img.shape[0:2], dtype='uint8')\n",
        "                kernel_bboxes = shrink(bboxes, rate)\n",
        "                for i in range(len(bboxes)):\n",
        "                    cv2.drawContours(gt_kernel, [kernel_bboxes[i]], -1, 1, -1)\n",
        "                gt_kernels.append(gt_kernel)\n",
        "\n",
        "            if self.is_transform:\n",
        "                imgs = [img, gt_text, training_mask]\n",
        "                imgs.extend(gt_kernels)\n",
        "\n",
        "                imgs = random_horizontal_flip(imgs)\n",
        "                imgs = random_rotate(imgs)\n",
        "                imgs = random_crop(imgs, self.img_size)\n",
        "\n",
        "                img, gt_text, training_mask, gt_kernels = imgs[0], imgs[1], imgs[2], imgs[3:]\n",
        "            \n",
        "            gt_text[gt_text > 0] = 1\n",
        "            gt_kernels = np.array(gt_kernels)\n",
        "\n",
        "            if self.is_transform:\n",
        "                img = Image.fromarray(img)\n",
        "                img = img.convert('RGB')\n",
        "                img = transforms.ColorJitter(brightness = 32.0 / 255, saturation = 0.5)(img)\n",
        "            else:\n",
        "                img = Image.fromarray(img)\n",
        "                img = img.convert('RGB')\n",
        "\n",
        "            img = transforms.ToTensor()(img)\n",
        "            img = transforms.Normalize(mean=[0.485, 0.456, 0.406], std=[0.229, 0.224, 0.225])(img)\n",
        "\n",
        "            gt_text = torch.from_numpy(gt_text).float()\n",
        "            gt_kernels = torch.from_numpy(gt_kernels).float()\n",
        "            training_mask = torch.from_numpy(training_mask).float()\n",
        "            # '''\n",
        "\n",
        "            return img, gt_text, gt_kernels, training_mask\n",
        "        except:\n",
        "            print(\"Dataset __getitem__ error \" + index)"
      ]
    },
    {
      "cell_type": "markdown",
      "source": [
        "##testloader\n"
      ],
      "metadata": {
        "id": "duxleLg4SEnP"
      }
    },
    {
      "cell_type": "code",
      "source": [
        "class TestLoader(data.Dataset):\n",
        "    def __init__(self, img_path, gt_path, part_id=0, part_num=1, long_size=2240):\n",
        "        img_names = [i for i in os.listdir(img_path) if i[-4:] == \".jpg\"]\n",
        "        self.img_paths = [os.path.join(img_path, img_name) for img_name in img_names]\n",
        "        self.gt_paths = [os.path.join(gt_path, img_name+\".txt\") for img_name in img_names]\n",
        "\n",
        "\n",
        "        part_size = len(self.img_paths) // part_num\n",
        "        l = part_id * part_size\n",
        "        r = (part_id + 1) * part_size\n",
        "        self.img_paths = self.img_paths[l:r]\n",
        "        self.long_size = long_size\n",
        "\n",
        "    def __len__(self):\n",
        "        return len(self.img_paths)\n",
        "\n",
        "    def __getitem__(self, index):\n",
        "        img_path = self.img_paths[index]\n",
        "        gt_path = self.gt_paths[index]\n",
        "\n",
        "        img = get_img(img_path)\n",
        "        with open(gt_path,'r',encoding='utf-8-sig') as f:\n",
        "            lines = f.readlines()\n",
        "        bboxes = []\n",
        "        tags = []\n",
        "        for line in lines:\n",
        "            gt =  line.strip().strip('\\ufeff').strip('\\xef\\xbb\\xbf').split(\",\",8)\n",
        "            if gt[-1] == '###':\n",
        "                tags.append(False)\n",
        "            else:\n",
        "                tags.append(True)\n",
        "                \n",
        "            box = np.array([int(gt[i]) for i in range(8)])\n",
        "            bboxes.append(box)\n",
        "        temp=max(img.shape)\n",
        "        # print(\"img_shape\",img.shape)\n",
        "        img,bboxes= resize(img, bboxes, temp)\n",
        "        # print(\"first\")\n",
        "        # print(\"img_shape_1\", img.shape)\n",
        "        # print(\"boxes\", bboxes)\n",
        "        scaled_img, bboxes = resize(img, bboxes ,640)\n",
        "        res=scaled_img\n",
        "        # print(\"scaled\", scaled_img.shape)\n",
        "        scaled_img = Image.fromarray(scaled_img)\n",
        "\n",
        "        scaled_img = scaled_img.convert('RGB')\n",
        "        scaled_img = transforms.ToTensor()(scaled_img)\n",
        "        scaled_img = transforms.Normalize(mean=[0.485, 0.456, 0.406], std=[0.229, 0.224, 0.225])(scaled_img)\n",
        "        text_box=res[:, :, [2, 1, 0]]\n",
        "        # print(\"LOADER\", np.array(bboxes))\n",
        "        return img[:, :, [2, 1, 0]], scaled_img, np.array(bboxes), np.array(tags),text_box"
      ],
      "metadata": {
        "id": "0nwcri1H-8VX"
      },
      "execution_count": null,
      "outputs": []
    },
    {
      "cell_type": "markdown",
      "metadata": {
        "id": "uo86LjcrkQlO"
      },
      "source": [
        "# Model"
      ]
    },
    {
      "cell_type": "code",
      "execution_count": null,
      "metadata": {
        "id": "SklSFawljy8e"
      },
      "outputs": [],
      "source": [
        "model_urls = {\n",
        "    'resnet18': 'https://download.pytorch.org/models/resnet18-5c106cde.pth',\n",
        "    'resnet34': 'https://download.pytorch.org/models/resnet34-333f7ec4.pth',\n",
        "    'resnet50': 'https://download.pytorch.org/models/resnet50-19c8e357.pth',\n",
        "    'resnet101': 'https://download.pytorch.org/models/resnet101-5d3mb4d8f.pth',\n",
        "    'resnet152': 'https://download.pytorch.org/models/resnet152-b121ed2d.pth',\n",
        "}\n",
        "\n",
        "def conv3x3(in_planes, out_planes, stride=1):\n",
        "    \"\"\"3x3 convolution with padding\"\"\"\n",
        "    return nn.Conv2d(in_planes, out_planes, kernel_size=3, stride=stride,\n",
        "                     padding=1, bias=False)\n",
        "\n",
        "\n",
        "class BasicBlock(nn.Module):\n",
        "    expansion = 1\n",
        "\n",
        "    def __init__(self, inplanes, planes, stride=1, downsample=None):\n",
        "        super(BasicBlock, self).__init__()\n",
        "        self.conv1 = conv3x3(inplanes, planes, stride)\n",
        "        self.bn1 = nn.BatchNorm2d(planes)\n",
        "        self.relu = nn.ReLU(inplace=True)\n",
        "        self.conv2 = conv3x3(planes, planes)\n",
        "        self.bn2 = nn.BatchNorm2d(planes)\n",
        "        self.downsample = downsample\n",
        "        self.stride = stride\n",
        "\n",
        "    def forward(self, x):\n",
        "        residual = x\n",
        "\n",
        "        out = self.conv1(x)\n",
        "        out = self.bn1(out)\n",
        "        out = self.relu(out)\n",
        "\n",
        "        out = self.conv2(out)\n",
        "        out = self.bn2(out)\n",
        "\n",
        "        if self.downsample is not None:\n",
        "            residual = self.downsample(x)\n",
        "\n",
        "        out += residual\n",
        "        out = self.relu(out)\n",
        "\n",
        "        return out\n",
        "\n",
        "\n",
        "class Bottleneck(nn.Module):\n",
        "    expansion = 4\n",
        "\n",
        "    def __init__(self, inplanes, planes, stride=1, downsample=None):\n",
        "        super(Bottleneck, self).__init__()\n",
        "        self.conv1 = nn.Conv2d(inplanes, planes, kernel_size=1, bias=False)\n",
        "        self.bn1 = nn.BatchNorm2d(planes)\n",
        "        self.conv2 = nn.Conv2d(planes, planes, kernel_size=3, stride=stride,\n",
        "                               padding=1, bias=False)\n",
        "        self.bn2 = nn.BatchNorm2d(planes)\n",
        "        self.conv3 = nn.Conv2d(planes, planes * 4, kernel_size=1, bias=False)\n",
        "        self.bn3 = nn.BatchNorm2d(planes * 4)\n",
        "        self.relu = nn.ReLU(inplace=True)\n",
        "        self.downsample = downsample\n",
        "        self.stride = stride\n",
        "\n",
        "    def forward(self, x):\n",
        "        residual = x\n",
        "\n",
        "        out = self.conv1(x)\n",
        "        out = self.bn1(out)\n",
        "        out = self.relu(out)\n",
        "\n",
        "        out = self.conv2(out)\n",
        "        out = self.bn2(out)\n",
        "        out = self.relu(out)\n",
        "\n",
        "        out = self.conv3(out)\n",
        "        out = self.bn3(out)\n",
        "\n",
        "        if self.downsample is not None:\n",
        "            residual = self.downsample(x)\n",
        "\n",
        "        out += residual\n",
        "        out = self.relu(out)\n",
        "\n",
        "        return out\n",
        "class ResNet(nn.Module):\n",
        "\n",
        "    def __init__(self, block, layers, num_classes=7, scale=1):\n",
        "        self.inplanes = 64\n",
        "        super(ResNet, self).__init__()\n",
        "        self.conv1 = nn.Conv2d(3, 64, kernel_size=7, stride=2, padding=3,\n",
        "                               bias=False)\n",
        "        self.bn1 = nn.BatchNorm2d(64)\n",
        "        self.relu1 = nn.ReLU(inplace=True)\n",
        "        self.maxpool = nn.MaxPool2d(kernel_size=3, stride=2, padding=1)\n",
        "        self.layer1 = self._make_layer(block, 64, layers[0])\n",
        "        self.layer2 = self._make_layer(block, 128, layers[1], stride=2)\n",
        "        self.layer3 = self._make_layer(block, 256, layers[2], stride=2)\n",
        "        self.layer4 = self._make_layer(block, 512, layers[3], stride=2)\n",
        "        # self.avgpool = nn.AvgPool2d(7, stride=1)\n",
        "        # self.fc = nn.Linear(512 * block.expansion, num_classes)\n",
        "\n",
        "        # Top layer\n",
        "        self.toplayer = nn.Conv2d(2048, 256, kernel_size=1, stride=1, padding=0)  # Reduce channels\n",
        "        self.toplayer_bn = nn.BatchNorm2d(256)\n",
        "        self.toplayer_relu = nn.ReLU(inplace=True)\n",
        "\n",
        "        # Smooth layers\n",
        "        self.smooth1 = nn.Conv2d(256, 256, kernel_size=3, stride=1, padding=1)\n",
        "        self.smooth1_bn = nn.BatchNorm2d(256)\n",
        "        self.smooth1_relu = nn.ReLU(inplace=True)\n",
        "\n",
        "        self.smooth2 = nn.Conv2d(256, 256, kernel_size=3, stride=1, padding=1)\n",
        "        self.smooth2_bn = nn.BatchNorm2d(256)\n",
        "        self.smooth2_relu = nn.ReLU(inplace=True)\n",
        "\n",
        "        self.smooth3 = nn.Conv2d(256, 256, kernel_size=3, stride=1, padding=1)\n",
        "        self.smooth3_bn = nn.BatchNorm2d(256)\n",
        "        self.smooth3_relu = nn.ReLU(inplace=True)\n",
        "\n",
        "        # Lateral layers\n",
        "        self.latlayer1 = nn.Conv2d(1024, 256, kernel_size=1, stride=1, padding=0)\n",
        "        self.latlayer1_bn = nn.BatchNorm2d(256)\n",
        "        self.latlayer1_relu = nn.ReLU(inplace=True)\n",
        "\n",
        "        self.latlayer2 = nn.Conv2d(512,  256, kernel_size=1, stride=1, padding=0)\n",
        "        self.latlayer2_bn = nn.BatchNorm2d(256)\n",
        "        self.latlayer2_relu = nn.ReLU(inplace=True)\n",
        "\n",
        "        self.latlayer3 = nn.Conv2d(256,  256, kernel_size=1, stride=1, padding=0)\n",
        "        self.latlayer3_bn = nn.BatchNorm2d(256)\n",
        "        self.latlayer3_relu = nn.ReLU(inplace=True)\n",
        "\n",
        "        self.conv2 = nn.Conv2d(1024, 256, kernel_size=3, stride=1, padding=1)\n",
        "        self.bn2 = nn.BatchNorm2d(256)\n",
        "        self.relu2 = nn.ReLU(inplace=True)\n",
        "        self.conv3 = nn.Conv2d(256, num_classes, kernel_size=1, stride=1, padding=0)\n",
        "\n",
        "        self.scale = scale\n",
        "        \n",
        "        for m in self.modules():\n",
        "            if isinstance(m, nn.Conv2d):\n",
        "                n = m.kernel_size[0] * m.kernel_size[1] * m.out_channels\n",
        "                m.weight.data.normal_(0, math.sqrt(2. / n))\n",
        "            elif isinstance(m, nn.BatchNorm2d):\n",
        "                m.weight.data.fill_(1)\n",
        "                m.bias.data.zero_()\n",
        "\n",
        "    def _make_layer(self, block, planes, blocks, stride=1):\n",
        "        downsample = None\n",
        "        if stride != 1 or self.inplanes != planes * block.expansion:\n",
        "            downsample = nn.Sequential(\n",
        "                nn.Conv2d(self.inplanes, planes * block.expansion,\n",
        "                          kernel_size=1, stride=stride, bias=False),\n",
        "                nn.BatchNorm2d(planes * block.expansion),\n",
        "            )\n",
        "\n",
        "        layers = []\n",
        "        layers.append(block(self.inplanes, planes, stride, downsample))\n",
        "        self.inplanes = planes * block.expansion\n",
        "        for i in range(1, blocks):\n",
        "            layers.append(block(self.inplanes, planes))\n",
        "\n",
        "        return nn.Sequential(*layers)\n",
        "\n",
        "    def _interpolate(self, x, y, scale=1):\n",
        "        _, _, H, W = y.size()\n",
        "        return F.interpolate(x, size=(H // scale, W // scale), mode='bilinear')\n",
        "\n",
        "    def _interpolate_add(self, x, y):\n",
        "        _, _, H, W = y.size()\n",
        "        return F.interpolate(x, size=(H, W), mode='bilinear') + y\n",
        "\n",
        "    def forward(self, x):\n",
        "        h = x\n",
        "        h = self.conv1(h)\n",
        "        h = self.bn1(h)\n",
        "        h = self.relu1(h)\n",
        "        h = self.maxpool(h)\n",
        "\n",
        "        h = self.layer1(h)\n",
        "        c2 = h\n",
        "        h = self.layer2(h)\n",
        "        c3 = h\n",
        "        h = self.layer3(h)\n",
        "        c4 = h\n",
        "        h = self.layer4(h)\n",
        "        c5 = h\n",
        "\n",
        "        # Top-down\n",
        "        p5 = self.toplayer(c5)\n",
        "        p5 = self.toplayer_relu(self.toplayer_bn(p5))\n",
        "\n",
        "        c4 = self.latlayer1(c4)\n",
        "        c4 = self.latlayer1_relu(self.latlayer1_bn(c4))\n",
        "        p4 = self._interpolate_add(p5, c4)\n",
        "        p4 = self.smooth1(p4)\n",
        "        p4 = self.smooth1_relu(self.smooth1_bn(p4))\n",
        "\n",
        "        c3 = self.latlayer2(c3)\n",
        "        c3 = self.latlayer2_relu(self.latlayer2_bn(c3))\n",
        "        p3 = self._interpolate_add(p4, c3)\n",
        "        p3 = self.smooth2(p3)\n",
        "        p3 = self.smooth2_relu(self.smooth2_bn(p3))        \n",
        "\n",
        "        c2 = self.latlayer3(c2)\n",
        "        c2 = self.latlayer3_relu(self.latlayer3_bn(c2))\n",
        "        p2 = self._interpolate_add(p3, c2)\n",
        "        p2 = self.smooth3(p2)\n",
        "        p2 = self.smooth3_relu(self.smooth3_bn(p2))\n",
        "\n",
        "        p3 = self._interpolate(p3, p2)\n",
        "        p4 = self._interpolate(p4, p2)\n",
        "        p5 = self._interpolate(p5, p2)\n",
        "\n",
        "        out = torch.cat((p2, p3, p4, p5), 1)\n",
        "        out = self.conv2(out)\n",
        "        out = self.relu2(self.bn2(out))\n",
        "        out = self.conv3(out)\n",
        "        out = self._interpolate(out, x, scale=self.scale)\n",
        "\n",
        "        return out\n",
        "\n",
        "\n",
        "def resnet18(pretrained=False, **kwargs):\n",
        "    \"\"\"Constructs a ResNet-18 model.\n",
        "    Args:\n",
        "        pretrained (bool): If True, returns a model pre-trained on ImageNet\n",
        "    \"\"\"\n",
        "    model = ResNet(BasicBlock, [2, 2, 2, 2], **kwargs)\n",
        "    if pretrained:\n",
        "        model.load_state_dict(model_zoo.load_url(model_urls['resnet18']))\n",
        "    return model\n",
        "\n",
        "\n",
        "def resnet34(pretrained=False, **kwargs):\n",
        "    \"\"\"Constructs a ResNet-34 model.\n",
        "    Args:\n",
        "        pretrained (bool): If True, returns a model pre-trained on ImageNet\n",
        "    \"\"\"\n",
        "    model = ResNet(BasicBlock, [3, 4, 6, 3], **kwargs)\n",
        "    if pretrained:\n",
        "        model.load_state_dict(model_zoo.load_url(model_urls['resnet34']))\n",
        "    return model\n",
        "\n",
        "\n",
        "def resnet50(pretrained=False, **kwargs):\n",
        "    \"\"\"Constructs a ResNet-50 model.\n",
        "    Args:\n",
        "        pretrained (bool): If True, returns a model pre-trained on ImageNet\n",
        "    \"\"\"\n",
        "    model = ResNet(Bottleneck, [3, 4, 6, 3], **kwargs)\n",
        "    if pretrained:\n",
        "        pretrained_model = model_zoo.load_url(model_urls['resnet50'])\n",
        "        state = model.state_dict()\n",
        "        for key in state.keys():\n",
        "            if key in pretrained_model.keys():\n",
        "                state[key] = pretrained_model[key]\n",
        "        model.load_state_dict(state)\n",
        "    return model\n",
        "\n",
        "\n",
        "def resnet101(pretrained=False, **kwargs):\n",
        "    \"\"\"Constructs a ResNet-101 model.\n",
        "    Args:\n",
        "        pretrained (bool): If True, returns a model pre-trained on ImageNet\n",
        "    \"\"\"\n",
        "    model = ResNet(Bottleneck, [3, 4, 23, 3], **kwargs)\n",
        "    if pretrained:\n",
        "        pretrained_model = model_zoo.load_url(model_urls['resnet101'])\n",
        "        state = model.state_dict()\n",
        "        for key in state.keys():\n",
        "            if key in pretrained_model.keys():\n",
        "                state[key] = pretrained_model[key]\n",
        "        model.load_state_dict(state)\n",
        "    return model\n",
        "\n",
        "def resnet152(pretrained=False, **kwargs):\n",
        "    \"\"\"Constructs a ResNet-152 model.\n",
        "    Args:\n",
        "        pretrained (bool): If True, returns a model pre-trained on ImageNet\n",
        "    \"\"\"\n",
        "    model = ResNet(Bottleneck, [3, 8, 36, 3], **kwargs)\n",
        "    if pretrained:\n",
        "        pretrained_model = model_zoo.load_url(model_urls['resnet152'])\n",
        "        state = model.state_dict()\n",
        "        for key in state.keys():\n",
        "            if key in pretrained_model.keys():\n",
        "                state[key] = pretrained_model[key]\n",
        "        model.load_state_dict(state)\n",
        "    return model"
      ]
    },
    {
      "cell_type": "markdown",
      "metadata": {
        "id": "5KEksyx8mUHT"
      },
      "source": [
        "#Metric"
      ]
    },
    {
      "cell_type": "code",
      "execution_count": null,
      "metadata": {
        "id": "vLM9cBM5mV2r"
      },
      "outputs": [],
      "source": [
        "class runningScore(object):\n",
        "\n",
        "    def __init__(self, n_classes):\n",
        "        self.n_classes = n_classes\n",
        "        self.confusion_matrix = np.zeros((n_classes, n_classes))\n",
        "\n",
        "    def _fast_hist(self, label_true, label_pred, n_class):\n",
        "        mask = (label_true >= 0) & (label_true < n_class)\n",
        "\n",
        "        if np.sum((label_pred[mask] < 0)) > 0:\n",
        "            print (label_pred[label_pred < 0])\n",
        "        hist = np.bincount(\n",
        "            n_class * label_true[mask].astype(int) +\n",
        "            label_pred[mask], minlength=n_class**2).reshape(n_class, n_class)\n",
        "        return hist\n",
        "\n",
        "    def update(self, label_trues, label_preds):\n",
        "        # print label_trues.dtype, label_preds.dtype\n",
        "        for lt, lp in zip(label_trues, label_preds):\n",
        "            self.confusion_matrix += self._fast_hist(lt.flatten(), lp.flatten(), self.n_classes)\n",
        "\n",
        "    def get_scores(self):\n",
        "        \"\"\"Returns accuracy score evaluation result.\n",
        "            - overall accuracy\n",
        "            - mean accuracy\n",
        "            - mean IU\n",
        "            - fwavacc\n",
        "        \"\"\"\n",
        "        hist = self.confusion_matrix\n",
        "        acc = np.diag(hist).sum() / (hist.sum() + 0.0001)\n",
        "        acc_cls = np.diag(hist) / (hist.sum(axis=1) + 0.0001)\n",
        "        acc_cls = np.nanmean(acc_cls)\n",
        "        iu = np.diag(hist) / (hist.sum(axis=1) + hist.sum(axis=0) - np.diag(hist) + 0.0001)\n",
        "        mean_iu = np.nanmean(iu)\n",
        "        freq = hist.sum(axis=1) / (hist.sum() + 0.0001)\n",
        "        fwavacc = (freq[freq > 0] * iu[freq > 0]).sum()\n",
        "        cls_iu = dict(zip(range(self.n_classes), iu))\n",
        "\n",
        "        return {'Overall Acc': acc,\n",
        "                'Mean Acc': acc_cls,\n",
        "                'FreqW Acc': fwavacc,\n",
        "                'Mean IoU': mean_iu,}, cls_iu\n",
        "\n",
        "    def reset(self):\n",
        "        self.confusion_matrix = np.zeros((self.n_classes, self.n_classes))"
      ]
    },
    {
      "cell_type": "markdown",
      "metadata": {
        "id": "41Y1aOP9nYI4"
      },
      "source": [
        "# Train"
      ]
    },
    {
      "cell_type": "code",
      "execution_count": null,
      "metadata": {
        "id": "jfjtYg_Ipaer"
      },
      "outputs": [],
      "source": [
        "class AverageMeter(object):\n",
        "    \"\"\"Computes and stores the average and current value\"\"\"\n",
        "    def __init__(self):\n",
        "        self.reset()\n",
        "\n",
        "    def reset(self):\n",
        "        self.val = 0\n",
        "        self.avg = 0\n",
        "        self.sum = 0\n",
        "        self.count = 0\n",
        "\n",
        "    def update(self, val, n=1):\n",
        "        self.val = val\n",
        "        self.sum += val * n\n",
        "        self.count += n\n",
        "        self.avg = self.sum / self.count"
      ]
    },
    {
      "cell_type": "code",
      "execution_count": null,
      "metadata": {
        "id": "b8INhYrRp_UV"
      },
      "outputs": [],
      "source": [
        "import matplotlib\n",
        "matplotlib.use('pdf')\n",
        "\n",
        "def savefig(fname, dpi=None):\n",
        "    dpi = 150 if dpi == None else dpi\n",
        "    plt.savefig(fname, dpi=dpi)\n",
        "    \n",
        "def plot_overlap(logger, names=None):\n",
        "    names = logger.names if names == None else names\n",
        "    numbers = logger.numbers\n",
        "    for _, name in enumerate(names):\n",
        "        x = np.arange(len(numbers[name]))\n",
        "        plt.plot(x, np.asarray(numbers[name]))\n",
        "    return [logger.title + '(' + name + ')' for name in names]\n",
        "\n",
        "class Logger(object):\n",
        "    '''Save training process to log file with simple plot function.'''\n",
        "    def __init__(self, fpath, title=None, resume=False): \n",
        "        self.file = None\n",
        "        self.resume = resume\n",
        "        self.title = '' if title == None else title\n",
        "        if fpath is not None:\n",
        "            if resume: \n",
        "                self.file = open(fpath, 'r') \n",
        "                name = self.file.readline()\n",
        "                self.names = name.rstrip().split('\\t')\n",
        "                self.numbers = {}\n",
        "                for _, name in enumerate(self.names):\n",
        "                    self.numbers[name] = []\n",
        "\n",
        "                for numbers in self.file:\n",
        "                    numbers = numbers.rstrip().split('\\t')\n",
        "                    for i in range(0, len(numbers)):\n",
        "                        self.numbers[self.names[i]].append(numbers[i])\n",
        "                self.file.close()\n",
        "                self.file = open(fpath, 'a')  \n",
        "            else:\n",
        "                self.file = open(fpath, 'w')\n",
        "\n",
        "    def set_names(self, names):\n",
        "        if self.resume: \n",
        "            pass\n",
        "        # initialize numbers as empty list\n",
        "        self.numbers = {}\n",
        "        self.names = names\n",
        "        for _, name in enumerate(self.names):\n",
        "            self.file.write(name)\n",
        "            self.file.write('\\t')\n",
        "            self.numbers[name] = []\n",
        "        self.file.write('\\n')\n",
        "        self.file.flush()\n",
        "\n",
        "\n",
        "    def append(self, numbers):\n",
        "        assert len(self.names) == len(numbers), 'Numbers do not match names'\n",
        "        for index, num in enumerate(numbers):\n",
        "            self.file.write(\"{0:.6f}\".format(num))\n",
        "            self.file.write('\\t')\n",
        "            self.numbers[self.names[index]].append(num)\n",
        "        self.file.write('\\n')\n",
        "        self.file.flush()\n",
        "\n",
        "    def plot(self, names=None):   \n",
        "        print('plot')\n",
        "        '''\n",
        "        names = self.names if names == None else names\n",
        "        numbers = self.numbers\n",
        "        for _, name in enumerate(names):\n",
        "            x = np.arange(len(numbers[name]))\n",
        "            plt.plot(x, np.asarray(numbers[name]))\n",
        "        plt.legend([self.title + '(' + name + ')' for name in names])\n",
        "        plt.grid(True)\n",
        "        '''\n",
        "\n",
        "    def close(self):\n",
        "        if self.file is not None:\n",
        "            self.file.close()"
      ]
    },
    {
      "cell_type": "code",
      "execution_count": null,
      "metadata": {
        "id": "k_pFp2njnaFM"
      },
      "outputs": [],
      "source": [
        "def ohem_single(score, gt_text, training_mask):\n",
        "    pos_num = (int)(np.sum(gt_text > 0.5)) - (int)(np.sum((gt_text > 0.5) & (training_mask <= 0.5)))\n",
        "    \n",
        "    if pos_num == 0:\n",
        "        # selected_mask = gt_text.copy() * 0 # may be not good\n",
        "        selected_mask = training_mask\n",
        "        selected_mask = selected_mask.reshape(1, selected_mask.shape[0], selected_mask.shape[1]).astype('float32')\n",
        "        return selected_mask\n",
        "    \n",
        "    neg_num = (int)(np.sum(gt_text <= 0.5))\n",
        "    neg_num = (int)(min(pos_num * 3, neg_num))\n",
        "    \n",
        "    if neg_num == 0:\n",
        "        selected_mask = training_mask\n",
        "        selected_mask = selected_mask.reshape(1, selected_mask.shape[0], selected_mask.shape[1]).astype('float32')\n",
        "        return selected_mask\n",
        "\n",
        "    neg_score = score[gt_text <= 0.5]\n",
        "    neg_score_sorted = np.sort(-neg_score)\n",
        "    threshold = -neg_score_sorted[neg_num - 1]\n",
        "\n",
        "    selected_mask = ((score >= threshold) | (gt_text > 0.5)) & (training_mask > 0.5)\n",
        "    selected_mask = selected_mask.reshape(1, selected_mask.shape[0], selected_mask.shape[1]).astype('float32')\n",
        "    return selected_mask\n",
        "\n",
        "def ohem_batch(scores, gt_texts, training_masks):\n",
        "    scores = scores.data.cpu().numpy()\n",
        "    gt_texts = gt_texts.data.cpu().numpy()\n",
        "    training_masks = training_masks.data.cpu().numpy()\n",
        "\n",
        "    selected_masks = []\n",
        "    for i in range(scores.shape[0]):\n",
        "        selected_masks.append(ohem_single(scores[i, :, :], gt_texts[i, :, :], training_masks[i, :, :]))\n",
        "\n",
        "    selected_masks = np.concatenate(selected_masks, 0)\n",
        "    selected_masks = torch.from_numpy(selected_masks).float()\n",
        "\n",
        "    return selected_masks\n",
        "\n",
        "def dice_loss(input, target, mask):\n",
        "    input = torch.sigmoid(input)\n",
        "\n",
        "    input = input.contiguous().view(input.size()[0], -1)\n",
        "    target = target.contiguous().view(target.size()[0], -1)\n",
        "    mask = mask.contiguous().view(mask.size()[0], -1)\n",
        "    \n",
        "    input = input * mask\n",
        "    target = target * mask\n",
        "\n",
        "    a = torch.sum(input * target, 1)\n",
        "    b = torch.sum(input * input, 1) + 0.001\n",
        "    c = torch.sum(target * target, 1) + 0.001\n",
        "    d = (2 * a) / (b + c)\n",
        "    dice_loss = torch.mean(d)\n",
        "    return 1 - dice_loss\n",
        "\n",
        "def cal_text_score(texts, gt_texts, training_masks, running_metric_text):\n",
        "    training_masks = training_masks.data.cpu().numpy()\n",
        "    pred_text = torch.sigmoid(texts).data.cpu().numpy() * training_masks\n",
        "    pred_text[pred_text <= 0.5] = 0\n",
        "    pred_text[pred_text >  0.5] = 1\n",
        "    pred_text = pred_text.astype(np.int32)\n",
        "    gt_text = gt_texts.data.cpu().numpy() * training_masks\n",
        "    gt_text = gt_text.astype(np.int32)\n",
        "    running_metric_text.update(gt_text, pred_text)\n",
        "    score_text, _ = running_metric_text.get_scores()\n",
        "    return score_text\n",
        "\n",
        "def cal_kernel_score(kernels, gt_kernels, gt_texts, training_masks, running_metric_kernel):\n",
        "    mask = (gt_texts * training_masks).data.cpu().numpy()\n",
        "    kernel = kernels[:, -1, :, :]\n",
        "    gt_kernel = gt_kernels[:, -1, :, :]\n",
        "    pred_kernel = torch.sigmoid(kernel).data.cpu().numpy()\n",
        "    pred_kernel[pred_kernel <= 0.5] = 0\n",
        "    pred_kernel[pred_kernel >  0.5] = 1\n",
        "    pred_kernel = (pred_kernel * mask).astype(np.int32)\n",
        "    gt_kernel = gt_kernel.data.cpu().numpy()\n",
        "    gt_kernel = (gt_kernel * mask).astype(np.int32)\n",
        "    running_metric_kernel.update(gt_kernel, pred_kernel)\n",
        "    score_kernel, _ = running_metric_kernel.get_scores()\n",
        "    return score_kernel\n",
        "\n",
        "def train(train_loader, model, criterion, optimizer, epoch):\n",
        "    print(\"train\")\n",
        "    model.train()\n",
        "\n",
        "    batch_time = AverageMeter()\n",
        "    data_time = AverageMeter()\n",
        "    losses = AverageMeter()\n",
        "    running_metric_text = runningScore(2)\n",
        "    running_metric_kernel = runningScore(2)\n",
        "\n",
        "    end = time.time()\n",
        "    for batch_idx, (imgs, gt_texts, gt_kernels, training_masks) in enumerate(train_loader):\n",
        "        data_time.update(time.time() - end)\n",
        "\n",
        "        imgs = Variable(imgs.to(device))\n",
        "        gt_texts = Variable(gt_texts.to(device))\n",
        "        gt_kernels = Variable(gt_kernels.to(device))\n",
        "        training_masks = Variable(training_masks.to(device))\n",
        "\n",
        "        outputs = model(imgs)\n",
        "        texts = outputs[:, 0, :, :]\n",
        "        kernels = outputs[:, 1:, :, :]\n",
        "\n",
        "        selected_masks = ohem_batch(texts, gt_texts, training_masks)\n",
        "        selected_masks = Variable(selected_masks.to(device))\n",
        "\n",
        "        loss_text = criterion(texts, gt_texts, selected_masks)\n",
        "        \n",
        "        loss_kernels = []\n",
        "        mask0 = torch.sigmoid(texts).data.cpu().numpy()\n",
        "        mask1 = training_masks.data.cpu().numpy()\n",
        "        selected_masks = ((mask0 > 0.5) & (mask1 > 0.5)).astype('float32')\n",
        "        selected_masks = torch.from_numpy(selected_masks).float()\n",
        "        selected_masks = Variable(selected_masks.to(device))\n",
        "        for i in range(6):\n",
        "            kernel_i = kernels[:, i, :, :]\n",
        "            gt_kernel_i = gt_kernels[:, i, :, :]\n",
        "            loss_kernel_i = criterion(kernel_i, gt_kernel_i, selected_masks)\n",
        "            loss_kernels.append(loss_kernel_i)\n",
        "        loss_kernel = sum(loss_kernels) / len(loss_kernels)\n",
        "        \n",
        "        loss = 0.7 * loss_text + 0.3 * loss_kernel\n",
        "        # print(loss_text, loss_kernel, loss)\n",
        "        losses.update(loss.item(), imgs.size(0))\n",
        "\n",
        "        optimizer.zero_grad()\n",
        "        loss.backward()\n",
        "        optimizer.step()\n",
        "\n",
        "        score_text = cal_text_score(texts, gt_texts, training_masks, running_metric_text)\n",
        "        score_kernel = cal_kernel_score(kernels, gt_kernels, gt_texts, training_masks, running_metric_kernel)\n",
        "\n",
        "        batch_time.update(time.time() - end)\n",
        "        end = time.time()\n",
        "\n",
        "        if batch_idx % 20 == 0:\n",
        "            output_log  = '({batch}/{size}) Batch: {bt:.3f}s | TOTAL: {total:.0f}min | ETA: {eta:.0f}min | Loss: {loss:.4f} | Acc_t: {acc: .4f} | IOU_t: {iou_t: .4f} | IOU_k: {iou_k: .4f}'.format(\n",
        "                batch=batch_idx + 1,\n",
        "                size=len(train_loader),\n",
        "                bt=batch_time.avg,\n",
        "                total=batch_time.avg * batch_idx / 60.0,\n",
        "                eta=batch_time.avg * (len(train_loader) - batch_idx) / 60.0,\n",
        "                loss=losses.avg,\n",
        "                acc=score_text['Mean Acc'],\n",
        "                iou_t=score_text['Mean IoU'],\n",
        "                iou_k=score_kernel['Mean IoU'])\n",
        "            print(output_log)\n",
        "            sys.stdout.flush()\n",
        "    return (losses.avg, score_text['Mean Acc'], score_kernel['Mean Acc'], score_text['Mean IoU'], score_kernel['Mean IoU'])\n",
        "\n",
        "# def adjust_learning_rate(args, optimizer, epoch):\n",
        "#     global state\n",
        "#     if epoch in args.schedule:\n",
        "#         args.lr = args.lr * 0.1\n",
        "#         for param_group in optimizer.param_groups:\n",
        "#             param_group['lr'] = args.lr\n",
        "\n",
        "def save_checkpoint(state, checkpoint='checkpoint', filename='checkpoint.pth.tar'):\n",
        "    filepath = os.path.join(checkpoint, filename)\n",
        "    torch.save(state, filepath)"
      ]
    },
    {
      "cell_type": "markdown",
      "source": [
        "# Test"
      ],
      "metadata": {
        "id": "CkmfQEuM62m7"
      }
    },
    {
      "cell_type": "code",
      "source": [
        "import queue as Queue\n",
        "\n",
        "def pse(kernals, min_area):\n",
        "    kernal_num = len(kernals)\n",
        "    pred = np.zeros(kernals[0].shape, dtype='int32')\n",
        "    \n",
        "    label_num, label = cv2.connectedComponents(kernals[kernal_num - 1], connectivity=4)\n",
        "    \n",
        "    for label_idx in range(1, label_num):\n",
        "        if np.sum(label == label_idx) < min_area:\n",
        "            label[label == label_idx] = 0\n",
        "\n",
        "    queue = Queue.Queue(maxsize = 0)\n",
        "    next_queue = Queue.Queue(maxsize = 0)\n",
        "    points = np.array(np.where(label > 0)).transpose((1, 0))\n",
        "    \n",
        "    for point_idx in range(points.shape[0]):\n",
        "        x, y = points[point_idx, 0], points[point_idx, 1]\n",
        "        l = label[x, y]\n",
        "        queue.put((x, y, l))\n",
        "        pred[x, y] = l\n",
        "\n",
        "    dx = [-1, 1, 0, 0]\n",
        "    dy = [0, 0, -1, 1]\n",
        "    for kernal_idx in range(kernal_num - 2, -1, -1):\n",
        "        kernal = kernals[kernal_idx].copy()\n",
        "        while not queue.empty():\n",
        "            (x, y, l) = queue.get()\n",
        "\n",
        "            is_edge = True\n",
        "            for j in range(4):\n",
        "                tmpx = x + dx[j]\n",
        "                tmpy = y + dy[j]\n",
        "                if tmpx < 0 or tmpx >= kernal.shape[0] or tmpy < 0 or tmpy >= kernal.shape[1]:\n",
        "                    continue\n",
        "                if kernal[tmpx, tmpy] == 0 or pred[tmpx, tmpy] > 0:\n",
        "                    continue\n",
        "\n",
        "                queue.put((tmpx, tmpy, l))\n",
        "                pred[tmpx, tmpy] = l\n",
        "                is_edge = False\n",
        "            if is_edge:\n",
        "                next_queue.put((x, y, l))\n",
        "        \n",
        "        # kernal[pred > 0] = 0\n",
        "        queue, next_queue = next_queue, queue\n",
        "        \n",
        "        # points = np.array(np.where(pred > 0)).transpose((1, 0))\n",
        "        # for point_idx in range(points.shape[0]):\n",
        "        #     x, y = points[point_idx, 0], points[point_idx, 1]\n",
        "        #     l = pred[x, y]\n",
        "        #     queue.put((x, y, l))\n",
        "\n",
        "    return pred"
      ],
      "metadata": {
        "id": "PqDpyaHb64rE"
      },
      "execution_count": null,
      "outputs": []
    },
    {
      "cell_type": "code",
      "source": [
        "def extend_3c(img):\n",
        "    img = img.reshape(img.shape[0], img.shape[1], 1)\n",
        "    img = np.concatenate((img, img, img), axis=2)\n",
        "    return img\n",
        "\n",
        "def debug(idx, img_paths, imgs, output_root):\n",
        "    if not os.path.exists(output_root):\n",
        "        os.makedirs(output_root)\n",
        "    col = []\n",
        "    for i in range(len(imgs)):\n",
        "        row = []\n",
        "        for j in range(len(imgs[i])):\n",
        "            # img = cv2.copyMakeBorder(imgs[i][j], 3, 3, 3, 3, cv2.BORDER_CONSTANT, value=[255, 0, 0])\n",
        "            row.append(imgs[i][j])\n",
        "        res = np.concatenate(row, axis=1)\n",
        "        col.append(res)\n",
        "    res = np.concatenate(col, axis=0)\n",
        "    img_name = img_paths[idx].split('/')[-1]\n",
        "    print(idx, '/', len(img_paths), img_name)\n",
        "    cv2.imwrite(output_root + img_name, res)\n",
        "\n",
        "def write_result_as_txt(image_name, bboxes, path):\n",
        "    filename = os.path.join(path, 'res_%s.txt'%(image_name))\n",
        "    lines = []\n",
        "    for b_idx, bbox in enumerate(bboxes):\n",
        "        values = [int(v) for v in bbox]\n",
        "        line = \"%d, %d, %d, %d, %d, %d, %d, %d\\n\"%tuple(values)\n",
        "        lines.append(line)\n",
        "    parent = os.path.split(filename)[0]\n",
        "    if not os.path.exists(parent):\n",
        "        os.makedirs(parent)\n",
        "    with open(filename, \"w\") as f:\n",
        "        for line in lines:\n",
        "            f.write(line)\n",
        "\n",
        "# def polygon_from_points(points):\n",
        "#     \"\"\"\n",
        "#     Returns a Polygon object to use with the Polygon2 class from a list of 8 points: x1,y1,x2,y2,x3,y3,x4,y4\n",
        "#     \"\"\"\n",
        "#     resBoxes=np.empty([1, 8],dtype='int32')\n",
        "#     resBoxes[0, 0] = int(points[0])\n",
        "#     resBoxes[0, 4] = int(points[1])\n",
        "#     resBoxes[0, 1] = int(points[2])\n",
        "#     resBoxes[0, 5] = int(points[3])\n",
        "#     resBoxes[0, 2] = int(points[4])\n",
        "#     resBoxes[0, 6] = int(points[5])\n",
        "#     resBoxes[0, 3] = int(points[6])\n",
        "#     resBoxes[0, 7] = int(points[7])\n",
        "#     pointMat = resBoxes[0].reshape([2, 4]).T\n",
        "#     return plg.Polygon(pointMat)"
      ],
      "metadata": {
        "id": "WD3Zp66XSoII"
      },
      "execution_count": null,
      "outputs": []
    },
    {
      "cell_type": "markdown",
      "source": [
        "##test_func"
      ],
      "metadata": {
        "id": "r85vH8klSfN7"
      }
    },
    {
      "cell_type": "code",
      "source": [
        "\n",
        "\n",
        "\n",
        "from google.colab.patches import cv2_imshow\n",
        "\n",
        "def test(data_loader, model):\n",
        "    print(\"test\")\n",
        "    test_loader = torch.utils.data.DataLoader(\n",
        "        data_loader,\n",
        "        batch_size=1,\n",
        "        shuffle=False,\n",
        "        num_workers=1,\n",
        "        drop_last=True\n",
        "    )\n",
        "    binary_th = 1.0\n",
        "    kernel_num = 7\n",
        "    min_kernel_area = 5.0\n",
        "    scale = 1.0\n",
        "    min_area = 800.0\n",
        "    min_score = 0.93\n",
        "\n",
        "    metric_cls = QuadMetric()\n",
        "    model.eval()\n",
        "    \n",
        "    raw_metrics = []\n",
        "    total_frame = 0.0\n",
        "    total_time = 0.0\n",
        "    with torch.no_grad():\n",
        "        for idx, (org_img, img, val_bboxes, val_tags, box) in enumerate(test_loader):\n",
        "            print('progress: %d / %d'%(idx, len(test_loader)))\n",
        "            # val_bboxes = val_bboxes.data.cpu().numpy()[0].astype(np.uint8)\n",
        "            val_bboxes=val_bboxes[0].cpu().numpy()\n",
        "\n",
        "            val_bboxes = [[[j[0],j[1]],[j[2],j[3]],[j[4],j[5]],[j[6],j[7]]] for j in val_bboxes]\n",
        "            val_tags = val_tags.data.cpu().numpy()[0].astype(np.uint8)\n",
        "            sys.stdout.flush()\n",
        "            img = img.to(device)\n",
        "            org_img = org_img.numpy().astype('uint8')[0]\n",
        "            box = box.numpy().astype('uint8')[0]\n",
        "            text_box = box.copy()\n",
        "            torch.cuda.synchronize()\n",
        "            start = time.time()\n",
        "\n",
        "            outputs = model(img)\n",
        "\n",
        "            score = torch.sigmoid(outputs[:, 0, :, :])\n",
        "            outputs = (torch.sign(outputs - binary_th) + 1) / 2\n",
        "\n",
        "            text = outputs[:, 0, :, :]\n",
        "            kernels = outputs[:, 0:kernel_num, :, :] * text\n",
        "\n",
        "            score = score.data.cpu().numpy()[0].astype(np.float32)\n",
        "            text = text.data.cpu().numpy()[0].astype(np.uint8)\n",
        "            kernels = kernels.data.cpu().numpy()[0].astype(np.uint8)\n",
        "            \n",
        "            pred = pse(kernels, min_kernel_area / (scale * scale))\n",
        "            \n",
        "            # t_scale = (org_img.shape[0] * 1.0 / pred.shape[0], org_img.shape[1] * 1.0 / pred.shape[1])\n",
        "            t_scale = (org_img.shape[1] * 1.0 / pred.shape[1], org_img.shape[0] * 1.0 / pred.shape[0])\n",
        "            label = pred\n",
        "            label_num = np.max(label) + 1\n",
        "            pred_bboxes = []\n",
        "            for i in range(1, label_num):\n",
        "                points = np.array(np.where(label == i)).transpose((1, 0))[:, ::-1]\n",
        "                if points.shape[0] < (min_area / (scale * scale)):\n",
        "                    continue\n",
        "\n",
        "                score_i = np.mean(score[label == i])\n",
        "                if score_i < min_score:\n",
        "                    continue\n",
        "                print(t_scale)\n",
        "                rect = cv2.minAreaRect(points)\n",
        "                bbox = cv2.boxPoints(rect) \n",
        "                bbox = bbox.astype('int32')\n",
        "                pred_bboxes.append(bbox.reshape(-1))\n",
        "            torch.cuda.synchronize()\n",
        "            end = time.time()\n",
        "            total_frame += 1\n",
        "            total_time += (end - start)\n",
        "            print('fps: %.2f'%(total_frame / total_time))\n",
        "            sys.stdout.flush()\n",
        "            # print(\"SUPER SHAPE\", text_box.shape)\n",
        "            for bbox in pred_bboxes:\n",
        "                cv2.drawContours(text_box, [bbox.reshape(4, 2)], -1, (0, 255, 0), 2)\n",
        "\n",
        "            image_name = data_loader.img_paths[idx].split('/')[-1].split('.')[0]\n",
        "            # write_result_as_txt(image_name, pred_bboxes, 'drive/MyDrive/outputs/pred_gts/')\n",
        "            \n",
        "            # text_box = cv2.resize(text_box, (text.shape[1], text.shape[0]))\n",
        "            # cv2_imshow(text_box)\n",
        "            # debug(idx, data_loader.img_paths, [[text_box]], 'drive/MyDrive/outputs/pred_images/')\n",
        "            \n",
        "            # val_bboxes = [[[[j[0],j[1]],[j[2], j[3]],[j[4], j[5]],[j[6], j[7]]] for j in val_bboxes[:,:8]]]\n",
        "            pred_bboxes = np.array(pred_bboxes).reshape(len(pred_bboxes), 4, 2)\n",
        "\n",
        "\n",
        "\n",
        "            # print(\"PREDICT\",pred_bboxes)\n",
        "            # print(\"GROUND_TRUTH2\", val_bboxes)\n",
        "            tags=[]\n",
        "            print(val_tags)\n",
        "            for i in val_tags:\n",
        "                if i==1:\n",
        "                    tags.append(False)\n",
        "                else:\n",
        "                    tags.append(True)\n",
        "\n",
        "            valid_batch={\"anns\": val_bboxes, \"ignore_tags\": tags}\n",
        "            \n",
        "            raw_metric = metric_cls.validate_measure(valid_batch, pred_bboxes)\n",
        "            raw_metrics.append(raw_metric)\n",
        "           \n",
        "    metrics = metric_cls.gather_measure(raw_metrics)\n",
        "    recall = metrics['recall'].avg\n",
        "    precision = metrics['precision'].avg\n",
        "    hmean = metrics['fmeasure'].avg\n",
        "    print(\"hmean\", hmean)\n",
        "    print(\"precision\", precision)\n",
        "    print(\"recall\", recall)\n",
        "    print(\"done test\")\n",
        "\n",
        "\n"
      ],
      "metadata": {
        "id": "d0BMZrHt66Bh"
      },
      "execution_count": null,
      "outputs": []
    },
    {
      "cell_type": "code",
      "source": [],
      "metadata": {
        "id": "fvnbeYg7b-wv"
      },
      "execution_count": null,
      "outputs": []
    },
    {
      "cell_type": "markdown",
      "source": [
        "#Evaluate"
      ],
      "metadata": {
        "id": "-vUR_CYRZyB2"
      }
    },
    {
      "cell_type": "code",
      "source": [
        "\n",
        "from collections import namedtuple\n",
        "import numpy as np\n",
        "from shapely.geometry import Polygon\n",
        "\n",
        "\n",
        "class DetectionIoUEvaluator(object):\n",
        "    def __init__(self, iou_constraint=0.5, area_precision_constraint=0.5):\n",
        "        self.iou_constraint = iou_constraint\n",
        "        self.area_precision_constraint = area_precision_constraint\n",
        "\n",
        "    def evaluate_image(self, gt, pred):\n",
        "        def get_union(pD, pG):\n",
        "            pD = Polygon(pD).buffer(0)\n",
        "            pG = Polygon(pG).buffer(0)\n",
        "            return pD.union(pG).area\n",
        "\n",
        "        def get_intersection_over_union(pD, pG):\n",
        "            iou = get_intersection(pD, pG) / get_union(pD, pG)\n",
        "            return iou\n",
        "\n",
        "        def get_intersection(pD, pG):\n",
        "            pD = Polygon(pD).buffer(0)\n",
        "            pG = Polygon(pG).buffer(0)\n",
        "            return pD.intersection(pG).area\n",
        "\n",
        "        def compute_ap(confList, matchList, numGtCare):\n",
        "            correct = 0\n",
        "            AP = 0\n",
        "            if len(confList) > 0:\n",
        "                confList = np.array(confList)\n",
        "                matchList = np.array(matchList)\n",
        "                sorted_ind = np.argsort(-confList)\n",
        "                confList = confList[sorted_ind]\n",
        "                matchList = matchList[sorted_ind]\n",
        "                for n in range(len(confList)):\n",
        "                    match = matchList[n]\n",
        "                    if match:\n",
        "                        correct += 1\n",
        "                        AP += float(correct) / (n + 1)\n",
        "\n",
        "                if numGtCare > 0:\n",
        "                    AP /= numGtCare\n",
        "\n",
        "            return AP\n",
        "\n",
        "        perSampleMetrics = {}\n",
        "\n",
        "        matchedSum = 0\n",
        "\n",
        "        Rectangle = namedtuple('Rectangle', 'xmin ymin xmax ymax')\n",
        "\n",
        "        numGlobalCareGt = 0\n",
        "        numGlobalCareDet = 0\n",
        "\n",
        "        arrGlobalConfidences = []\n",
        "        arrGlobalMatches = []\n",
        "\n",
        "        recall = 0\n",
        "        precision = 0\n",
        "        hmean = 0\n",
        "\n",
        "        detMatched = 0\n",
        "\n",
        "        iouMat = np.empty([1, 1])\n",
        "\n",
        "        gtPols = []\n",
        "        detPols = []\n",
        "\n",
        "        gtPolPoints = []\n",
        "        detPolPoints = []\n",
        "\n",
        "        gtDontCarePolsNum = []\n",
        "\n",
        "        detDontCarePolsNum = []\n",
        "\n",
        "        pairs = []\n",
        "        detMatchedNums = []\n",
        "\n",
        "        arrSampleConfidences = []\n",
        "        arrSampleMatch = []\n",
        "\n",
        "        evaluationLog = \"\"\n",
        "\n",
        "        for n in range(len(gt)):\n",
        "            points = gt[n]['points']\n",
        "            dontCare = gt[n]['ignore']\n",
        "\n",
        "            if not Polygon(points).buffer(0).is_valid or \\\n",
        "                    not Polygon(points).buffer(0).is_simple:\n",
        "                continue\n",
        "\n",
        "            gtPol = points\n",
        "            gtPols.append(gtPol)\n",
        "            gtPolPoints.append(points)\n",
        "            if dontCare:\n",
        "                gtDontCarePolsNum.append(len(gtPols) - 1)\n",
        "\n",
        "        evaluationLog += \"GT polygons: \" + str(len(gtPols)) + (\n",
        "            \" (\" + str(len(gtDontCarePolsNum)) +\n",
        "            \" don't care)\\n\" if len(gtDontCarePolsNum) > 0 else \"\\n\")\n",
        "\n",
        "        for n in range(len(pred)):\n",
        "            points = pred[n]['points']\n",
        "\n",
        "            # if not Polygon(points).is_valid or not Polygon(points).is_simple:\n",
        "            if not Polygon(points).buffer(0).is_valid or \\\n",
        "                    not Polygon(points).buffer(0).is_simple:\n",
        "                continue\n",
        "\n",
        "            detPol = points\n",
        "            detPols.append(detPol)\n",
        "            detPolPoints.append(points)\n",
        "            if len(gtDontCarePolsNum) > 0:\n",
        "                for dontCarePol in gtDontCarePolsNum:\n",
        "                    dontCarePol = gtPols[dontCarePol]\n",
        "                    intersected_area = get_intersection(dontCarePol, detPol)\n",
        "                    pdDimensions = Polygon(detPol).area\n",
        "                    precision = 0 if pdDimensions == 0 else intersected_area / pdDimensions\n",
        "                    if (precision > self.area_precision_constraint):\n",
        "                        detDontCarePolsNum.append(len(detPols) - 1)\n",
        "                        break\n",
        "\n",
        "        evaluationLog += \"DET polygons: \" + str(len(detPols)) + (\n",
        "            \" (\" + str(len(detDontCarePolsNum)) +\n",
        "            \" don't care)\\n\" if len(detDontCarePolsNum) > 0 else \"\\n\")\n",
        "\n",
        "        if len(gtPols) > 0 and len(detPols) > 0:\n",
        "            # Calculate IoU and precision matrixs\n",
        "            outputShape = [len(gtPols), len(detPols)]\n",
        "            iouMat = np.empty(outputShape)\n",
        "            gtRectMat = np.zeros(len(gtPols), np.int8)\n",
        "            detRectMat = np.zeros(len(detPols), np.int8)\n",
        "            for gtNum in range(len(gtPols)):\n",
        "                for detNum in range(len(detPols)):\n",
        "                    pG = gtPols[gtNum]\n",
        "                    pD = detPols[detNum]\n",
        "                    iouMat[gtNum, detNum] = get_intersection_over_union(pD, pG)\n",
        "\n",
        "            for gtNum in range(len(gtPols)):\n",
        "                for detNum in range(len(detPols)):\n",
        "                    if gtRectMat[gtNum] == 0 and detRectMat[\n",
        "                            detNum] == 0 and gtNum not in gtDontCarePolsNum and detNum not in detDontCarePolsNum:\n",
        "                        if iouMat[gtNum, detNum] > self.iou_constraint:\n",
        "                            gtRectMat[gtNum] = 1\n",
        "                            detRectMat[detNum] = 1\n",
        "                            detMatched += 1\n",
        "                            pairs.append({'gt': gtNum, 'det': detNum})\n",
        "                            detMatchedNums.append(detNum)\n",
        "                            evaluationLog += \"Match GT #\" + \\\n",
        "                                str(gtNum) + \" with Det #\" + str(detNum) + \"\\n\"\n",
        "\n",
        "        numGtCare = (len(gtPols) - len(gtDontCarePolsNum))\n",
        "        numDetCare = (len(detPols) - len(detDontCarePolsNum))\n",
        "        if numGtCare == 0:\n",
        "            recall = float(1)\n",
        "            precision = float(0) if numDetCare > 0 else float(1)\n",
        "        else:\n",
        "            recall = float(detMatched) / numGtCare\n",
        "            precision = 0 if numDetCare == 0 else float(\n",
        "                detMatched) / numDetCare\n",
        "\n",
        "        hmean = 0 if (precision + recall) == 0 else 2.0 * \\\n",
        "            precision * recall / (precision + recall)\n",
        "\n",
        "        matchedSum += detMatched\n",
        "        numGlobalCareGt += numGtCare\n",
        "        numGlobalCareDet += numDetCare\n",
        "\n",
        "        perSampleMetrics = {\n",
        "            'precision': precision,\n",
        "            'recall': recall,\n",
        "            'hmean': hmean,\n",
        "            'pairs': pairs,\n",
        "            'iouMat': [] if len(detPols) > 100 else iouMat.tolist(),\n",
        "            'gtPolPoints': gtPolPoints,\n",
        "            'detPolPoints': detPolPoints,\n",
        "            'gtCare': numGtCare,\n",
        "            'detCare': numDetCare,\n",
        "            'gtDontCare': gtDontCarePolsNum,\n",
        "            'detDontCare': detDontCarePolsNum,\n",
        "            'detMatched': detMatched,\n",
        "            'evaluationLog': evaluationLog\n",
        "        }\n",
        "\n",
        "        return perSampleMetrics\n",
        "\n",
        "    def combine_results(self, results):\n",
        "        numGlobalCareGt = 0\n",
        "        numGlobalCareDet = 0\n",
        "        matchedSum = 0\n",
        "        for result in results:\n",
        "            numGlobalCareGt += result['gtCare']\n",
        "            numGlobalCareDet += result['detCare']\n",
        "            matchedSum += result['detMatched']\n",
        "\n",
        "        methodRecall = 0 if numGlobalCareGt == 0 else float(\n",
        "            matchedSum) / numGlobalCareGt\n",
        "        methodPrecision = 0 if numGlobalCareDet == 0 else float(\n",
        "            matchedSum) / numGlobalCareDet\n",
        "        methodHmean = 0 if methodRecall + methodPrecision == 0 else 2 * \\\n",
        "            methodRecall * methodPrecision / (methodRecall + methodPrecision)\n",
        "\n",
        "        methodMetrics = {\n",
        "            'precision': methodPrecision,\n",
        "            'recall': methodRecall,\n",
        "            'hmean': methodHmean\n",
        "        }\n",
        "\n",
        "        return methodMetrics\n",
        "\n",
        "def to_list_tuples_coords(anns):\n",
        "    print(type(anns), anns)\n",
        "    new_anns = []\n",
        "    for ann in anns:\n",
        "        points = []\n",
        "        for x, y in ann:\n",
        "            print(x, y)\n",
        "            points.append((x[0].tolist(), y[0].tolist()))\n",
        "        new_anns.append(points)\n",
        "    return new_anns\n",
        "\n",
        "class QuadMetric:\n",
        "    def __init__(self):\n",
        "        self.evaluator = DetectionIoUEvaluator()\n",
        "\n",
        "    def measure(self, batch, output, is_output_polygon=False, box_thresh=0.6):\n",
        "        '''\n",
        "        batch: (image, polygons, ignore_tags\n",
        "        batch: a dict produced by dataloaders.\n",
        "            image: tensor of shape (N, C, H, W).\n",
        "            polygons: tensor of shape (N, K, 4, 2), the polygons of objective regions.\n",
        "            ignore_tags: tensor of shape (N, K), indicates whether a region is ignorable or not.\n",
        "            shape: the original shape of images.\n",
        "            filename: the original filenames of images.\n",
        "        output: (polygons, ...)\n",
        "        '''\n",
        "        results = []\n",
        "\n",
        "\n",
        "        pred_polygons_batch = np.array(output)\n",
        "    \n",
        "        gt_polygons_batch = batch['anns']\n",
        "\n",
        "        ignore_tags_batch = batch['ignore_tags']\n",
        "        gt = []\n",
        "        for gt_polygon, ignore_tag in zip(gt_polygons_batch,\n",
        "                                          ignore_tags_batch):\n",
        "            gt.append({'points': gt_polygon, 'ignore': ignore_tag})\n",
        "        \n",
        "        \n",
        "        pred = []  # for 1 image\n",
        "        for pred_polygon in pred_polygons_batch:\n",
        "                                            \n",
        "            pred.append({'points': pred_polygon, 'ignore': False})\n",
        "\n",
        "        results.append(self.evaluator.evaluate_image(gt, pred))\n",
        "\n",
        "        return results\n",
        "\n",
        "    def validate_measure(self,\n",
        "                         batch,\n",
        "                         output,\n",
        "                         is_output_polygon=False,\n",
        "                         box_thresh=0.6):\n",
        "        return self.measure(batch, output, is_output_polygon, box_thresh)\n",
        "\n",
        "    # def evaluate_measure(self, batch, output):\n",
        "    #     return self.measure(batch, output), np.linspace(\n",
        "    #         0, batch['image'].shape[0]).tolist()\n",
        "\n",
        "    def gather_measure(self, raw_metrics):\n",
        "        raw_metrics = [\n",
        "            image_metrics for batch_metrics in raw_metrics\n",
        "            for image_metrics in batch_metrics\n",
        "        ]\n",
        "\n",
        "        result = self.evaluator.combine_results(raw_metrics)\n",
        "\n",
        "        precision = AverageMeter()\n",
        "        recall = AverageMeter()\n",
        "        fmeasure = AverageMeter()\n",
        "\n",
        "        precision.update(result['precision'], n=len(raw_metrics))\n",
        "        recall.update(result['recall'], n=len(raw_metrics))\n",
        "        fmeasure_score = 2 * precision.val * recall.val / (precision.val +\n",
        "                                                           recall.val + 1e-8)\n",
        "        fmeasure.update(fmeasure_score)\n",
        "\n",
        "        return {'precision': precision, 'recall': recall, 'fmeasure': fmeasure}\n"
      ],
      "metadata": {
        "id": "nK2uuKuOki7e"
      },
      "execution_count": null,
      "outputs": []
    },
    {
      "cell_type": "markdown",
      "metadata": {
        "id": "JmOgjjtnrZGs"
      },
      "source": [
        "# training"
      ]
    },
    {
      "cell_type": "code",
      "execution_count": null,
      "metadata": {
        "id": "AG1zNndRrcZa",
        "colab": {
          "base_uri": "https://localhost:8080/"
        },
        "outputId": "2ee64f81-6a32-4a15-e1ad-30225b2a9cfe"
      },
      "outputs": [
        {
          "output_type": "stream",
          "name": "stdout",
          "text": [
            "Training from scratch.\n"
          ]
        },
        {
          "output_type": "stream",
          "name": "stderr",
          "text": [
            "/usr/local/lib/python3.8/dist-packages/torch/utils/data/dataloader.py:554: UserWarning: This DataLoader will create 3 worker processes in total. Our suggested max number of worker in current system is 2, which is smaller than what this DataLoader is going to create. Please be aware that excessive worker creation might get DataLoader running slow or even freeze, lower the worker number to avoid potential slowness/freeze if necessary.\n",
            "  warnings.warn(_create_warning_msg(\n"
          ]
        }
      ],
      "source": [
        "kernel_num = 7\n",
        "min_scale = 0.4\n",
        "start_epoch = 0\n",
        "\n",
        "train_dataset = TrainLoader(\"drive/MyDrive/data/train_images\",\"drive/MyDrive/data/train_gts\", is_transform=True, img_size=640, kernel_num=kernel_num, min_scale=min_scale)\n",
        "train_loader = torch.utils.data.DataLoader(\n",
        "    train_dataset,\n",
        "    batch_size=25,\n",
        "    shuffle=True,\n",
        "    num_workers=3,\n",
        "    drop_last=False,\n",
        "    pin_memory=True)\n",
        "\n",
        "\n",
        "logger = Logger(os.path.join(\"drive/MyDrive/log\", 'log.txt'), title='STD', resume=True)\n",
        "logger.set_names(['Epoch','Learning Rate', 'Train Loss','Train Acc.', 'Train IOU.'])\n",
        "print('Training from scratch.')"
      ]
    },
    {
      "cell_type": "code",
      "execution_count": null,
      "metadata": {
        "id": "2I5QPbyrMci-"
      },
      "outputs": [],
      "source": [
        "model = resnet50(pretrained=True, num_classes=kernel_num)\n",
        "model = torch.nn.DataParallel(model)\n",
        "optimizer = torch.optim.SGD(model.parameters(), lr=1e-3, momentum=0.99, weight_decay=5e-4)\n",
        "\n",
        "epochs = 80"
      ]
    },
    {
      "cell_type": "code",
      "source": [
        "try:\n",
        "    checkpoint = torch.load(\"drive/MyDrive/model/checkpoint.pth.tar\")\n",
        "    start_epoch = checkpoint['epoch']\n",
        "    model.load_state_dict(checkpoint['state_dict'])\n",
        "    optimizer.load_state_dict(checkpoint['optimizer'])\n",
        "except Exception as e:\n",
        "    pass\n",
        "# for epoch in range(start_epoch, epochs):\n",
        "#     # adjust_learning_rate(args, optimizer, epoch)\n",
        "#     print('\\nEpoch: [%d | %d] LR: %f' % (epoch + 1, epochs, optimizer.param_groups[0]['lr']))\n",
        "\n",
        "#     train_loss, train_te_acc, train_ke_acc, train_te_iou, train_ke_iou = train(train_loader, model, dice_loss, optimizer, epoch)\n",
        "#     save_checkpoint({\n",
        "#             'epoch': epoch + 1,\n",
        "#             'state_dict': model.state_dict(),\n",
        "#             'lr': 1e-3,\n",
        "#             'optimizer' : optimizer.state_dict(),\n",
        "#         }, checkpoint=\"drive/MyDrive/model\")\n",
        "\n",
        "#     logger.append([(epoch+1),optimizer.param_groups[0]['lr'], train_loss, train_te_acc, train_te_iou])\n",
        "# logger.close()"
      ],
      "metadata": {
        "id": "m3dT_fL31kHL"
      },
      "execution_count": null,
      "outputs": []
    },
    {
      "cell_type": "markdown",
      "source": [
        "#eval"
      ],
      "metadata": {
        "id": "epCO7gFOlHAk"
      }
    },
    {
      "cell_type": "markdown",
      "source": [
        "#testing"
      ],
      "metadata": {
        "id": "_OyrpziKlAiT"
      }
    },
    {
      "cell_type": "code",
      "source": [
        "try:\n",
        "    checkpoint = torch.load(\"drive/MyDrive/model/checkpoint.pth.tar\")\n",
        "    start_epoch = checkpoint['epoch']\n",
        "    model.load_state_dict(checkpoint['state_dict'])\n",
        "    optimizer.load_state_dict(checkpoint['optimizer'])\n",
        "except Exception as e:\n",
        "    pass\n",
        "valid_dataset = TestLoader(\"drive/MyDrive/data/valid_images\", \"drive/MyDrive/data/valid_gts\")\n",
        "\n",
        "test(valid_dataset, model)"
      ],
      "metadata": {
        "id": "bKL7KYRZF_hS",
        "colab": {
          "base_uri": "https://localhost:8080/"
        },
        "outputId": "d6126f78-42a6-4742-fc0c-e2c0da175c98"
      },
      "execution_count": null,
      "outputs": [
        {
          "output_type": "stream",
          "name": "stdout",
          "text": [
            "test\n",
            "progress: 0 / 250\n",
            "(1.765625, 1.765625)\n",
            "(1.765625, 1.765625)\n",
            "fps: 0.65\n",
            "[1 1]\n",
            "progress: 1 / 250\n"
          ]
        },
        {
          "output_type": "stream",
          "name": "stderr",
          "text": [
            "/usr/local/lib/python3.8/dist-packages/shapely/set_operations.py:133: RuntimeWarning: invalid value encountered in intersection\n",
            "  return lib.intersection(a, b, **kwargs)\n"
          ]
        },
        {
          "output_type": "stream",
          "name": "stdout",
          "text": [
            "(1.1734375, 1.1734375)\n",
            "(1.1734375, 1.1734375)\n",
            "(1.1734375, 1.1734375)\n",
            "fps: 0.28\n",
            "[1 1 1]\n",
            "progress: 2 / 250\n"
          ]
        },
        {
          "output_type": "stream",
          "name": "stderr",
          "text": [
            "/usr/local/lib/python3.8/dist-packages/shapely/set_operations.py:133: RuntimeWarning: invalid value encountered in intersection\n",
            "  return lib.intersection(a, b, **kwargs)\n"
          ]
        },
        {
          "output_type": "stream",
          "name": "stdout",
          "text": [
            "(0.7078125, 0.7078125)\n",
            "(0.7078125, 0.7078125)\n",
            "(0.7078125, 0.7078125)\n",
            "(0.7078125, 0.7078125)\n",
            "(0.7078125, 0.7078125)\n",
            "(0.7078125, 0.7078125)\n",
            "fps: 0.36\n",
            "[1 1 1 1 1 1 1]\n",
            "progress: 3 / 250\n"
          ]
        },
        {
          "output_type": "stream",
          "name": "stderr",
          "text": [
            "/usr/local/lib/python3.8/dist-packages/shapely/set_operations.py:133: RuntimeWarning: invalid value encountered in intersection\n",
            "  return lib.intersection(a, b, **kwargs)\n"
          ]
        },
        {
          "output_type": "stream",
          "name": "stdout",
          "text": [
            "(0.8328125, 0.8328125)\n",
            "(0.8328125, 0.8328125)\n",
            "(0.8328125, 0.8328125)\n",
            "(0.8328125, 0.8328125)\n",
            "(0.8328125, 0.8328125)\n",
            "(0.8328125, 0.8328125)\n",
            "(0.8328125, 0.8328125)\n",
            "(0.8328125, 0.8328125)\n",
            "(0.8328125, 0.8328125)\n",
            "(0.8328125, 0.8328125)\n",
            "fps: 0.28\n",
            "[1 1 1 1 1 1 1 1 1 1 1]\n",
            "progress: 4 / 250\n"
          ]
        },
        {
          "output_type": "stream",
          "name": "stderr",
          "text": [
            "/usr/local/lib/python3.8/dist-packages/shapely/set_operations.py:133: RuntimeWarning: invalid value encountered in intersection\n",
            "  return lib.intersection(a, b, **kwargs)\n"
          ]
        },
        {
          "output_type": "stream",
          "name": "stdout",
          "text": [
            "(0.7171875, 0.7171875)\n",
            "(0.7171875, 0.7171875)\n",
            "(0.7171875, 0.7171875)\n",
            "(0.7171875, 0.7171875)\n",
            "(0.7171875, 0.7171875)\n",
            "(0.7171875, 0.7171875)\n",
            "(0.7171875, 0.7171875)\n",
            "(0.7171875, 0.7171875)\n",
            "(0.7171875, 0.7171875)\n",
            "(0.7171875, 0.7171875)\n",
            "(0.7171875, 0.7171875)\n",
            "(0.7171875, 0.7171875)\n",
            "fps: 0.23\n",
            "[1 1 1 1 1 1 1 1 1 1 1 1]\n",
            "progress: 5 / 250\n"
          ]
        },
        {
          "output_type": "stream",
          "name": "stderr",
          "text": [
            "/usr/local/lib/python3.8/dist-packages/shapely/set_operations.py:133: RuntimeWarning: invalid value encountered in intersection\n",
            "  return lib.intersection(a, b, **kwargs)\n"
          ]
        },
        {
          "output_type": "stream",
          "name": "stdout",
          "text": [
            "(0.7, 0.7)\n",
            "(0.7, 0.7)\n",
            "(0.7, 0.7)\n",
            "(0.7, 0.7)\n",
            "(0.7, 0.7)\n",
            "(0.7, 0.7)\n",
            "fps: 0.25\n",
            "[1 1 1 1 1]\n",
            "progress: 6 / 250\n"
          ]
        },
        {
          "output_type": "stream",
          "name": "stderr",
          "text": [
            "/usr/local/lib/python3.8/dist-packages/shapely/set_operations.py:133: RuntimeWarning: invalid value encountered in intersection\n",
            "  return lib.intersection(a, b, **kwargs)\n"
          ]
        },
        {
          "output_type": "stream",
          "name": "stdout",
          "text": [
            "(0.5609375, 0.5609375)\n",
            "(0.5609375, 0.5609375)\n",
            "(0.5609375, 0.5609375)\n",
            "(0.5609375, 0.5609375)\n",
            "(0.5609375, 0.5609375)\n",
            "(0.5609375, 0.5609375)\n",
            "fps: 0.28\n",
            "[1 1 1 1 1 1]\n",
            "progress: 7 / 250\n"
          ]
        },
        {
          "output_type": "stream",
          "name": "stderr",
          "text": [
            "/usr/local/lib/python3.8/dist-packages/shapely/set_operations.py:133: RuntimeWarning: invalid value encountered in intersection\n",
            "  return lib.intersection(a, b, **kwargs)\n"
          ]
        },
        {
          "output_type": "stream",
          "name": "stdout",
          "text": [
            "(0.7984375, 0.7984375)\n",
            "(0.7984375, 0.7984375)\n",
            "(0.7984375, 0.7984375)\n",
            "(0.7984375, 0.7984375)\n",
            "(0.7984375, 0.7984375)\n",
            "(0.7984375, 0.7984375)\n",
            "(0.7984375, 0.7984375)\n",
            "(0.7984375, 0.7984375)\n",
            "fps: 0.27\n",
            "[1 1 1 1 1 1 1 1 1 1 1]\n",
            "progress: 8 / 250\n"
          ]
        },
        {
          "output_type": "stream",
          "name": "stderr",
          "text": [
            "/usr/local/lib/python3.8/dist-packages/shapely/set_operations.py:133: RuntimeWarning: invalid value encountered in intersection\n",
            "  return lib.intersection(a, b, **kwargs)\n"
          ]
        },
        {
          "output_type": "stream",
          "name": "stdout",
          "text": [
            "(1.25625, 1.25625)\n",
            "(1.25625, 1.25625)\n",
            "(1.25625, 1.25625)\n",
            "(1.25625, 1.25625)\n",
            "(1.25625, 1.25625)\n",
            "fps: 0.29\n",
            "[1 1 1 1 1 1 1 1 1 1 1 1 1 1 1 1 1 1]\n",
            "progress: 9 / 250\n"
          ]
        },
        {
          "output_type": "stream",
          "name": "stderr",
          "text": [
            "/usr/local/lib/python3.8/dist-packages/shapely/set_operations.py:133: RuntimeWarning: invalid value encountered in intersection\n",
            "  return lib.intersection(a, b, **kwargs)\n"
          ]
        },
        {
          "output_type": "stream",
          "name": "stdout",
          "text": [
            "(0.4984375, 0.4984375)\n",
            "(0.4984375, 0.4984375)\n",
            "(0.4984375, 0.4984375)\n",
            "(0.4984375, 0.4984375)\n",
            "(0.4984375, 0.4984375)\n",
            "(0.4984375, 0.4984375)\n",
            "(0.4984375, 0.4984375)\n",
            "(0.4984375, 0.4984375)\n",
            "(0.4984375, 0.4984375)\n",
            "fps: 0.31\n",
            "[1 1 1 1 1 1 1 1]\n",
            "progress: 10 / 250\n"
          ]
        },
        {
          "output_type": "stream",
          "name": "stderr",
          "text": [
            "/usr/local/lib/python3.8/dist-packages/shapely/set_operations.py:133: RuntimeWarning: invalid value encountered in intersection\n",
            "  return lib.intersection(a, b, **kwargs)\n"
          ]
        },
        {
          "output_type": "stream",
          "name": "stdout",
          "text": [
            "(0.6921875, 0.6921875)\n",
            "(0.6921875, 0.6921875)\n",
            "(0.6921875, 0.6921875)\n",
            "(0.6921875, 0.6921875)\n",
            "(0.6921875, 0.6921875)\n",
            "(0.6921875, 0.6921875)\n",
            "(0.6921875, 0.6921875)\n",
            "(0.6921875, 0.6921875)\n",
            "(0.6921875, 0.6921875)\n",
            "(0.6921875, 0.6921875)\n",
            "fps: 0.31\n",
            "[1 1 1 1 1 1 1 1]\n",
            "progress: 11 / 250\n"
          ]
        },
        {
          "output_type": "stream",
          "name": "stderr",
          "text": [
            "/usr/local/lib/python3.8/dist-packages/shapely/set_operations.py:133: RuntimeWarning: invalid value encountered in intersection\n",
            "  return lib.intersection(a, b, **kwargs)\n"
          ]
        },
        {
          "output_type": "stream",
          "name": "stdout",
          "text": [
            "(0.6625, 0.6625)\n",
            "(0.6625, 0.6625)\n",
            "(0.6625, 0.6625)\n",
            "(0.6625, 0.6625)\n",
            "(0.6625, 0.6625)\n",
            "(0.6625, 0.6625)\n",
            "fps: 0.33\n",
            "[1 1 1]\n",
            "progress: 12 / 250\n"
          ]
        },
        {
          "output_type": "stream",
          "name": "stderr",
          "text": [
            "/usr/local/lib/python3.8/dist-packages/shapely/set_operations.py:133: RuntimeWarning: invalid value encountered in intersection\n",
            "  return lib.intersection(a, b, **kwargs)\n"
          ]
        },
        {
          "output_type": "stream",
          "name": "stdout",
          "text": [
            "(0.784375, 0.784375)\n",
            "(0.784375, 0.784375)\n",
            "(0.784375, 0.784375)\n",
            "(0.784375, 0.784375)\n",
            "(0.784375, 0.784375)\n",
            "(0.784375, 0.784375)\n",
            "(0.784375, 0.784375)\n",
            "(0.784375, 0.784375)\n",
            "(0.784375, 0.784375)\n",
            "(0.784375, 0.784375)\n",
            "(0.784375, 0.784375)\n",
            "(0.784375, 0.784375)\n",
            "(0.784375, 0.784375)\n",
            "(0.784375, 0.784375)\n",
            "(0.784375, 0.784375)\n",
            "fps: 0.34\n",
            "[1 1 1 1 1 1 1 1 1 1 1 1 1 1 1 1 1 1]\n",
            "progress: 13 / 250\n"
          ]
        },
        {
          "output_type": "stream",
          "name": "stderr",
          "text": [
            "/usr/local/lib/python3.8/dist-packages/shapely/set_operations.py:133: RuntimeWarning: invalid value encountered in intersection\n",
            "  return lib.intersection(a, b, **kwargs)\n"
          ]
        },
        {
          "output_type": "stream",
          "name": "stdout",
          "text": [
            "(0.6453125, 0.6453125)\n",
            "(0.6453125, 0.6453125)\n",
            "(0.6453125, 0.6453125)\n",
            "(0.6453125, 0.6453125)\n",
            "(0.6453125, 0.6453125)\n",
            "(0.6453125, 0.6453125)\n",
            "fps: 0.36\n",
            "[1 1 1 1 1 1]\n",
            "progress: 14 / 250\n"
          ]
        },
        {
          "output_type": "stream",
          "name": "stderr",
          "text": [
            "/usr/local/lib/python3.8/dist-packages/shapely/set_operations.py:133: RuntimeWarning: invalid value encountered in intersection\n",
            "  return lib.intersection(a, b, **kwargs)\n"
          ]
        },
        {
          "output_type": "stream",
          "name": "stdout",
          "text": [
            "(1.0859375, 1.0859375)\n",
            "(1.0859375, 1.0859375)\n",
            "(1.0859375, 1.0859375)\n",
            "(1.0859375, 1.0859375)\n",
            "(1.0859375, 1.0859375)\n",
            "fps: 0.37\n",
            "[1 1 1 1 1]\n",
            "progress: 15 / 250\n"
          ]
        },
        {
          "output_type": "stream",
          "name": "stderr",
          "text": [
            "/usr/local/lib/python3.8/dist-packages/shapely/set_operations.py:133: RuntimeWarning: invalid value encountered in intersection\n",
            "  return lib.intersection(a, b, **kwargs)\n"
          ]
        },
        {
          "output_type": "stream",
          "name": "stdout",
          "text": [
            "(0.5484375, 0.5484375)\n",
            "(0.5484375, 0.5484375)\n",
            "(0.5484375, 0.5484375)\n",
            "fps: 0.36\n",
            "[1 1 1]\n",
            "progress: 16 / 250\n"
          ]
        },
        {
          "output_type": "stream",
          "name": "stderr",
          "text": [
            "/usr/local/lib/python3.8/dist-packages/shapely/set_operations.py:133: RuntimeWarning: invalid value encountered in intersection\n",
            "  return lib.intersection(a, b, **kwargs)\n"
          ]
        },
        {
          "output_type": "stream",
          "name": "stdout",
          "text": [
            "(0.7171875, 0.7171875)\n",
            "(0.7171875, 0.7171875)\n",
            "(0.7171875, 0.7171875)\n",
            "(0.7171875, 0.7171875)\n",
            "(0.7171875, 0.7171875)\n",
            "(0.7171875, 0.7171875)\n",
            "(0.7171875, 0.7171875)\n",
            "(0.7171875, 0.7171875)\n",
            "(0.7171875, 0.7171875)\n",
            "(0.7171875, 0.7171875)\n",
            "fps: 0.34\n",
            "[1 1 1 1 1 1 1 1 1 1]\n",
            "progress: 17 / 250\n"
          ]
        },
        {
          "output_type": "stream",
          "name": "stderr",
          "text": [
            "/usr/local/lib/python3.8/dist-packages/shapely/set_operations.py:133: RuntimeWarning: invalid value encountered in intersection\n",
            "  return lib.intersection(a, b, **kwargs)\n"
          ]
        },
        {
          "output_type": "stream",
          "name": "stdout",
          "text": [
            "(1.0234375, 1.0234375)\n",
            "(1.0234375, 1.0234375)\n",
            "(1.0234375, 1.0234375)\n",
            "(1.0234375, 1.0234375)\n",
            "(1.0234375, 1.0234375)\n",
            "(1.0234375, 1.0234375)\n",
            "(1.0234375, 1.0234375)\n",
            "(1.0234375, 1.0234375)\n",
            "(1.0234375, 1.0234375)\n",
            "fps: 0.35\n",
            "[1 1 1 1 1 1 1]\n",
            "progress: 18 / 250\n"
          ]
        },
        {
          "output_type": "stream",
          "name": "stderr",
          "text": [
            "/usr/local/lib/python3.8/dist-packages/shapely/set_operations.py:133: RuntimeWarning: invalid value encountered in intersection\n",
            "  return lib.intersection(a, b, **kwargs)\n"
          ]
        },
        {
          "output_type": "stream",
          "name": "stdout",
          "text": [
            "(0.8375, 0.8375)\n",
            "(0.8375, 0.8375)\n",
            "(0.8375, 0.8375)\n",
            "(0.8375, 0.8375)\n",
            "(0.8375, 0.8375)\n",
            "(0.8375, 0.8375)\n",
            "fps: 0.36\n",
            "[1 1 1 1 1 1]\n",
            "progress: 19 / 250\n"
          ]
        },
        {
          "output_type": "stream",
          "name": "stderr",
          "text": [
            "/usr/local/lib/python3.8/dist-packages/shapely/set_operations.py:133: RuntimeWarning: invalid value encountered in intersection\n",
            "  return lib.intersection(a, b, **kwargs)\n"
          ]
        },
        {
          "output_type": "stream",
          "name": "stdout",
          "text": [
            "(0.5140625, 0.5140625)\n",
            "(0.5140625, 0.5140625)\n",
            "(0.5140625, 0.5140625)\n",
            "(0.5140625, 0.5140625)\n",
            "(0.5140625, 0.5140625)\n",
            "(0.5140625, 0.5140625)\n",
            "fps: 0.34\n",
            "[1 1 1 1 1 1 1 1 1]\n",
            "progress: 20 / 250\n"
          ]
        },
        {
          "output_type": "stream",
          "name": "stderr",
          "text": [
            "/usr/local/lib/python3.8/dist-packages/shapely/set_operations.py:133: RuntimeWarning: invalid value encountered in intersection\n",
            "  return lib.intersection(a, b, **kwargs)\n"
          ]
        },
        {
          "output_type": "stream",
          "name": "stdout",
          "text": [
            "(0.7453125, 0.7453125)\n",
            "(0.7453125, 0.7453125)\n",
            "(0.7453125, 0.7453125)\n",
            "(0.7453125, 0.7453125)\n",
            "(0.7453125, 0.7453125)\n",
            "(0.7453125, 0.7453125)\n",
            "(0.7453125, 0.7453125)\n",
            "(0.7453125, 0.7453125)\n",
            "(0.7453125, 0.7453125)\n",
            "(0.7453125, 0.7453125)\n",
            "(0.7453125, 0.7453125)\n",
            "(0.7453125, 0.7453125)\n",
            "fps: 0.35\n",
            "[1 1 1 1 1 1 1 1 1 1 1 1 1]\n",
            "progress: 21 / 250\n"
          ]
        },
        {
          "output_type": "stream",
          "name": "stderr",
          "text": [
            "/usr/local/lib/python3.8/dist-packages/shapely/set_operations.py:133: RuntimeWarning: invalid value encountered in intersection\n",
            "  return lib.intersection(a, b, **kwargs)\n"
          ]
        },
        {
          "output_type": "stream",
          "name": "stdout",
          "text": [
            "(0.5078125, 0.5078125)\n",
            "(0.5078125, 0.5078125)\n",
            "(0.5078125, 0.5078125)\n",
            "(0.5078125, 0.5078125)\n",
            "fps: 0.35\n",
            "[1 1 1 1]\n",
            "progress: 22 / 250\n"
          ]
        },
        {
          "output_type": "stream",
          "name": "stderr",
          "text": [
            "/usr/local/lib/python3.8/dist-packages/shapely/set_operations.py:133: RuntimeWarning: invalid value encountered in intersection\n",
            "  return lib.intersection(a, b, **kwargs)\n"
          ]
        },
        {
          "output_type": "stream",
          "name": "stdout",
          "text": [
            "(0.5984375, 0.5984375)\n",
            "(0.5984375, 0.5984375)\n",
            "(0.5984375, 0.5984375)\n",
            "(0.5984375, 0.5984375)\n",
            "(0.5984375, 0.5984375)\n",
            "(0.5984375, 0.5984375)\n",
            "(0.5984375, 0.5984375)\n",
            "(0.5984375, 0.5984375)\n",
            "(0.5984375, 0.5984375)\n",
            "fps: 0.34\n",
            "[1 1 1 1 1 1 1 1 1]\n",
            "progress: 23 / 250\n"
          ]
        },
        {
          "output_type": "stream",
          "name": "stderr",
          "text": [
            "/usr/local/lib/python3.8/dist-packages/shapely/set_operations.py:133: RuntimeWarning: invalid value encountered in intersection\n",
            "  return lib.intersection(a, b, **kwargs)\n"
          ]
        },
        {
          "output_type": "stream",
          "name": "stdout",
          "text": [
            "(1.2921875, 1.2921875)\n",
            "(1.2921875, 1.2921875)\n",
            "(1.2921875, 1.2921875)\n",
            "(1.2921875, 1.2921875)\n",
            "fps: 0.36\n",
            "[1 1 1 1 1 1]\n",
            "progress: 24 / 250\n"
          ]
        },
        {
          "output_type": "stream",
          "name": "stderr",
          "text": [
            "/usr/local/lib/python3.8/dist-packages/shapely/set_operations.py:133: RuntimeWarning: invalid value encountered in intersection\n",
            "  return lib.intersection(a, b, **kwargs)\n"
          ]
        },
        {
          "output_type": "stream",
          "name": "stdout",
          "text": [
            "(1.4796875, 1.4796875)\n",
            "(1.4796875, 1.4796875)\n",
            "(1.4796875, 1.4796875)\n",
            "(1.4796875, 1.4796875)\n",
            "(1.4796875, 1.4796875)\n",
            "fps: 0.37\n",
            "[1 1 1 1 1]\n",
            "progress: 25 / 250\n"
          ]
        },
        {
          "output_type": "stream",
          "name": "stderr",
          "text": [
            "/usr/local/lib/python3.8/dist-packages/shapely/set_operations.py:133: RuntimeWarning: invalid value encountered in intersection\n",
            "  return lib.intersection(a, b, **kwargs)\n"
          ]
        },
        {
          "output_type": "stream",
          "name": "stdout",
          "text": [
            "(0.34375, 0.34375)\n",
            "(0.34375, 0.34375)\n",
            "(0.34375, 0.34375)\n",
            "fps: 0.37\n",
            "[1 1 1]\n",
            "progress: 26 / 250\n"
          ]
        },
        {
          "output_type": "stream",
          "name": "stderr",
          "text": [
            "/usr/local/lib/python3.8/dist-packages/shapely/set_operations.py:133: RuntimeWarning: invalid value encountered in intersection\n",
            "  return lib.intersection(a, b, **kwargs)\n"
          ]
        },
        {
          "output_type": "stream",
          "name": "stdout",
          "text": [
            "(1.084375, 1.084375)\n",
            "(1.084375, 1.084375)\n",
            "(1.084375, 1.084375)\n",
            "(1.084375, 1.084375)\n",
            "(1.084375, 1.084375)\n",
            "(1.084375, 1.084375)\n",
            "fps: 0.38\n",
            "[1 1 1 1 1 1]\n",
            "progress: 27 / 250\n"
          ]
        },
        {
          "output_type": "stream",
          "name": "stderr",
          "text": [
            "/usr/local/lib/python3.8/dist-packages/shapely/set_operations.py:133: RuntimeWarning: invalid value encountered in intersection\n",
            "  return lib.intersection(a, b, **kwargs)\n"
          ]
        },
        {
          "output_type": "stream",
          "name": "stdout",
          "text": [
            "(0.7140625, 0.7140625)\n",
            "(0.7140625, 0.7140625)\n",
            "(0.7140625, 0.7140625)\n",
            "fps: 0.39\n",
            "[1 1 1]\n",
            "progress: 28 / 250\n"
          ]
        },
        {
          "output_type": "stream",
          "name": "stderr",
          "text": [
            "/usr/local/lib/python3.8/dist-packages/shapely/set_operations.py:133: RuntimeWarning: invalid value encountered in intersection\n",
            "  return lib.intersection(a, b, **kwargs)\n"
          ]
        },
        {
          "output_type": "stream",
          "name": "stdout",
          "text": [
            "(1.1578125, 1.1578125)\n",
            "(1.1578125, 1.1578125)\n",
            "fps: 0.39\n",
            "[1 1]\n",
            "progress: 29 / 250\n"
          ]
        },
        {
          "output_type": "stream",
          "name": "stderr",
          "text": [
            "/usr/local/lib/python3.8/dist-packages/shapely/set_operations.py:133: RuntimeWarning: invalid value encountered in intersection\n",
            "  return lib.intersection(a, b, **kwargs)\n"
          ]
        },
        {
          "output_type": "stream",
          "name": "stdout",
          "text": [
            "(0.7828125, 0.7828125)\n",
            "(0.7828125, 0.7828125)\n",
            "(0.7828125, 0.7828125)\n",
            "(0.7828125, 0.7828125)\n",
            "(0.7828125, 0.7828125)\n",
            "(0.7828125, 0.7828125)\n",
            "(0.7828125, 0.7828125)\n",
            "(0.7828125, 0.7828125)\n",
            "fps: 0.40\n",
            "[1 1 1 1 1 1 1 1 1 1 1]\n",
            "progress: 30 / 250\n"
          ]
        },
        {
          "output_type": "stream",
          "name": "stderr",
          "text": [
            "/usr/local/lib/python3.8/dist-packages/shapely/set_operations.py:133: RuntimeWarning: invalid value encountered in intersection\n",
            "  return lib.intersection(a, b, **kwargs)\n"
          ]
        },
        {
          "output_type": "stream",
          "name": "stdout",
          "text": [
            "(0.865625, 0.865625)\n",
            "(0.865625, 0.865625)\n",
            "(0.865625, 0.865625)\n",
            "(0.865625, 0.865625)\n",
            "(0.865625, 0.865625)\n",
            "(0.865625, 0.865625)\n",
            "fps: 0.36\n",
            "[1 1 1 1 1 1 1 1 1 1 1]\n",
            "progress: 31 / 250\n"
          ]
        },
        {
          "output_type": "stream",
          "name": "stderr",
          "text": [
            "/usr/local/lib/python3.8/dist-packages/shapely/set_operations.py:133: RuntimeWarning: invalid value encountered in intersection\n",
            "  return lib.intersection(a, b, **kwargs)\n"
          ]
        },
        {
          "output_type": "stream",
          "name": "stdout",
          "text": [
            "(0.921875, 0.921875)\n",
            "(0.921875, 0.921875)\n",
            "(0.921875, 0.921875)\n",
            "(0.921875, 0.921875)\n",
            "(0.921875, 0.921875)\n",
            "(0.921875, 0.921875)\n",
            "(0.921875, 0.921875)\n",
            "(0.921875, 0.921875)\n",
            "(0.921875, 0.921875)\n",
            "(0.921875, 0.921875)\n",
            "(0.921875, 0.921875)\n",
            "(0.921875, 0.921875)\n",
            "fps: 0.36\n",
            "[1 1 1 1 1 1 1 1 1 1 1 1]\n",
            "progress: 32 / 250\n"
          ]
        },
        {
          "output_type": "stream",
          "name": "stderr",
          "text": [
            "/usr/local/lib/python3.8/dist-packages/shapely/set_operations.py:133: RuntimeWarning: invalid value encountered in intersection\n",
            "  return lib.intersection(a, b, **kwargs)\n"
          ]
        },
        {
          "output_type": "stream",
          "name": "stdout",
          "text": [
            "(0.940625, 0.940625)\n",
            "(0.940625, 0.940625)\n",
            "(0.940625, 0.940625)\n",
            "(0.940625, 0.940625)\n",
            "fps: 0.35\n",
            "[1 1 1 1]\n",
            "progress: 33 / 250\n"
          ]
        },
        {
          "output_type": "stream",
          "name": "stderr",
          "text": [
            "/usr/local/lib/python3.8/dist-packages/shapely/set_operations.py:133: RuntimeWarning: invalid value encountered in intersection\n",
            "  return lib.intersection(a, b, **kwargs)\n"
          ]
        },
        {
          "output_type": "stream",
          "name": "stdout",
          "text": [
            "(0.7109375, 0.7109375)\n",
            "(0.7109375, 0.7109375)\n",
            "(0.7109375, 0.7109375)\n",
            "(0.7109375, 0.7109375)\n",
            "(0.7109375, 0.7109375)\n",
            "fps: 0.36\n",
            "[1 1 1 1 1]\n",
            "progress: 34 / 250\n"
          ]
        },
        {
          "output_type": "stream",
          "name": "stderr",
          "text": [
            "/usr/local/lib/python3.8/dist-packages/shapely/set_operations.py:133: RuntimeWarning: invalid value encountered in intersection\n",
            "  return lib.intersection(a, b, **kwargs)\n"
          ]
        },
        {
          "output_type": "stream",
          "name": "stdout",
          "text": [
            "(0.659375, 0.659375)\n",
            "(0.659375, 0.659375)\n",
            "fps: 0.35\n",
            "[1 1]\n",
            "progress: 35 / 250\n"
          ]
        },
        {
          "output_type": "stream",
          "name": "stderr",
          "text": [
            "/usr/local/lib/python3.8/dist-packages/shapely/set_operations.py:133: RuntimeWarning: invalid value encountered in intersection\n",
            "  return lib.intersection(a, b, **kwargs)\n"
          ]
        },
        {
          "output_type": "stream",
          "name": "stdout",
          "text": [
            "(1.0078125, 1.0078125)\n",
            "(1.0078125, 1.0078125)\n",
            "fps: 0.35\n",
            "[1 1]\n",
            "progress: 36 / 250\n"
          ]
        },
        {
          "output_type": "stream",
          "name": "stderr",
          "text": [
            "/usr/local/lib/python3.8/dist-packages/shapely/set_operations.py:133: RuntimeWarning: invalid value encountered in intersection\n",
            "  return lib.intersection(a, b, **kwargs)\n"
          ]
        },
        {
          "output_type": "stream",
          "name": "stdout",
          "text": [
            "(0.7234375, 0.7234375)\n",
            "(0.7234375, 0.7234375)\n",
            "(0.7234375, 0.7234375)\n",
            "fps: 0.35\n",
            "[1 1 1]\n",
            "progress: 37 / 250\n"
          ]
        },
        {
          "output_type": "stream",
          "name": "stderr",
          "text": [
            "/usr/local/lib/python3.8/dist-packages/shapely/set_operations.py:133: RuntimeWarning: invalid value encountered in intersection\n",
            "  return lib.intersection(a, b, **kwargs)\n"
          ]
        },
        {
          "output_type": "stream",
          "name": "stdout",
          "text": [
            "(0.578125, 0.578125)\n",
            "(0.578125, 0.578125)\n",
            "fps: 0.34\n",
            "[1 1]\n",
            "progress: 38 / 250\n",
            "(0.9609375, 0.9609375)\n",
            "(0.9609375, 0.9609375)\n",
            "(0.9609375, 0.9609375)\n",
            "(0.9609375, 0.9609375)\n",
            "(0.9609375, 0.9609375)\n",
            "(0.9609375, 0.9609375)\n",
            "(0.9609375, 0.9609375)\n",
            "(0.9609375, 0.9609375)\n",
            "(0.9609375, 0.9609375)\n",
            "(0.9609375, 0.9609375)\n",
            "(0.9609375, 0.9609375)\n",
            "(0.9609375, 0.9609375)\n",
            "(0.9609375, 0.9609375)\n",
            "(0.9609375, 0.9609375)\n",
            "(0.9609375, 0.9609375)\n",
            "(0.9609375, 0.9609375)\n",
            "fps: 0.32\n",
            "[1 1 1 1 1 1 1 1 1 1 1 1 1 1 1 1]\n",
            "progress: 39 / 250\n"
          ]
        },
        {
          "output_type": "stream",
          "name": "stderr",
          "text": [
            "/usr/local/lib/python3.8/dist-packages/shapely/set_operations.py:133: RuntimeWarning: invalid value encountered in intersection\n",
            "  return lib.intersection(a, b, **kwargs)\n"
          ]
        },
        {
          "output_type": "stream",
          "name": "stdout",
          "text": [
            "(0.76875, 0.76875)\n",
            "(0.76875, 0.76875)\n",
            "(0.76875, 0.76875)\n",
            "fps: 0.32\n",
            "[1 1 1]\n",
            "progress: 40 / 250\n"
          ]
        },
        {
          "output_type": "stream",
          "name": "stderr",
          "text": [
            "/usr/local/lib/python3.8/dist-packages/shapely/set_operations.py:133: RuntimeWarning: invalid value encountered in intersection\n",
            "  return lib.intersection(a, b, **kwargs)\n"
          ]
        },
        {
          "output_type": "stream",
          "name": "stdout",
          "text": [
            "(0.5390625, 0.5390625)\n",
            "(0.5390625, 0.5390625)\n",
            "(0.5390625, 0.5390625)\n",
            "(0.5390625, 0.5390625)\n",
            "fps: 0.32\n",
            "[1 1 1 1]\n",
            "progress: 41 / 250\n"
          ]
        },
        {
          "output_type": "stream",
          "name": "stderr",
          "text": [
            "/usr/local/lib/python3.8/dist-packages/shapely/set_operations.py:133: RuntimeWarning: invalid value encountered in intersection\n",
            "  return lib.intersection(a, b, **kwargs)\n"
          ]
        },
        {
          "output_type": "stream",
          "name": "stdout",
          "text": [
            "(0.796875, 0.796875)\n",
            "(0.796875, 0.796875)\n",
            "(0.796875, 0.796875)\n",
            "(0.796875, 0.796875)\n",
            "(0.796875, 0.796875)\n",
            "(0.796875, 0.796875)\n",
            "(0.796875, 0.796875)\n",
            "fps: 0.33\n",
            "[1 1 1 1 1 1 1]\n",
            "progress: 42 / 250\n"
          ]
        },
        {
          "output_type": "stream",
          "name": "stderr",
          "text": [
            "/usr/local/lib/python3.8/dist-packages/shapely/set_operations.py:133: RuntimeWarning: invalid value encountered in intersection\n",
            "  return lib.intersection(a, b, **kwargs)\n"
          ]
        },
        {
          "output_type": "stream",
          "name": "stdout",
          "text": [
            "(1.7140625, 1.7140625)\n",
            "(1.7140625, 1.7140625)\n",
            "(1.7140625, 1.7140625)\n",
            "(1.7140625, 1.7140625)\n",
            "(1.7140625, 1.7140625)\n",
            "(1.7140625, 1.7140625)\n",
            "(1.7140625, 1.7140625)\n",
            "(1.7140625, 1.7140625)\n",
            "(1.7140625, 1.7140625)\n",
            "(1.7140625, 1.7140625)\n",
            "(1.7140625, 1.7140625)\n",
            "fps: 0.33\n",
            "[1 1 1 1 1 1 1 1 1 1 1 1 1 1]\n",
            "progress: 43 / 250\n"
          ]
        },
        {
          "output_type": "stream",
          "name": "stderr",
          "text": [
            "/usr/local/lib/python3.8/dist-packages/shapely/set_operations.py:133: RuntimeWarning: invalid value encountered in intersection\n",
            "  return lib.intersection(a, b, **kwargs)\n"
          ]
        },
        {
          "output_type": "stream",
          "name": "stdout",
          "text": [
            "(0.7796875, 0.7796875)\n",
            "(0.7796875, 0.7796875)\n",
            "(0.7796875, 0.7796875)\n",
            "(0.7796875, 0.7796875)\n",
            "(0.7796875, 0.7796875)\n",
            "fps: 0.34\n",
            "[1 1 1 1 1 1]\n",
            "progress: 44 / 250\n"
          ]
        },
        {
          "output_type": "stream",
          "name": "stderr",
          "text": [
            "/usr/local/lib/python3.8/dist-packages/shapely/set_operations.py:133: RuntimeWarning: invalid value encountered in intersection\n",
            "  return lib.intersection(a, b, **kwargs)\n"
          ]
        },
        {
          "output_type": "stream",
          "name": "stdout",
          "text": [
            "(0.61875, 0.61875)\n",
            "(0.61875, 0.61875)\n",
            "(0.61875, 0.61875)\n",
            "(0.61875, 0.61875)\n",
            "(0.61875, 0.61875)\n",
            "(0.61875, 0.61875)\n",
            "fps: 0.34\n",
            "[1 1 1 1 1 1]\n",
            "progress: 45 / 250\n"
          ]
        },
        {
          "output_type": "stream",
          "name": "stderr",
          "text": [
            "/usr/local/lib/python3.8/dist-packages/shapely/set_operations.py:133: RuntimeWarning: invalid value encountered in intersection\n",
            "  return lib.intersection(a, b, **kwargs)\n"
          ]
        },
        {
          "output_type": "stream",
          "name": "stdout",
          "text": [
            "(0.4109375, 0.4109375)\n",
            "(0.4109375, 0.4109375)\n",
            "(0.4109375, 0.4109375)\n",
            "(0.4109375, 0.4109375)\n",
            "(0.4109375, 0.4109375)\n",
            "(0.4109375, 0.4109375)\n",
            "(0.4109375, 0.4109375)\n",
            "(0.4109375, 0.4109375)\n",
            "fps: 0.34\n",
            "[1 1 1 1 1 1 1 1]\n",
            "progress: 46 / 250\n"
          ]
        },
        {
          "output_type": "stream",
          "name": "stderr",
          "text": [
            "/usr/local/lib/python3.8/dist-packages/shapely/set_operations.py:133: RuntimeWarning: invalid value encountered in intersection\n",
            "  return lib.intersection(a, b, **kwargs)\n"
          ]
        },
        {
          "output_type": "stream",
          "name": "stdout",
          "text": [
            "(0.634375, 0.634375)\n",
            "(0.634375, 0.634375)\n",
            "(0.634375, 0.634375)\n",
            "fps: 0.32\n",
            "[1 1 1]\n",
            "progress: 47 / 250\n",
            "(0.659375, 0.659375)\n",
            "(0.659375, 0.659375)\n",
            "(0.659375, 0.659375)\n",
            "(0.659375, 0.659375)\n",
            "(0.659375, 0.659375)\n",
            "(0.659375, 0.659375)\n",
            "(0.659375, 0.659375)\n",
            "(0.659375, 0.659375)\n",
            "(0.659375, 0.659375)\n",
            "fps: 0.33\n",
            "[1 1 1 1 1 1 1 1]\n",
            "progress: 48 / 250\n"
          ]
        },
        {
          "output_type": "stream",
          "name": "stderr",
          "text": [
            "/usr/local/lib/python3.8/dist-packages/shapely/set_operations.py:133: RuntimeWarning: invalid value encountered in intersection\n",
            "  return lib.intersection(a, b, **kwargs)\n"
          ]
        },
        {
          "output_type": "stream",
          "name": "stdout",
          "text": [
            "(1.2390625, 1.2390625)\n",
            "(1.2390625, 1.2390625)\n",
            "(1.2390625, 1.2390625)\n",
            "fps: 0.33\n",
            "[1 1 1 1]\n",
            "progress: 49 / 250\n"
          ]
        },
        {
          "output_type": "stream",
          "name": "stderr",
          "text": [
            "/usr/local/lib/python3.8/dist-packages/shapely/set_operations.py:133: RuntimeWarning: invalid value encountered in intersection\n",
            "  return lib.intersection(a, b, **kwargs)\n"
          ]
        },
        {
          "output_type": "stream",
          "name": "stdout",
          "text": [
            "(1.14375, 1.14375)\n",
            "(1.14375, 1.14375)\n",
            "(1.14375, 1.14375)\n",
            "(1.14375, 1.14375)\n",
            "(1.14375, 1.14375)\n",
            "fps: 0.32\n",
            "[1 1 1 1 1]\n",
            "progress: 50 / 250\n"
          ]
        },
        {
          "output_type": "stream",
          "name": "stderr",
          "text": [
            "/usr/local/lib/python3.8/dist-packages/shapely/set_operations.py:133: RuntimeWarning: invalid value encountered in intersection\n",
            "  return lib.intersection(a, b, **kwargs)\n"
          ]
        },
        {
          "output_type": "stream",
          "name": "stdout",
          "text": [
            "(0.721875, 0.721875)\n",
            "(0.721875, 0.721875)\n",
            "(0.721875, 0.721875)\n",
            "(0.721875, 0.721875)\n",
            "fps: 0.33\n",
            "[1 1 1 1]\n",
            "progress: 51 / 250\n"
          ]
        },
        {
          "output_type": "stream",
          "name": "stderr",
          "text": [
            "/usr/local/lib/python3.8/dist-packages/shapely/set_operations.py:133: RuntimeWarning: invalid value encountered in intersection\n",
            "  return lib.intersection(a, b, **kwargs)\n"
          ]
        },
        {
          "output_type": "stream",
          "name": "stdout",
          "text": [
            "(1.178125, 1.178125)\n",
            "(1.178125, 1.178125)\n",
            "fps: 0.33\n",
            "[1 1 1]\n",
            "progress: 52 / 250\n"
          ]
        },
        {
          "output_type": "stream",
          "name": "stderr",
          "text": [
            "/usr/local/lib/python3.8/dist-packages/shapely/set_operations.py:133: RuntimeWarning: invalid value encountered in intersection\n",
            "  return lib.intersection(a, b, **kwargs)\n"
          ]
        },
        {
          "output_type": "stream",
          "name": "stdout",
          "text": [
            "fps: 0.34\n",
            "[1 1 1 1 1 1 1 1 1 1 1 1 1 1 1 1]\n",
            "progress: 53 / 250\n",
            "fps: 0.34\n",
            "[1 1 1 1 1 1 1 1 1 1 1 1 1 1]\n",
            "progress: 54 / 250\n",
            "(0.521875, 0.521875)\n",
            "(0.521875, 0.521875)\n",
            "(0.521875, 0.521875)\n",
            "(0.521875, 0.521875)\n",
            "(0.521875, 0.521875)\n",
            "(0.521875, 0.521875)\n",
            "(0.521875, 0.521875)\n",
            "fps: 0.34\n",
            "[1 1 1 1 1 1 1]\n",
            "progress: 55 / 250\n"
          ]
        },
        {
          "output_type": "stream",
          "name": "stderr",
          "text": [
            "/usr/local/lib/python3.8/dist-packages/shapely/set_operations.py:133: RuntimeWarning: invalid value encountered in intersection\n",
            "  return lib.intersection(a, b, **kwargs)\n"
          ]
        },
        {
          "output_type": "stream",
          "name": "stdout",
          "text": [
            "(1.4125, 1.4125)\n",
            "(1.4125, 1.4125)\n",
            "(1.4125, 1.4125)\n",
            "(1.4125, 1.4125)\n",
            "(1.4125, 1.4125)\n",
            "fps: 0.35\n",
            "[1 1 1 1 1]\n",
            "progress: 56 / 250\n"
          ]
        },
        {
          "output_type": "stream",
          "name": "stderr",
          "text": [
            "/usr/local/lib/python3.8/dist-packages/shapely/set_operations.py:133: RuntimeWarning: invalid value encountered in intersection\n",
            "  return lib.intersection(a, b, **kwargs)\n"
          ]
        },
        {
          "output_type": "stream",
          "name": "stdout",
          "text": [
            "(0.6546875, 0.6546875)\n",
            "(0.6546875, 0.6546875)\n",
            "(0.6546875, 0.6546875)\n",
            "(0.6546875, 0.6546875)\n",
            "(0.6546875, 0.6546875)\n",
            "(0.6546875, 0.6546875)\n",
            "(0.6546875, 0.6546875)\n",
            "fps: 0.35\n",
            "[1 1 1 1 1 1 1]\n",
            "progress: 57 / 250\n"
          ]
        },
        {
          "output_type": "stream",
          "name": "stderr",
          "text": [
            "/usr/local/lib/python3.8/dist-packages/shapely/set_operations.py:133: RuntimeWarning: invalid value encountered in intersection\n",
            "  return lib.intersection(a, b, **kwargs)\n"
          ]
        },
        {
          "output_type": "stream",
          "name": "stdout",
          "text": [
            "(0.93125, 0.93125)\n",
            "(0.93125, 0.93125)\n",
            "fps: 0.35\n",
            "[1 1]\n",
            "progress: 58 / 250\n",
            "(1.1671875, 1.1671875)\n",
            "(1.1671875, 1.1671875)\n",
            "(1.1671875, 1.1671875)\n",
            "(1.1671875, 1.1671875)\n",
            "(1.1671875, 1.1671875)\n",
            "(1.1671875, 1.1671875)\n",
            "(1.1671875, 1.1671875)\n",
            "(1.1671875, 1.1671875)\n",
            "fps: 0.35\n",
            "[1 1 1 1 1 1 1 1]\n",
            "progress: 59 / 250\n"
          ]
        },
        {
          "output_type": "stream",
          "name": "stderr",
          "text": [
            "/usr/local/lib/python3.8/dist-packages/shapely/set_operations.py:133: RuntimeWarning: invalid value encountered in intersection\n",
            "  return lib.intersection(a, b, **kwargs)\n"
          ]
        },
        {
          "output_type": "stream",
          "name": "stdout",
          "text": [
            "(1.14375, 1.14375)\n",
            "(1.14375, 1.14375)\n",
            "(1.14375, 1.14375)\n",
            "(1.14375, 1.14375)\n",
            "(1.14375, 1.14375)\n",
            "(1.14375, 1.14375)\n",
            "(1.14375, 1.14375)\n",
            "(1.14375, 1.14375)\n",
            "(1.14375, 1.14375)\n",
            "(1.14375, 1.14375)\n",
            "(1.14375, 1.14375)\n",
            "(1.14375, 1.14375)\n",
            "(1.14375, 1.14375)\n",
            "fps: 0.36\n",
            "[1 1 1 1 1 1 1 1 1 1 1 1 1 1 1 1 1 1 1]\n",
            "progress: 60 / 250\n"
          ]
        },
        {
          "output_type": "stream",
          "name": "stderr",
          "text": [
            "/usr/local/lib/python3.8/dist-packages/shapely/set_operations.py:133: RuntimeWarning: invalid value encountered in intersection\n",
            "  return lib.intersection(a, b, **kwargs)\n"
          ]
        },
        {
          "output_type": "stream",
          "name": "stdout",
          "text": [
            "(0.6296875, 0.6296875)\n",
            "(0.6296875, 0.6296875)\n",
            "(0.6296875, 0.6296875)\n",
            "(0.6296875, 0.6296875)\n",
            "(0.6296875, 0.6296875)\n",
            "(0.6296875, 0.6296875)\n",
            "(0.6296875, 0.6296875)\n",
            "(0.6296875, 0.6296875)\n",
            "(0.6296875, 0.6296875)\n",
            "(0.6296875, 0.6296875)\n",
            "(0.6296875, 0.6296875)\n",
            "(0.6296875, 0.6296875)\n",
            "fps: 0.36\n",
            "[1 1 1 1 1 1 1 1 1 1 1 1]\n",
            "progress: 61 / 250\n"
          ]
        },
        {
          "output_type": "stream",
          "name": "stderr",
          "text": [
            "/usr/local/lib/python3.8/dist-packages/shapely/set_operations.py:133: RuntimeWarning: invalid value encountered in intersection\n",
            "  return lib.intersection(a, b, **kwargs)\n"
          ]
        },
        {
          "output_type": "stream",
          "name": "stdout",
          "text": [
            "(0.75625, 0.75625)\n",
            "(0.75625, 0.75625)\n",
            "(0.75625, 0.75625)\n",
            "(0.75625, 0.75625)\n",
            "(0.75625, 0.75625)\n",
            "(0.75625, 0.75625)\n",
            "(0.75625, 0.75625)\n",
            "fps: 0.36\n",
            "[1 1 1 1 1 1 1]\n",
            "progress: 62 / 250\n"
          ]
        },
        {
          "output_type": "stream",
          "name": "stderr",
          "text": [
            "/usr/local/lib/python3.8/dist-packages/shapely/set_operations.py:133: RuntimeWarning: invalid value encountered in intersection\n",
            "  return lib.intersection(a, b, **kwargs)\n"
          ]
        },
        {
          "output_type": "stream",
          "name": "stdout",
          "text": [
            "(0.540625, 0.540625)\n",
            "(0.540625, 0.540625)\n",
            "(0.540625, 0.540625)\n",
            "fps: 0.35\n",
            "[1 1 1]\n",
            "progress: 63 / 250\n"
          ]
        },
        {
          "output_type": "stream",
          "name": "stderr",
          "text": [
            "/usr/local/lib/python3.8/dist-packages/shapely/set_operations.py:133: RuntimeWarning: invalid value encountered in intersection\n",
            "  return lib.intersection(a, b, **kwargs)\n"
          ]
        },
        {
          "output_type": "stream",
          "name": "stdout",
          "text": [
            "(1.571875, 1.571875)\n",
            "(1.571875, 1.571875)\n",
            "fps: 0.35\n",
            "[1 1]\n",
            "progress: 64 / 250\n"
          ]
        },
        {
          "output_type": "stream",
          "name": "stderr",
          "text": [
            "/usr/local/lib/python3.8/dist-packages/shapely/set_operations.py:133: RuntimeWarning: invalid value encountered in intersection\n",
            "  return lib.intersection(a, b, **kwargs)\n"
          ]
        },
        {
          "output_type": "stream",
          "name": "stdout",
          "text": [
            "(1.3484375, 1.3484375)\n",
            "(1.3484375, 1.3484375)\n",
            "fps: 0.35\n",
            "[1]\n",
            "progress: 65 / 250\n",
            "(0.95625, 0.95625)\n",
            "(0.95625, 0.95625)\n",
            "(0.95625, 0.95625)\n",
            "(0.95625, 0.95625)\n",
            "(0.95625, 0.95625)\n",
            "(0.95625, 0.95625)\n",
            "(0.95625, 0.95625)\n",
            "(0.95625, 0.95625)\n",
            "(0.95625, 0.95625)\n",
            "(0.95625, 0.95625)\n",
            "(0.95625, 0.95625)\n",
            "(0.95625, 0.95625)\n",
            "(0.95625, 0.95625)\n",
            "(0.95625, 0.95625)\n",
            "fps: 0.35\n",
            "[1 1 1 1 1 1 1 1 1 1]\n",
            "progress: 66 / 250\n"
          ]
        },
        {
          "output_type": "stream",
          "name": "stderr",
          "text": [
            "/usr/local/lib/python3.8/dist-packages/shapely/set_operations.py:133: RuntimeWarning: invalid value encountered in intersection\n",
            "  return lib.intersection(a, b, **kwargs)\n"
          ]
        },
        {
          "output_type": "stream",
          "name": "stdout",
          "text": [
            "(0.9265625, 0.9265625)\n",
            "(0.9265625, 0.9265625)\n",
            "(0.9265625, 0.9265625)\n",
            "(0.9265625, 0.9265625)\n",
            "(0.9265625, 0.9265625)\n",
            "(0.9265625, 0.9265625)\n",
            "(0.9265625, 0.9265625)\n",
            "(0.9265625, 0.9265625)\n",
            "(0.9265625, 0.9265625)\n",
            "fps: 0.35\n",
            "[1 1 1 1 1 1 1 1 1]\n",
            "progress: 67 / 250\n"
          ]
        },
        {
          "output_type": "stream",
          "name": "stderr",
          "text": [
            "/usr/local/lib/python3.8/dist-packages/shapely/set_operations.py:133: RuntimeWarning: invalid value encountered in intersection\n",
            "  return lib.intersection(a, b, **kwargs)\n"
          ]
        },
        {
          "output_type": "stream",
          "name": "stdout",
          "text": [
            "(0.7609375, 0.7609375)\n",
            "(0.7609375, 0.7609375)\n",
            "(0.7609375, 0.7609375)\n",
            "(0.7609375, 0.7609375)\n",
            "(0.7609375, 0.7609375)\n",
            "(0.7609375, 0.7609375)\n",
            "(0.7609375, 0.7609375)\n",
            "(0.7609375, 0.7609375)\n",
            "(0.7609375, 0.7609375)\n",
            "(0.7609375, 0.7609375)\n",
            "fps: 0.35\n",
            "[1 1 1 1 1 1 1 1 1 1 1 1]\n",
            "progress: 68 / 250\n"
          ]
        },
        {
          "output_type": "stream",
          "name": "stderr",
          "text": [
            "/usr/local/lib/python3.8/dist-packages/shapely/set_operations.py:133: RuntimeWarning: invalid value encountered in intersection\n",
            "  return lib.intersection(a, b, **kwargs)\n"
          ]
        },
        {
          "output_type": "stream",
          "name": "stdout",
          "text": [
            "(1.0359375, 1.0359375)\n",
            "(1.0359375, 1.0359375)\n",
            "(1.0359375, 1.0359375)\n",
            "(1.0359375, 1.0359375)\n",
            "(1.0359375, 1.0359375)\n",
            "(1.0359375, 1.0359375)\n",
            "(1.0359375, 1.0359375)\n",
            "(1.0359375, 1.0359375)\n",
            "(1.0359375, 1.0359375)\n",
            "(1.0359375, 1.0359375)\n",
            "(1.0359375, 1.0359375)\n",
            "(1.0359375, 1.0359375)\n",
            "(1.0359375, 1.0359375)\n",
            "(1.0359375, 1.0359375)\n",
            "(1.0359375, 1.0359375)\n",
            "(1.0359375, 1.0359375)\n",
            "(1.0359375, 1.0359375)\n",
            "(1.0359375, 1.0359375)\n",
            "(1.0359375, 1.0359375)\n",
            "fps: 0.35\n",
            "[1 1 1 1 1 1 1 1 1 1 1 1 1 1 1 1 1 1 1 1 1 1]\n",
            "progress: 69 / 250\n"
          ]
        },
        {
          "output_type": "stream",
          "name": "stderr",
          "text": [
            "/usr/local/lib/python3.8/dist-packages/shapely/set_operations.py:133: RuntimeWarning: invalid value encountered in intersection\n",
            "  return lib.intersection(a, b, **kwargs)\n"
          ]
        },
        {
          "output_type": "stream",
          "name": "stdout",
          "text": [
            "(0.8296875, 0.8296875)\n",
            "(0.8296875, 0.8296875)\n",
            "(0.8296875, 0.8296875)\n",
            "(0.8296875, 0.8296875)\n",
            "(0.8296875, 0.8296875)\n",
            "(0.8296875, 0.8296875)\n",
            "(0.8296875, 0.8296875)\n",
            "fps: 0.34\n",
            "[1 1 1 1 1 1 1 1 1 1 1 1 1]\n",
            "progress: 70 / 250\n"
          ]
        },
        {
          "output_type": "stream",
          "name": "stderr",
          "text": [
            "/usr/local/lib/python3.8/dist-packages/shapely/set_operations.py:133: RuntimeWarning: invalid value encountered in intersection\n",
            "  return lib.intersection(a, b, **kwargs)\n"
          ]
        },
        {
          "output_type": "stream",
          "name": "stdout",
          "text": [
            "(0.95625, 0.95625)\n",
            "(0.95625, 0.95625)\n",
            "(0.95625, 0.95625)\n",
            "(0.95625, 0.95625)\n",
            "(0.95625, 0.95625)\n",
            "(0.95625, 0.95625)\n",
            "fps: 0.34\n",
            "[1 1 1 1 1 1]\n",
            "progress: 71 / 250\n"
          ]
        },
        {
          "output_type": "stream",
          "name": "stderr",
          "text": [
            "/usr/local/lib/python3.8/dist-packages/shapely/set_operations.py:133: RuntimeWarning: invalid value encountered in intersection\n",
            "  return lib.intersection(a, b, **kwargs)\n"
          ]
        },
        {
          "output_type": "stream",
          "name": "stdout",
          "text": [
            "(0.6171875, 0.6171875)\n",
            "(0.6171875, 0.6171875)\n",
            "(0.6171875, 0.6171875)\n",
            "fps: 0.34\n",
            "[1 1 1]\n",
            "progress: 72 / 250\n"
          ]
        },
        {
          "output_type": "stream",
          "name": "stderr",
          "text": [
            "/usr/local/lib/python3.8/dist-packages/shapely/set_operations.py:133: RuntimeWarning: invalid value encountered in intersection\n",
            "  return lib.intersection(a, b, **kwargs)\n"
          ]
        },
        {
          "output_type": "stream",
          "name": "stdout",
          "text": [
            "(1.4265625, 1.4265625)\n",
            "(1.4265625, 1.4265625)\n",
            "(1.4265625, 1.4265625)\n",
            "(1.4265625, 1.4265625)\n",
            "(1.4265625, 1.4265625)\n",
            "(1.4265625, 1.4265625)\n",
            "(1.4265625, 1.4265625)\n",
            "(1.4265625, 1.4265625)\n",
            "(1.4265625, 1.4265625)\n",
            "(1.4265625, 1.4265625)\n",
            "fps: 0.34\n",
            "[1 1 1 1 1 1 1 1 1 1 1]\n",
            "progress: 73 / 250\n"
          ]
        },
        {
          "output_type": "stream",
          "name": "stderr",
          "text": [
            "/usr/local/lib/python3.8/dist-packages/shapely/set_operations.py:133: RuntimeWarning: invalid value encountered in intersection\n",
            "  return lib.intersection(a, b, **kwargs)\n"
          ]
        },
        {
          "output_type": "stream",
          "name": "stdout",
          "text": [
            "(0.70625, 0.70625)\n",
            "(0.70625, 0.70625)\n",
            "(0.70625, 0.70625)\n",
            "(0.70625, 0.70625)\n",
            "(0.70625, 0.70625)\n",
            "(0.70625, 0.70625)\n",
            "(0.70625, 0.70625)\n",
            "(0.70625, 0.70625)\n",
            "(0.70625, 0.70625)\n",
            "(0.70625, 0.70625)\n",
            "(0.70625, 0.70625)\n",
            "fps: 0.34\n",
            "[1 1 1 1 1 1 1 1 1 1 1 1]\n",
            "progress: 74 / 250\n"
          ]
        },
        {
          "output_type": "stream",
          "name": "stderr",
          "text": [
            "/usr/local/lib/python3.8/dist-packages/shapely/set_operations.py:133: RuntimeWarning: invalid value encountered in intersection\n",
            "  return lib.intersection(a, b, **kwargs)\n"
          ]
        },
        {
          "output_type": "stream",
          "name": "stdout",
          "text": [
            "(0.6609375, 0.6609375)\n",
            "(0.6609375, 0.6609375)\n",
            "(0.6609375, 0.6609375)\n",
            "(0.6609375, 0.6609375)\n",
            "fps: 0.34\n",
            "[1 1 1 1]\n",
            "progress: 75 / 250\n"
          ]
        },
        {
          "output_type": "stream",
          "name": "stderr",
          "text": [
            "/usr/local/lib/python3.8/dist-packages/shapely/set_operations.py:133: RuntimeWarning: invalid value encountered in intersection\n",
            "  return lib.intersection(a, b, **kwargs)\n"
          ]
        },
        {
          "output_type": "stream",
          "name": "stdout",
          "text": [
            "(0.540625, 0.540625)\n",
            "(0.540625, 0.540625)\n",
            "(0.540625, 0.540625)\n",
            "(0.540625, 0.540625)\n",
            "fps: 0.34\n",
            "[1 1 1 1 1 1 1]\n",
            "progress: 76 / 250\n"
          ]
        },
        {
          "output_type": "stream",
          "name": "stderr",
          "text": [
            "/usr/local/lib/python3.8/dist-packages/shapely/set_operations.py:133: RuntimeWarning: invalid value encountered in intersection\n",
            "  return lib.intersection(a, b, **kwargs)\n"
          ]
        },
        {
          "output_type": "stream",
          "name": "stdout",
          "text": [
            "(0.5015625, 0.5015625)\n",
            "(0.5015625, 0.5015625)\n",
            "(0.5015625, 0.5015625)\n",
            "(0.5015625, 0.5015625)\n",
            "(0.5015625, 0.5015625)\n",
            "fps: 0.35\n",
            "[1 1 1 1 1]\n",
            "progress: 77 / 250\n"
          ]
        },
        {
          "output_type": "stream",
          "name": "stderr",
          "text": [
            "/usr/local/lib/python3.8/dist-packages/shapely/set_operations.py:133: RuntimeWarning: invalid value encountered in intersection\n",
            "  return lib.intersection(a, b, **kwargs)\n"
          ]
        },
        {
          "output_type": "stream",
          "name": "stdout",
          "text": [
            "(0.921875, 0.921875)\n",
            "(0.921875, 0.921875)\n",
            "(0.921875, 0.921875)\n",
            "fps: 0.35\n",
            "[1 1 1 1 1 1 1 1 1]\n",
            "progress: 78 / 250\n"
          ]
        },
        {
          "output_type": "stream",
          "name": "stderr",
          "text": [
            "/usr/local/lib/python3.8/dist-packages/shapely/set_operations.py:133: RuntimeWarning: invalid value encountered in intersection\n",
            "  return lib.intersection(a, b, **kwargs)\n"
          ]
        },
        {
          "output_type": "stream",
          "name": "stdout",
          "text": [
            "(2.1046875, 2.1046875)\n",
            "(2.1046875, 2.1046875)\n",
            "(2.1046875, 2.1046875)\n",
            "(2.1046875, 2.1046875)\n",
            "(2.1046875, 2.1046875)\n",
            "(2.1046875, 2.1046875)\n",
            "(2.1046875, 2.1046875)\n",
            "(2.1046875, 2.1046875)\n",
            "(2.1046875, 2.1046875)\n",
            "(2.1046875, 2.1046875)\n",
            "(2.1046875, 2.1046875)\n",
            "(2.1046875, 2.1046875)\n",
            "(2.1046875, 2.1046875)\n",
            "(2.1046875, 2.1046875)\n",
            "(2.1046875, 2.1046875)\n",
            "(2.1046875, 2.1046875)\n",
            "(2.1046875, 2.1046875)\n",
            "(2.1046875, 2.1046875)\n",
            "(2.1046875, 2.1046875)\n",
            "fps: 0.35\n",
            "[1 1 1 1 1 1 1 1 1 1 1 1 1 1 1 1 1 1 1 1 1]\n",
            "progress: 79 / 250\n"
          ]
        },
        {
          "output_type": "stream",
          "name": "stderr",
          "text": [
            "/usr/local/lib/python3.8/dist-packages/shapely/set_operations.py:133: RuntimeWarning: invalid value encountered in intersection\n",
            "  return lib.intersection(a, b, **kwargs)\n"
          ]
        },
        {
          "output_type": "stream",
          "name": "stdout",
          "text": [
            "(0.39375, 0.39375)\n",
            "(0.39375, 0.39375)\n",
            "(0.39375, 0.39375)\n",
            "(0.39375, 0.39375)\n",
            "fps: 0.34\n",
            "[1 1 1 1 1 1]\n",
            "progress: 80 / 250\n"
          ]
        },
        {
          "output_type": "stream",
          "name": "stderr",
          "text": [
            "/usr/local/lib/python3.8/dist-packages/shapely/set_operations.py:133: RuntimeWarning: invalid value encountered in intersection\n",
            "  return lib.intersection(a, b, **kwargs)\n"
          ]
        },
        {
          "output_type": "stream",
          "name": "stdout",
          "text": [
            "(0.921875, 0.921875)\n",
            "(0.921875, 0.921875)\n",
            "(0.921875, 0.921875)\n",
            "(0.921875, 0.921875)\n",
            "(0.921875, 0.921875)\n",
            "(0.921875, 0.921875)\n",
            "(0.921875, 0.921875)\n",
            "(0.921875, 0.921875)\n",
            "(0.921875, 0.921875)\n",
            "(0.921875, 0.921875)\n",
            "fps: 0.34\n",
            "[1 1 1 1 1 1 1]\n",
            "progress: 81 / 250\n"
          ]
        },
        {
          "output_type": "stream",
          "name": "stderr",
          "text": [
            "/usr/local/lib/python3.8/dist-packages/shapely/set_operations.py:133: RuntimeWarning: invalid value encountered in intersection\n",
            "  return lib.intersection(a, b, **kwargs)\n"
          ]
        },
        {
          "output_type": "stream",
          "name": "stdout",
          "text": [
            "(0.5671875, 0.5671875)\n",
            "(0.5671875, 0.5671875)\n",
            "(0.5671875, 0.5671875)\n",
            "(0.5671875, 0.5671875)\n",
            "(0.5671875, 0.5671875)\n",
            "(0.5671875, 0.5671875)\n",
            "fps: 0.34\n",
            "[1 1 1 1 1 1 1]\n",
            "progress: 82 / 250\n"
          ]
        },
        {
          "output_type": "stream",
          "name": "stderr",
          "text": [
            "/usr/local/lib/python3.8/dist-packages/shapely/set_operations.py:133: RuntimeWarning: invalid value encountered in intersection\n",
            "  return lib.intersection(a, b, **kwargs)\n"
          ]
        },
        {
          "output_type": "stream",
          "name": "stdout",
          "text": [
            "(0.8671875, 0.8671875)\n",
            "(0.8671875, 0.8671875)\n",
            "(0.8671875, 0.8671875)\n",
            "(0.8671875, 0.8671875)\n",
            "(0.8671875, 0.8671875)\n",
            "(0.8671875, 0.8671875)\n",
            "(0.8671875, 0.8671875)\n",
            "(0.8671875, 0.8671875)\n",
            "(0.8671875, 0.8671875)\n",
            "(0.8671875, 0.8671875)\n",
            "(0.8671875, 0.8671875)\n",
            "fps: 0.34\n",
            "[1 1 1 1 1 1 1 1 1 1 1 1]\n",
            "progress: 83 / 250\n"
          ]
        },
        {
          "output_type": "stream",
          "name": "stderr",
          "text": [
            "/usr/local/lib/python3.8/dist-packages/shapely/set_operations.py:133: RuntimeWarning: invalid value encountered in intersection\n",
            "  return lib.intersection(a, b, **kwargs)\n"
          ]
        },
        {
          "output_type": "stream",
          "name": "stdout",
          "text": [
            "(1.6234375, 1.6234375)\n",
            "(1.6234375, 1.6234375)\n",
            "(1.6234375, 1.6234375)\n",
            "(1.6234375, 1.6234375)\n",
            "fps: 0.34\n",
            "[1 1 1 1]\n",
            "progress: 84 / 250\n"
          ]
        },
        {
          "output_type": "stream",
          "name": "stderr",
          "text": [
            "/usr/local/lib/python3.8/dist-packages/shapely/set_operations.py:133: RuntimeWarning: invalid value encountered in intersection\n",
            "  return lib.intersection(a, b, **kwargs)\n"
          ]
        },
        {
          "output_type": "stream",
          "name": "stdout",
          "text": [
            "(0.7125, 0.7125)\n",
            "(0.7125, 0.7125)\n",
            "(0.7125, 0.7125)\n",
            "(0.7125, 0.7125)\n",
            "(0.7125, 0.7125)\n",
            "(0.7125, 0.7125)\n",
            "(0.7125, 0.7125)\n",
            "(0.7125, 0.7125)\n",
            "fps: 0.35\n",
            "[1 1 1 1 1 1 1 1 1]\n",
            "progress: 85 / 250\n"
          ]
        },
        {
          "output_type": "stream",
          "name": "stderr",
          "text": [
            "/usr/local/lib/python3.8/dist-packages/shapely/set_operations.py:133: RuntimeWarning: invalid value encountered in intersection\n",
            "  return lib.intersection(a, b, **kwargs)\n"
          ]
        },
        {
          "output_type": "stream",
          "name": "stdout",
          "text": [
            "(0.5859375, 0.5859375)\n",
            "(0.5859375, 0.5859375)\n",
            "(0.5859375, 0.5859375)\n",
            "(0.5859375, 0.5859375)\n",
            "(0.5859375, 0.5859375)\n",
            "(0.5859375, 0.5859375)\n",
            "(0.5859375, 0.5859375)\n",
            "(0.5859375, 0.5859375)\n",
            "(0.5859375, 0.5859375)\n",
            "(0.5859375, 0.5859375)\n",
            "(0.5859375, 0.5859375)\n",
            "(0.5859375, 0.5859375)\n",
            "(0.5859375, 0.5859375)\n",
            "(0.5859375, 0.5859375)\n",
            "(0.5859375, 0.5859375)\n",
            "(0.5859375, 0.5859375)\n",
            "(0.5859375, 0.5859375)\n",
            "(0.5859375, 0.5859375)\n",
            "fps: 0.35\n",
            "[1 1 1 1 1 1 1 1 1 1 1 1 1 1 1 1 1 1]\n",
            "progress: 86 / 250\n"
          ]
        },
        {
          "output_type": "stream",
          "name": "stderr",
          "text": [
            "/usr/local/lib/python3.8/dist-packages/shapely/set_operations.py:133: RuntimeWarning: invalid value encountered in intersection\n",
            "  return lib.intersection(a, b, **kwargs)\n"
          ]
        },
        {
          "output_type": "stream",
          "name": "stdout",
          "text": [
            "(1.4859375, 1.4859375)\n",
            "(1.4859375, 1.4859375)\n",
            "(1.4859375, 1.4859375)\n",
            "(1.4859375, 1.4859375)\n",
            "(1.4859375, 1.4859375)\n",
            "fps: 0.35\n",
            "[1 1 1 1 1]\n",
            "progress: 87 / 250\n"
          ]
        },
        {
          "output_type": "stream",
          "name": "stderr",
          "text": [
            "/usr/local/lib/python3.8/dist-packages/shapely/set_operations.py:133: RuntimeWarning: invalid value encountered in intersection\n",
            "  return lib.intersection(a, b, **kwargs)\n"
          ]
        },
        {
          "output_type": "stream",
          "name": "stdout",
          "text": [
            "(0.646875, 0.646875)\n",
            "(0.646875, 0.646875)\n",
            "(0.646875, 0.646875)\n",
            "(0.646875, 0.646875)\n",
            "(0.646875, 0.646875)\n",
            "(0.646875, 0.646875)\n",
            "(0.646875, 0.646875)\n",
            "(0.646875, 0.646875)\n",
            "fps: 0.35\n",
            "[1 1 1 1 1 1 1 1 1]\n",
            "progress: 88 / 250\n"
          ]
        },
        {
          "output_type": "stream",
          "name": "stderr",
          "text": [
            "/usr/local/lib/python3.8/dist-packages/shapely/set_operations.py:133: RuntimeWarning: invalid value encountered in intersection\n",
            "  return lib.intersection(a, b, **kwargs)\n"
          ]
        },
        {
          "output_type": "stream",
          "name": "stdout",
          "text": [
            "(0.621875, 0.621875)\n",
            "(0.621875, 0.621875)\n",
            "(0.621875, 0.621875)\n",
            "(0.621875, 0.621875)\n",
            "(0.621875, 0.621875)\n",
            "(0.621875, 0.621875)\n",
            "(0.621875, 0.621875)\n",
            "(0.621875, 0.621875)\n",
            "(0.621875, 0.621875)\n",
            "(0.621875, 0.621875)\n",
            "(0.621875, 0.621875)\n",
            "(0.621875, 0.621875)\n",
            "fps: 0.35\n",
            "[1 1 1 1 1 1 1 1 1 1]\n",
            "progress: 89 / 250\n"
          ]
        },
        {
          "output_type": "stream",
          "name": "stderr",
          "text": [
            "/usr/local/lib/python3.8/dist-packages/shapely/set_operations.py:133: RuntimeWarning: invalid value encountered in intersection\n",
            "  return lib.intersection(a, b, **kwargs)\n"
          ]
        },
        {
          "output_type": "stream",
          "name": "stdout",
          "text": [
            "(0.6421875, 0.6421875)\n",
            "(0.6421875, 0.6421875)\n",
            "(0.6421875, 0.6421875)\n",
            "(0.6421875, 0.6421875)\n",
            "(0.6421875, 0.6421875)\n",
            "(0.6421875, 0.6421875)\n",
            "(0.6421875, 0.6421875)\n",
            "(0.6421875, 0.6421875)\n",
            "(0.6421875, 0.6421875)\n",
            "(0.6421875, 0.6421875)\n",
            "(0.6421875, 0.6421875)\n",
            "(0.6421875, 0.6421875)\n",
            "(0.6421875, 0.6421875)\n",
            "fps: 0.35\n",
            "[1 1 1 1 1 1 1 1 1 1 1 1 1 1 1 1 1 1 1 1 1 1 1]\n",
            "progress: 90 / 250\n"
          ]
        },
        {
          "output_type": "stream",
          "name": "stderr",
          "text": [
            "/usr/local/lib/python3.8/dist-packages/shapely/set_operations.py:133: RuntimeWarning: invalid value encountered in intersection\n",
            "  return lib.intersection(a, b, **kwargs)\n"
          ]
        },
        {
          "output_type": "stream",
          "name": "stdout",
          "text": [
            "(0.74375, 0.74375)\n",
            "(0.74375, 0.74375)\n",
            "(0.74375, 0.74375)\n",
            "(0.74375, 0.74375)\n",
            "(0.74375, 0.74375)\n",
            "(0.74375, 0.74375)\n",
            "(0.74375, 0.74375)\n",
            "(0.74375, 0.74375)\n",
            "(0.74375, 0.74375)\n",
            "(0.74375, 0.74375)\n",
            "(0.74375, 0.74375)\n",
            "(0.74375, 0.74375)\n",
            "fps: 0.35\n",
            "[1 1 1 1 1 1 1 1 1 1 1 1]\n",
            "progress: 91 / 250\n"
          ]
        },
        {
          "output_type": "stream",
          "name": "stderr",
          "text": [
            "/usr/local/lib/python3.8/dist-packages/shapely/set_operations.py:133: RuntimeWarning: invalid value encountered in intersection\n",
            "  return lib.intersection(a, b, **kwargs)\n"
          ]
        },
        {
          "output_type": "stream",
          "name": "stdout",
          "text": [
            "(0.740625, 0.740625)\n",
            "(0.740625, 0.740625)\n",
            "(0.740625, 0.740625)\n",
            "(0.740625, 0.740625)\n",
            "(0.740625, 0.740625)\n",
            "(0.740625, 0.740625)\n",
            "fps: 0.35\n",
            "[1 1 1 1 1 1]\n",
            "progress: 92 / 250\n"
          ]
        },
        {
          "output_type": "stream",
          "name": "stderr",
          "text": [
            "/usr/local/lib/python3.8/dist-packages/shapely/set_operations.py:133: RuntimeWarning: invalid value encountered in intersection\n",
            "  return lib.intersection(a, b, **kwargs)\n"
          ]
        },
        {
          "output_type": "stream",
          "name": "stdout",
          "text": [
            "(1.2234375, 1.2234375)\n",
            "(1.2234375, 1.2234375)\n",
            "(1.2234375, 1.2234375)\n",
            "fps: 0.35\n",
            "[1 1 1 1 1]\n",
            "progress: 93 / 250\n"
          ]
        },
        {
          "output_type": "stream",
          "name": "stderr",
          "text": [
            "/usr/local/lib/python3.8/dist-packages/shapely/set_operations.py:133: RuntimeWarning: invalid value encountered in intersection\n",
            "  return lib.intersection(a, b, **kwargs)\n"
          ]
        },
        {
          "output_type": "stream",
          "name": "stdout",
          "text": [
            "(1.178125, 1.178125)\n",
            "(1.178125, 1.178125)\n",
            "(1.178125, 1.178125)\n",
            "(1.178125, 1.178125)\n",
            "(1.178125, 1.178125)\n",
            "(1.178125, 1.178125)\n",
            "(1.178125, 1.178125)\n",
            "fps: 0.36\n",
            "[1 1 1 1 1 1 1 1 1 1 1 1 1 1 1]\n",
            "progress: 94 / 250\n"
          ]
        },
        {
          "output_type": "stream",
          "name": "stderr",
          "text": [
            "/usr/local/lib/python3.8/dist-packages/shapely/set_operations.py:133: RuntimeWarning: invalid value encountered in intersection\n",
            "  return lib.intersection(a, b, **kwargs)\n"
          ]
        },
        {
          "output_type": "stream",
          "name": "stdout",
          "text": [
            "(0.953125, 0.953125)\n",
            "(0.953125, 0.953125)\n",
            "fps: 0.36\n",
            "[1 1 1]\n",
            "progress: 95 / 250\n"
          ]
        },
        {
          "output_type": "stream",
          "name": "stderr",
          "text": [
            "/usr/local/lib/python3.8/dist-packages/shapely/set_operations.py:133: RuntimeWarning: invalid value encountered in intersection\n",
            "  return lib.intersection(a, b, **kwargs)\n"
          ]
        },
        {
          "output_type": "stream",
          "name": "stdout",
          "text": [
            "(0.446875, 0.446875)\n",
            "(0.446875, 0.446875)\n",
            "fps: 0.36\n",
            "[1 1]\n",
            "progress: 96 / 250\n",
            "(0.8375, 0.8375)\n",
            "(0.8375, 0.8375)\n",
            "(0.8375, 0.8375)\n",
            "fps: 0.36\n",
            "[1 1 1]\n",
            "progress: 97 / 250\n"
          ]
        },
        {
          "output_type": "stream",
          "name": "stderr",
          "text": [
            "/usr/local/lib/python3.8/dist-packages/shapely/set_operations.py:133: RuntimeWarning: invalid value encountered in intersection\n",
            "  return lib.intersection(a, b, **kwargs)\n"
          ]
        },
        {
          "output_type": "stream",
          "name": "stdout",
          "text": [
            "(0.7625, 0.7625)\n",
            "(0.7625, 0.7625)\n",
            "fps: 0.35\n",
            "[1 1]\n",
            "progress: 98 / 250\n",
            "(0.909375, 0.909375)\n",
            "(0.909375, 0.909375)\n",
            "(0.909375, 0.909375)\n",
            "fps: 0.35\n",
            "[1 1 1 1 1]\n",
            "progress: 99 / 250\n"
          ]
        },
        {
          "output_type": "stream",
          "name": "stderr",
          "text": [
            "/usr/local/lib/python3.8/dist-packages/shapely/set_operations.py:133: RuntimeWarning: invalid value encountered in intersection\n",
            "  return lib.intersection(a, b, **kwargs)\n"
          ]
        },
        {
          "output_type": "stream",
          "name": "stdout",
          "text": [
            "(1.5171875, 1.5171875)\n",
            "(1.5171875, 1.5171875)\n",
            "(1.5171875, 1.5171875)\n",
            "(1.5171875, 1.5171875)\n",
            "(1.5171875, 1.5171875)\n",
            "(1.5171875, 1.5171875)\n",
            "fps: 0.35\n",
            "[1 1 1 1 1 1]\n",
            "progress: 100 / 250\n"
          ]
        },
        {
          "output_type": "stream",
          "name": "stderr",
          "text": [
            "/usr/local/lib/python3.8/dist-packages/shapely/set_operations.py:133: RuntimeWarning: invalid value encountered in intersection\n",
            "  return lib.intersection(a, b, **kwargs)\n"
          ]
        },
        {
          "output_type": "stream",
          "name": "stdout",
          "text": [
            "(0.5703125, 0.5703125)\n",
            "(0.5703125, 0.5703125)\n",
            "(0.5703125, 0.5703125)\n",
            "(0.5703125, 0.5703125)\n",
            "(0.5703125, 0.5703125)\n",
            "(0.5703125, 0.5703125)\n",
            "(0.5703125, 0.5703125)\n",
            "(0.5703125, 0.5703125)\n",
            "fps: 0.35\n",
            "[1 1 1 1 1 1 1 1 1 1]\n",
            "progress: 101 / 250\n"
          ]
        },
        {
          "output_type": "stream",
          "name": "stderr",
          "text": [
            "/usr/local/lib/python3.8/dist-packages/shapely/set_operations.py:133: RuntimeWarning: invalid value encountered in intersection\n",
            "  return lib.intersection(a, b, **kwargs)\n"
          ]
        },
        {
          "output_type": "stream",
          "name": "stdout",
          "text": [
            "(0.35, 0.35)\n",
            "(0.35, 0.35)\n",
            "(0.35, 0.35)\n",
            "(0.35, 0.35)\n",
            "(0.35, 0.35)\n",
            "(0.35, 0.35)\n",
            "(0.35, 0.35)\n",
            "(0.35, 0.35)\n",
            "(0.35, 0.35)\n",
            "(0.35, 0.35)\n",
            "(0.35, 0.35)\n",
            "fps: 0.35\n",
            "[1 1 1 1 1 1 1 1 1 1 1]\n",
            "progress: 102 / 250\n"
          ]
        },
        {
          "output_type": "stream",
          "name": "stderr",
          "text": [
            "/usr/local/lib/python3.8/dist-packages/shapely/set_operations.py:133: RuntimeWarning: invalid value encountered in intersection\n",
            "  return lib.intersection(a, b, **kwargs)\n"
          ]
        },
        {
          "output_type": "stream",
          "name": "stdout",
          "text": [
            "(1.1859375, 1.1859375)\n",
            "(1.1859375, 1.1859375)\n",
            "(1.1859375, 1.1859375)\n",
            "(1.1859375, 1.1859375)\n",
            "(1.1859375, 1.1859375)\n",
            "(1.1859375, 1.1859375)\n",
            "(1.1859375, 1.1859375)\n",
            "(1.1859375, 1.1859375)\n",
            "(1.1859375, 1.1859375)\n",
            "fps: 0.35\n",
            "[1 1 1 1 1 1 1 1 1]\n",
            "progress: 103 / 250\n"
          ]
        },
        {
          "output_type": "stream",
          "name": "stderr",
          "text": [
            "/usr/local/lib/python3.8/dist-packages/shapely/set_operations.py:133: RuntimeWarning: invalid value encountered in intersection\n",
            "  return lib.intersection(a, b, **kwargs)\n"
          ]
        },
        {
          "output_type": "stream",
          "name": "stdout",
          "text": [
            "(0.5140625, 0.5140625)\n",
            "(0.5140625, 0.5140625)\n",
            "(0.5140625, 0.5140625)\n",
            "(0.5140625, 0.5140625)\n",
            "fps: 0.35\n",
            "[1 1 1 1]\n",
            "progress: 104 / 250\n"
          ]
        },
        {
          "output_type": "stream",
          "name": "stderr",
          "text": [
            "/usr/local/lib/python3.8/dist-packages/shapely/set_operations.py:133: RuntimeWarning: invalid value encountered in intersection\n",
            "  return lib.intersection(a, b, **kwargs)\n"
          ]
        },
        {
          "output_type": "stream",
          "name": "stdout",
          "text": [
            "(0.3875, 0.3875)\n",
            "(0.3875, 0.3875)\n",
            "(0.3875, 0.3875)\n",
            "(0.3875, 0.3875)\n",
            "(0.3875, 0.3875)\n",
            "(0.3875, 0.3875)\n",
            "(0.3875, 0.3875)\n",
            "(0.3875, 0.3875)\n",
            "fps: 0.35\n",
            "[1 1 1 1 1 1 1 1 1 1 1]\n",
            "progress: 105 / 250\n"
          ]
        },
        {
          "output_type": "stream",
          "name": "stderr",
          "text": [
            "/usr/local/lib/python3.8/dist-packages/shapely/set_operations.py:133: RuntimeWarning: invalid value encountered in intersection\n",
            "  return lib.intersection(a, b, **kwargs)\n"
          ]
        },
        {
          "output_type": "stream",
          "name": "stdout",
          "text": [
            "(1.23125, 1.23125)\n",
            "(1.23125, 1.23125)\n",
            "(1.23125, 1.23125)\n",
            "(1.23125, 1.23125)\n",
            "(1.23125, 1.23125)\n",
            "(1.23125, 1.23125)\n",
            "(1.23125, 1.23125)\n",
            "(1.23125, 1.23125)\n",
            "(1.23125, 1.23125)\n",
            "(1.23125, 1.23125)\n",
            "(1.23125, 1.23125)\n",
            "fps: 0.35\n",
            "[1 1 1 1 1 1 1 1 1 1 1 1 1 1 1 1 1 1]\n",
            "progress: 106 / 250\n"
          ]
        },
        {
          "output_type": "stream",
          "name": "stderr",
          "text": [
            "/usr/local/lib/python3.8/dist-packages/shapely/set_operations.py:133: RuntimeWarning: invalid value encountered in intersection\n",
            "  return lib.intersection(a, b, **kwargs)\n"
          ]
        },
        {
          "output_type": "stream",
          "name": "stdout",
          "text": [
            "(0.7328125, 0.7328125)\n",
            "(0.7328125, 0.7328125)\n",
            "(0.7328125, 0.7328125)\n",
            "(0.7328125, 0.7328125)\n",
            "fps: 0.35\n",
            "[1 1 1 1 1 1 1 1]\n",
            "progress: 107 / 250\n"
          ]
        },
        {
          "output_type": "stream",
          "name": "stderr",
          "text": [
            "/usr/local/lib/python3.8/dist-packages/shapely/set_operations.py:133: RuntimeWarning: invalid value encountered in intersection\n",
            "  return lib.intersection(a, b, **kwargs)\n"
          ]
        },
        {
          "output_type": "stream",
          "name": "stdout",
          "text": [
            "(1.25, 1.25)\n",
            "(1.25, 1.25)\n",
            "(1.25, 1.25)\n",
            "fps: 0.35\n",
            "[1 1 1]\n",
            "progress: 108 / 250\n"
          ]
        },
        {
          "output_type": "stream",
          "name": "stderr",
          "text": [
            "/usr/local/lib/python3.8/dist-packages/shapely/set_operations.py:133: RuntimeWarning: invalid value encountered in intersection\n",
            "  return lib.intersection(a, b, **kwargs)\n"
          ]
        },
        {
          "output_type": "stream",
          "name": "stdout",
          "text": [
            "(0.9328125, 0.9328125)\n",
            "(0.9328125, 0.9328125)\n",
            "(0.9328125, 0.9328125)\n",
            "(0.9328125, 0.9328125)\n",
            "(0.9328125, 0.9328125)\n",
            "(0.9328125, 0.9328125)\n",
            "(0.9328125, 0.9328125)\n",
            "(0.9328125, 0.9328125)\n",
            "fps: 0.35\n",
            "[1 1 1 1 1 1 1 1]\n",
            "progress: 109 / 250\n"
          ]
        },
        {
          "output_type": "stream",
          "name": "stderr",
          "text": [
            "/usr/local/lib/python3.8/dist-packages/shapely/set_operations.py:133: RuntimeWarning: invalid value encountered in intersection\n",
            "  return lib.intersection(a, b, **kwargs)\n"
          ]
        },
        {
          "output_type": "stream",
          "name": "stdout",
          "text": [
            "(0.5734375, 0.5734375)\n",
            "(0.5734375, 0.5734375)\n",
            "(0.5734375, 0.5734375)\n",
            "(0.5734375, 0.5734375)\n",
            "(0.5734375, 0.5734375)\n",
            "(0.5734375, 0.5734375)\n",
            "(0.5734375, 0.5734375)\n",
            "(0.5734375, 0.5734375)\n",
            "(0.5734375, 0.5734375)\n",
            "fps: 0.35\n",
            "[1 1 1 1 1 1 1 1 1 1 1]\n",
            "progress: 110 / 250\n"
          ]
        },
        {
          "output_type": "stream",
          "name": "stderr",
          "text": [
            "/usr/local/lib/python3.8/dist-packages/shapely/set_operations.py:133: RuntimeWarning: invalid value encountered in intersection\n",
            "  return lib.intersection(a, b, **kwargs)\n"
          ]
        },
        {
          "output_type": "stream",
          "name": "stdout",
          "text": [
            "(0.7703125, 0.7703125)\n",
            "(0.7703125, 0.7703125)\n",
            "(0.7703125, 0.7703125)\n",
            "(0.7703125, 0.7703125)\n",
            "(0.7703125, 0.7703125)\n",
            "(0.7703125, 0.7703125)\n",
            "(0.7703125, 0.7703125)\n",
            "(0.7703125, 0.7703125)\n",
            "(0.7703125, 0.7703125)\n",
            "(0.7703125, 0.7703125)\n",
            "(0.7703125, 0.7703125)\n",
            "fps: 0.35\n",
            "[1 1 1 1 1 1 1 1 1 1 1 1 1 1 1 1 1 1 1 1]\n",
            "progress: 111 / 250\n"
          ]
        },
        {
          "output_type": "stream",
          "name": "stderr",
          "text": [
            "/usr/local/lib/python3.8/dist-packages/shapely/set_operations.py:133: RuntimeWarning: invalid value encountered in intersection\n",
            "  return lib.intersection(a, b, **kwargs)\n"
          ]
        },
        {
          "output_type": "stream",
          "name": "stdout",
          "text": [
            "(1.615625, 1.615625)\n",
            "(1.615625, 1.615625)\n",
            "(1.615625, 1.615625)\n",
            "(1.615625, 1.615625)\n",
            "(1.615625, 1.615625)\n",
            "(1.615625, 1.615625)\n",
            "(1.615625, 1.615625)\n",
            "(1.615625, 1.615625)\n",
            "fps: 0.35\n",
            "[1 1 1 1 1 1 1 1]\n",
            "progress: 112 / 250\n"
          ]
        },
        {
          "output_type": "stream",
          "name": "stderr",
          "text": [
            "/usr/local/lib/python3.8/dist-packages/shapely/set_operations.py:133: RuntimeWarning: invalid value encountered in intersection\n",
            "  return lib.intersection(a, b, **kwargs)\n"
          ]
        },
        {
          "output_type": "stream",
          "name": "stdout",
          "text": [
            "(1.7515625, 1.7515625)\n",
            "(1.7515625, 1.7515625)\n",
            "(1.7515625, 1.7515625)\n",
            "(1.7515625, 1.7515625)\n",
            "fps: 0.35\n",
            "[1 1 1 1]\n",
            "progress: 113 / 250\n"
          ]
        },
        {
          "output_type": "stream",
          "name": "stderr",
          "text": [
            "/usr/local/lib/python3.8/dist-packages/shapely/set_operations.py:133: RuntimeWarning: invalid value encountered in intersection\n",
            "  return lib.intersection(a, b, **kwargs)\n"
          ]
        },
        {
          "output_type": "stream",
          "name": "stdout",
          "text": [
            "(1.94375, 1.94375)\n",
            "(1.94375, 1.94375)\n",
            "(1.94375, 1.94375)\n",
            "(1.94375, 1.94375)\n",
            "(1.94375, 1.94375)\n",
            "(1.94375, 1.94375)\n",
            "(1.94375, 1.94375)\n",
            "(1.94375, 1.94375)\n",
            "(1.94375, 1.94375)\n",
            "(1.94375, 1.94375)\n",
            "(1.94375, 1.94375)\n",
            "(1.94375, 1.94375)\n",
            "(1.94375, 1.94375)\n",
            "(1.94375, 1.94375)\n",
            "fps: 0.35\n",
            "[1 1 1 1 1 1 1 1 1 1 1 1 1 1 1]\n",
            "progress: 114 / 250\n"
          ]
        },
        {
          "output_type": "stream",
          "name": "stderr",
          "text": [
            "/usr/local/lib/python3.8/dist-packages/shapely/set_operations.py:133: RuntimeWarning: invalid value encountered in intersection\n",
            "  return lib.intersection(a, b, **kwargs)\n"
          ]
        },
        {
          "output_type": "stream",
          "name": "stdout",
          "text": [
            "(0.6546875, 0.6546875)\n",
            "(0.6546875, 0.6546875)\n",
            "(0.6546875, 0.6546875)\n",
            "(0.6546875, 0.6546875)\n",
            "fps: 0.35\n",
            "[1 1 1]\n",
            "progress: 115 / 250\n"
          ]
        },
        {
          "output_type": "stream",
          "name": "stderr",
          "text": [
            "/usr/local/lib/python3.8/dist-packages/shapely/set_operations.py:133: RuntimeWarning: invalid value encountered in intersection\n",
            "  return lib.intersection(a, b, **kwargs)\n"
          ]
        },
        {
          "output_type": "stream",
          "name": "stdout",
          "text": [
            "(0.771875, 0.771875)\n",
            "(0.771875, 0.771875)\n",
            "(0.771875, 0.771875)\n",
            "(0.771875, 0.771875)\n",
            "(0.771875, 0.771875)\n",
            "(0.771875, 0.771875)\n",
            "(0.771875, 0.771875)\n",
            "(0.771875, 0.771875)\n",
            "(0.771875, 0.771875)\n",
            "(0.771875, 0.771875)\n",
            "(0.771875, 0.771875)\n",
            "(0.771875, 0.771875)\n",
            "(0.771875, 0.771875)\n",
            "(0.771875, 0.771875)\n",
            "(0.771875, 0.771875)\n",
            "(0.771875, 0.771875)\n",
            "(0.771875, 0.771875)\n",
            "(0.771875, 0.771875)\n",
            "(0.771875, 0.771875)\n",
            "(0.771875, 0.771875)\n",
            "(0.771875, 0.771875)\n",
            "(0.771875, 0.771875)\n",
            "(0.771875, 0.771875)\n",
            "(0.771875, 0.771875)\n",
            "(0.771875, 0.771875)\n",
            "(0.771875, 0.771875)\n",
            "(0.771875, 0.771875)\n",
            "(0.771875, 0.771875)\n",
            "(0.771875, 0.771875)\n",
            "(0.771875, 0.771875)\n",
            "(0.771875, 0.771875)\n",
            "(0.771875, 0.771875)\n",
            "fps: 0.35\n",
            "[1 1 1 1 1 1 1 1 1 1 1 1 1 1 1 1 1 1 1 1 1 1]\n"
          ]
        },
        {
          "output_type": "stream",
          "name": "stderr",
          "text": [
            "/usr/local/lib/python3.8/dist-packages/shapely/set_operations.py:133: RuntimeWarning: invalid value encountered in intersection\n",
            "  return lib.intersection(a, b, **kwargs)\n"
          ]
        },
        {
          "output_type": "stream",
          "name": "stdout",
          "text": [
            "progress: 116 / 250\n",
            "fps: 0.35\n",
            "[1 1 1 1 1]\n",
            "progress: 117 / 250\n",
            "(1.4703125, 1.4703125)\n",
            "(1.4703125, 1.4703125)\n",
            "(1.4703125, 1.4703125)\n",
            "(1.4703125, 1.4703125)\n",
            "fps: 0.35\n",
            "[1 1 1 1 1]\n",
            "progress: 118 / 250\n"
          ]
        },
        {
          "output_type": "stream",
          "name": "stderr",
          "text": [
            "/usr/local/lib/python3.8/dist-packages/shapely/set_operations.py:133: RuntimeWarning: invalid value encountered in intersection\n",
            "  return lib.intersection(a, b, **kwargs)\n"
          ]
        },
        {
          "output_type": "stream",
          "name": "stdout",
          "text": [
            "(0.5546875, 0.5546875)\n",
            "fps: 0.34\n",
            "[1]\n",
            "progress: 119 / 250\n",
            "(1.365625, 1.365625)\n",
            "(1.365625, 1.365625)\n",
            "(1.365625, 1.365625)\n",
            "(1.365625, 1.365625)\n",
            "(1.365625, 1.365625)\n",
            "(1.365625, 1.365625)\n",
            "(1.365625, 1.365625)\n",
            "fps: 0.34\n",
            "[1 1 1 1 1 1 1 1 1 1 1 1 1 1 1]\n",
            "progress: 120 / 250\n"
          ]
        },
        {
          "output_type": "stream",
          "name": "stderr",
          "text": [
            "/usr/local/lib/python3.8/dist-packages/shapely/set_operations.py:133: RuntimeWarning: invalid value encountered in intersection\n",
            "  return lib.intersection(a, b, **kwargs)\n"
          ]
        },
        {
          "output_type": "stream",
          "name": "stdout",
          "text": [
            "(1.425, 1.425)\n",
            "(1.425, 1.425)\n",
            "(1.425, 1.425)\n",
            "(1.425, 1.425)\n",
            "(1.425, 1.425)\n",
            "(1.425, 1.425)\n",
            "(1.425, 1.425)\n",
            "(1.425, 1.425)\n",
            "fps: 0.34\n",
            "[1 1 1 1 1 1 1 1]\n",
            "progress: 121 / 250\n"
          ]
        },
        {
          "output_type": "stream",
          "name": "stderr",
          "text": [
            "/usr/local/lib/python3.8/dist-packages/shapely/set_operations.py:133: RuntimeWarning: invalid value encountered in intersection\n",
            "  return lib.intersection(a, b, **kwargs)\n"
          ]
        },
        {
          "output_type": "stream",
          "name": "stdout",
          "text": [
            "(0.6421875, 0.6421875)\n",
            "(0.6421875, 0.6421875)\n",
            "(0.6421875, 0.6421875)\n",
            "(0.6421875, 0.6421875)\n",
            "(0.6421875, 0.6421875)\n",
            "(0.6421875, 0.6421875)\n",
            "fps: 0.34\n",
            "[1 1 1 1 1 1]\n",
            "progress: 122 / 250\n"
          ]
        },
        {
          "output_type": "stream",
          "name": "stderr",
          "text": [
            "/usr/local/lib/python3.8/dist-packages/shapely/set_operations.py:133: RuntimeWarning: invalid value encountered in intersection\n",
            "  return lib.intersection(a, b, **kwargs)\n"
          ]
        },
        {
          "output_type": "stream",
          "name": "stdout",
          "text": [
            "(0.609375, 0.609375)\n",
            "(0.609375, 0.609375)\n",
            "(0.609375, 0.609375)\n",
            "(0.609375, 0.609375)\n",
            "(0.609375, 0.609375)\n",
            "(0.609375, 0.609375)\n",
            "(0.609375, 0.609375)\n",
            "(0.609375, 0.609375)\n",
            "fps: 0.33\n",
            "[1 1 1 1 1 1 1 1]\n",
            "progress: 123 / 250\n"
          ]
        },
        {
          "output_type": "stream",
          "name": "stderr",
          "text": [
            "/usr/local/lib/python3.8/dist-packages/shapely/set_operations.py:133: RuntimeWarning: invalid value encountered in intersection\n",
            "  return lib.intersection(a, b, **kwargs)\n"
          ]
        },
        {
          "output_type": "stream",
          "name": "stdout",
          "text": [
            "(0.7125, 0.7125)\n",
            "(0.7125, 0.7125)\n",
            "(0.7125, 0.7125)\n",
            "(0.7125, 0.7125)\n",
            "fps: 0.34\n",
            "[1 1 1 1 1]\n",
            "progress: 124 / 250\n"
          ]
        },
        {
          "output_type": "stream",
          "name": "stderr",
          "text": [
            "/usr/local/lib/python3.8/dist-packages/shapely/set_operations.py:133: RuntimeWarning: invalid value encountered in intersection\n",
            "  return lib.intersection(a, b, **kwargs)\n"
          ]
        },
        {
          "output_type": "stream",
          "name": "stdout",
          "text": [
            "(0.9421875, 0.9421875)\n",
            "(0.9421875, 0.9421875)\n",
            "(0.9421875, 0.9421875)\n",
            "(0.9421875, 0.9421875)\n",
            "(0.9421875, 0.9421875)\n",
            "fps: 0.33\n",
            "[1 1 1 1 1]\n",
            "progress: 125 / 250\n"
          ]
        },
        {
          "output_type": "stream",
          "name": "stderr",
          "text": [
            "/usr/local/lib/python3.8/dist-packages/shapely/set_operations.py:133: RuntimeWarning: invalid value encountered in intersection\n",
            "  return lib.intersection(a, b, **kwargs)\n"
          ]
        },
        {
          "output_type": "stream",
          "name": "stdout",
          "text": [
            "(0.803125, 0.803125)\n",
            "(0.803125, 0.803125)\n",
            "(0.803125, 0.803125)\n",
            "(0.803125, 0.803125)\n",
            "(0.803125, 0.803125)\n",
            "(0.803125, 0.803125)\n",
            "fps: 0.34\n",
            "[1 1 1 1 1 1]\n",
            "progress: 126 / 250\n"
          ]
        },
        {
          "output_type": "stream",
          "name": "stderr",
          "text": [
            "/usr/local/lib/python3.8/dist-packages/shapely/set_operations.py:133: RuntimeWarning: invalid value encountered in intersection\n",
            "  return lib.intersection(a, b, **kwargs)\n"
          ]
        },
        {
          "output_type": "stream",
          "name": "stdout",
          "text": [
            "(1.08125, 1.08125)\n",
            "(1.08125, 1.08125)\n",
            "(1.08125, 1.08125)\n",
            "(1.08125, 1.08125)\n",
            "(1.08125, 1.08125)\n",
            "(1.08125, 1.08125)\n",
            "(1.08125, 1.08125)\n",
            "fps: 0.34\n",
            "[1 1 1 1 1 1 1]\n",
            "progress: 127 / 250\n"
          ]
        },
        {
          "output_type": "stream",
          "name": "stderr",
          "text": [
            "/usr/local/lib/python3.8/dist-packages/shapely/set_operations.py:133: RuntimeWarning: invalid value encountered in intersection\n",
            "  return lib.intersection(a, b, **kwargs)\n"
          ]
        },
        {
          "output_type": "stream",
          "name": "stdout",
          "text": [
            "(0.88125, 0.88125)\n",
            "(0.88125, 0.88125)\n",
            "(0.88125, 0.88125)\n",
            "(0.88125, 0.88125)\n",
            "fps: 0.34\n",
            "[1 1 1 1]\n",
            "progress: 128 / 250\n"
          ]
        },
        {
          "output_type": "stream",
          "name": "stderr",
          "text": [
            "/usr/local/lib/python3.8/dist-packages/shapely/set_operations.py:133: RuntimeWarning: invalid value encountered in intersection\n",
            "  return lib.intersection(a, b, **kwargs)\n"
          ]
        },
        {
          "output_type": "stream",
          "name": "stdout",
          "text": [
            "(0.7890625, 0.7890625)\n",
            "(0.7890625, 0.7890625)\n",
            "(0.7890625, 0.7890625)\n",
            "(0.7890625, 0.7890625)\n",
            "(0.7890625, 0.7890625)\n",
            "fps: 0.34\n",
            "[1 1 1 1]\n",
            "progress: 129 / 250\n"
          ]
        },
        {
          "output_type": "stream",
          "name": "stderr",
          "text": [
            "/usr/local/lib/python3.8/dist-packages/shapely/set_operations.py:133: RuntimeWarning: invalid value encountered in intersection\n",
            "  return lib.intersection(a, b, **kwargs)\n"
          ]
        },
        {
          "output_type": "stream",
          "name": "stdout",
          "text": [
            "(0.7421875, 0.7421875)\n",
            "(0.7421875, 0.7421875)\n",
            "(0.7421875, 0.7421875)\n",
            "(0.7421875, 0.7421875)\n",
            "fps: 0.33\n",
            "[1 1 1 1]\n",
            "progress: 130 / 250\n"
          ]
        },
        {
          "output_type": "stream",
          "name": "stderr",
          "text": [
            "/usr/local/lib/python3.8/dist-packages/shapely/set_operations.py:133: RuntimeWarning: invalid value encountered in intersection\n",
            "  return lib.intersection(a, b, **kwargs)\n"
          ]
        },
        {
          "output_type": "stream",
          "name": "stdout",
          "text": [
            "(0.4171875, 0.4171875)\n",
            "(0.4171875, 0.4171875)\n",
            "(0.4171875, 0.4171875)\n",
            "fps: 0.33\n",
            "[1 1 1]\n",
            "progress: 131 / 250\n",
            "(0.784375, 0.784375)\n",
            "(0.784375, 0.784375)\n",
            "(0.784375, 0.784375)\n",
            "(0.784375, 0.784375)\n",
            "(0.784375, 0.784375)\n",
            "(0.784375, 0.784375)\n",
            "fps: 0.33\n",
            "[1 1 1 1 1 1 1 1]\n",
            "progress: 132 / 250\n"
          ]
        },
        {
          "output_type": "stream",
          "name": "stderr",
          "text": [
            "/usr/local/lib/python3.8/dist-packages/shapely/set_operations.py:133: RuntimeWarning: invalid value encountered in intersection\n",
            "  return lib.intersection(a, b, **kwargs)\n"
          ]
        },
        {
          "output_type": "stream",
          "name": "stdout",
          "text": [
            "(1.41875, 1.41875)\n",
            "(1.41875, 1.41875)\n",
            "(1.41875, 1.41875)\n",
            "(1.41875, 1.41875)\n",
            "(1.41875, 1.41875)\n",
            "(1.41875, 1.41875)\n",
            "fps: 0.33\n",
            "[1 1 1 1 1 1]\n",
            "progress: 133 / 250\n"
          ]
        },
        {
          "output_type": "stream",
          "name": "stderr",
          "text": [
            "/usr/local/lib/python3.8/dist-packages/shapely/set_operations.py:133: RuntimeWarning: invalid value encountered in intersection\n",
            "  return lib.intersection(a, b, **kwargs)\n"
          ]
        },
        {
          "output_type": "stream",
          "name": "stdout",
          "text": [
            "(0.659375, 0.659375)\n",
            "(0.659375, 0.659375)\n",
            "(0.659375, 0.659375)\n",
            "(0.659375, 0.659375)\n",
            "fps: 0.33\n",
            "[1 1 1 1]\n",
            "progress: 134 / 250\n"
          ]
        },
        {
          "output_type": "stream",
          "name": "stderr",
          "text": [
            "/usr/local/lib/python3.8/dist-packages/shapely/set_operations.py:133: RuntimeWarning: invalid value encountered in intersection\n",
            "  return lib.intersection(a, b, **kwargs)\n"
          ]
        },
        {
          "output_type": "stream",
          "name": "stdout",
          "text": [
            "(0.346875, 0.346875)\n",
            "(0.346875, 0.346875)\n",
            "(0.346875, 0.346875)\n",
            "(0.346875, 0.346875)\n",
            "(0.346875, 0.346875)\n",
            "(0.346875, 0.346875)\n",
            "(0.346875, 0.346875)\n",
            "(0.346875, 0.346875)\n",
            "(0.346875, 0.346875)\n",
            "(0.346875, 0.346875)\n",
            "fps: 0.33\n",
            "[1 1 1 1 1 1 1 1 1 1]\n",
            "progress: 135 / 250\n"
          ]
        },
        {
          "output_type": "stream",
          "name": "stderr",
          "text": [
            "/usr/local/lib/python3.8/dist-packages/shapely/set_operations.py:133: RuntimeWarning: invalid value encountered in intersection\n",
            "  return lib.intersection(a, b, **kwargs)\n"
          ]
        },
        {
          "output_type": "stream",
          "name": "stdout",
          "text": [
            "(0.9265625, 0.9265625)\n",
            "(0.9265625, 0.9265625)\n",
            "(0.9265625, 0.9265625)\n",
            "(0.9265625, 0.9265625)\n",
            "(0.9265625, 0.9265625)\n",
            "(0.9265625, 0.9265625)\n",
            "(0.9265625, 0.9265625)\n",
            "(0.9265625, 0.9265625)\n",
            "fps: 0.33\n",
            "[1 1 1 1 1 1 1 1 1 1 1 1 1]\n",
            "progress: 136 / 250\n"
          ]
        },
        {
          "output_type": "stream",
          "name": "stderr",
          "text": [
            "/usr/local/lib/python3.8/dist-packages/shapely/set_operations.py:133: RuntimeWarning: invalid value encountered in intersection\n",
            "  return lib.intersection(a, b, **kwargs)\n"
          ]
        },
        {
          "output_type": "stream",
          "name": "stdout",
          "text": [
            "fps: 0.33\n",
            "[1 1 1 1 1 1 1]\n",
            "progress: 137 / 250\n",
            "(0.509375, 0.509375)\n",
            "(0.509375, 0.509375)\n",
            "fps: 0.32\n",
            "[1]\n",
            "progress: 138 / 250\n",
            "(0.68125, 0.68125)\n",
            "(0.68125, 0.68125)\n",
            "(0.68125, 0.68125)\n",
            "(0.68125, 0.68125)\n",
            "(0.68125, 0.68125)\n",
            "(0.68125, 0.68125)\n",
            "(0.68125, 0.68125)\n",
            "fps: 0.32\n",
            "[1 1 1 1 1 1 1 1 1]\n",
            "progress: 139 / 250\n"
          ]
        },
        {
          "output_type": "stream",
          "name": "stderr",
          "text": [
            "/usr/local/lib/python3.8/dist-packages/shapely/set_operations.py:133: RuntimeWarning: invalid value encountered in intersection\n",
            "  return lib.intersection(a, b, **kwargs)\n"
          ]
        },
        {
          "output_type": "stream",
          "name": "stdout",
          "text": [
            "(0.95625, 0.95625)\n",
            "(0.95625, 0.95625)\n",
            "(0.95625, 0.95625)\n",
            "(0.95625, 0.95625)\n",
            "(0.95625, 0.95625)\n",
            "(0.95625, 0.95625)\n",
            "(0.95625, 0.95625)\n",
            "(0.95625, 0.95625)\n",
            "(0.95625, 0.95625)\n",
            "(0.95625, 0.95625)\n",
            "(0.95625, 0.95625)\n",
            "(0.95625, 0.95625)\n",
            "fps: 0.32\n",
            "[1 1 1 1 1 1 1 1 1 1 1 1 1]\n",
            "progress: 140 / 250\n"
          ]
        },
        {
          "output_type": "stream",
          "name": "stderr",
          "text": [
            "/usr/local/lib/python3.8/dist-packages/shapely/set_operations.py:133: RuntimeWarning: invalid value encountered in intersection\n",
            "  return lib.intersection(a, b, **kwargs)\n"
          ]
        },
        {
          "output_type": "stream",
          "name": "stdout",
          "text": [
            "(0.6375, 0.6375)\n",
            "(0.6375, 0.6375)\n",
            "(0.6375, 0.6375)\n",
            "(0.6375, 0.6375)\n",
            "(0.6375, 0.6375)\n",
            "(0.6375, 0.6375)\n",
            "(0.6375, 0.6375)\n",
            "(0.6375, 0.6375)\n",
            "(0.6375, 0.6375)\n",
            "(0.6375, 0.6375)\n",
            "fps: 0.32\n",
            "[1 1 1 1 1 1 1 1 1 1]\n",
            "progress: 141 / 250\n"
          ]
        },
        {
          "output_type": "stream",
          "name": "stderr",
          "text": [
            "/usr/local/lib/python3.8/dist-packages/shapely/set_operations.py:133: RuntimeWarning: invalid value encountered in intersection\n",
            "  return lib.intersection(a, b, **kwargs)\n"
          ]
        },
        {
          "output_type": "stream",
          "name": "stdout",
          "text": [
            "(0.80625, 0.80625)\n",
            "(0.80625, 0.80625)\n",
            "(0.80625, 0.80625)\n",
            "(0.80625, 0.80625)\n",
            "(0.80625, 0.80625)\n",
            "(0.80625, 0.80625)\n",
            "fps: 0.32\n",
            "[1 1 1 1 1 1 1]\n",
            "progress: 142 / 250\n"
          ]
        },
        {
          "output_type": "stream",
          "name": "stderr",
          "text": [
            "/usr/local/lib/python3.8/dist-packages/shapely/set_operations.py:133: RuntimeWarning: invalid value encountered in intersection\n",
            "  return lib.intersection(a, b, **kwargs)\n"
          ]
        },
        {
          "output_type": "stream",
          "name": "stdout",
          "text": [
            "(1.0171875, 1.0171875)\n",
            "(1.0171875, 1.0171875)\n",
            "(1.0171875, 1.0171875)\n",
            "(1.0171875, 1.0171875)\n",
            "fps: 0.32\n",
            "[1 1 1 1 1]\n",
            "progress: 143 / 250\n"
          ]
        },
        {
          "output_type": "stream",
          "name": "stderr",
          "text": [
            "/usr/local/lib/python3.8/dist-packages/shapely/set_operations.py:133: RuntimeWarning: invalid value encountered in intersection\n",
            "  return lib.intersection(a, b, **kwargs)\n"
          ]
        },
        {
          "output_type": "stream",
          "name": "stdout",
          "text": [
            "(0.6546875, 0.6546875)\n",
            "(0.6546875, 0.6546875)\n",
            "(0.6546875, 0.6546875)\n",
            "(0.6546875, 0.6546875)\n",
            "(0.6546875, 0.6546875)\n",
            "(0.6546875, 0.6546875)\n",
            "(0.6546875, 0.6546875)\n",
            "fps: 0.33\n",
            "[1 1 1 1 1 1]\n",
            "progress: 144 / 250\n"
          ]
        },
        {
          "output_type": "stream",
          "name": "stderr",
          "text": [
            "/usr/local/lib/python3.8/dist-packages/shapely/set_operations.py:133: RuntimeWarning: invalid value encountered in intersection\n",
            "  return lib.intersection(a, b, **kwargs)\n"
          ]
        },
        {
          "output_type": "stream",
          "name": "stdout",
          "text": [
            "(0.6921875, 0.6921875)\n",
            "(0.6921875, 0.6921875)\n",
            "fps: 0.32\n",
            "[1 1]\n",
            "progress: 145 / 250\n"
          ]
        },
        {
          "output_type": "stream",
          "name": "stderr",
          "text": [
            "/usr/local/lib/python3.8/dist-packages/shapely/set_operations.py:133: RuntimeWarning: invalid value encountered in intersection\n",
            "  return lib.intersection(a, b, **kwargs)\n"
          ]
        },
        {
          "output_type": "stream",
          "name": "stdout",
          "text": [
            "(0.85, 0.85)\n",
            "(0.85, 0.85)\n",
            "(0.85, 0.85)\n",
            "(0.85, 0.85)\n",
            "(0.85, 0.85)\n",
            "(0.85, 0.85)\n",
            "(0.85, 0.85)\n",
            "(0.85, 0.85)\n",
            "(0.85, 0.85)\n",
            "(0.85, 0.85)\n",
            "(0.85, 0.85)\n",
            "(0.85, 0.85)\n",
            "(0.85, 0.85)\n",
            "fps: 0.33\n",
            "[1 1 1 1 1 1 1 1 1 1 1 1 1 1 1 1 1]\n",
            "progress: 146 / 250\n"
          ]
        },
        {
          "output_type": "stream",
          "name": "stderr",
          "text": [
            "/usr/local/lib/python3.8/dist-packages/shapely/set_operations.py:133: RuntimeWarning: invalid value encountered in intersection\n",
            "  return lib.intersection(a, b, **kwargs)\n"
          ]
        },
        {
          "output_type": "stream",
          "name": "stdout",
          "text": [
            "(0.4109375, 0.4109375)\n",
            "(0.4109375, 0.4109375)\n",
            "(0.4109375, 0.4109375)\n",
            "(0.4109375, 0.4109375)\n",
            "(0.4109375, 0.4109375)\n",
            "fps: 0.32\n",
            "[1 1 1 1 1]\n",
            "progress: 147 / 250\n"
          ]
        },
        {
          "output_type": "stream",
          "name": "stderr",
          "text": [
            "/usr/local/lib/python3.8/dist-packages/shapely/set_operations.py:133: RuntimeWarning: invalid value encountered in intersection\n",
            "  return lib.intersection(a, b, **kwargs)\n"
          ]
        },
        {
          "output_type": "stream",
          "name": "stdout",
          "text": [
            "(0.5515625, 0.5515625)\n",
            "(0.5515625, 0.5515625)\n",
            "(0.5515625, 0.5515625)\n",
            "(0.5515625, 0.5515625)\n",
            "(0.5515625, 0.5515625)\n",
            "(0.5515625, 0.5515625)\n",
            "fps: 0.33\n",
            "[1 1 1 1 1 1]\n",
            "progress: 148 / 250\n"
          ]
        },
        {
          "output_type": "stream",
          "name": "stderr",
          "text": [
            "/usr/local/lib/python3.8/dist-packages/shapely/set_operations.py:133: RuntimeWarning: invalid value encountered in intersection\n",
            "  return lib.intersection(a, b, **kwargs)\n"
          ]
        },
        {
          "output_type": "stream",
          "name": "stdout",
          "text": [
            "(0.721875, 0.721875)\n",
            "(0.721875, 0.721875)\n",
            "(0.721875, 0.721875)\n",
            "(0.721875, 0.721875)\n",
            "(0.721875, 0.721875)\n",
            "fps: 0.33\n",
            "[0 1 1 1 1 1 1]\n",
            "progress: 149 / 250\n"
          ]
        },
        {
          "output_type": "stream",
          "name": "stderr",
          "text": [
            "/usr/local/lib/python3.8/dist-packages/shapely/set_operations.py:133: RuntimeWarning: invalid value encountered in intersection\n",
            "  return lib.intersection(a, b, **kwargs)\n",
            "/usr/local/lib/python3.8/dist-packages/shapely/set_operations.py:133: RuntimeWarning: invalid value encountered in intersection\n",
            "  return lib.intersection(a, b, **kwargs)\n",
            "/usr/local/lib/python3.8/dist-packages/shapely/set_operations.py:133: RuntimeWarning: invalid value encountered in intersection\n",
            "  return lib.intersection(a, b, **kwargs)\n",
            "/usr/local/lib/python3.8/dist-packages/shapely/set_operations.py:133: RuntimeWarning: invalid value encountered in intersection\n",
            "  return lib.intersection(a, b, **kwargs)\n"
          ]
        },
        {
          "output_type": "stream",
          "name": "stdout",
          "text": [
            "(0.5109375, 0.5109375)\n",
            "(0.5109375, 0.5109375)\n",
            "(0.5109375, 0.5109375)\n",
            "(0.5109375, 0.5109375)\n",
            "(0.5109375, 0.5109375)\n",
            "(0.5109375, 0.5109375)\n",
            "fps: 0.33\n",
            "[1 1 1 1 1 1]\n",
            "progress: 150 / 250\n"
          ]
        },
        {
          "output_type": "stream",
          "name": "stderr",
          "text": [
            "/usr/local/lib/python3.8/dist-packages/shapely/set_operations.py:133: RuntimeWarning: invalid value encountered in intersection\n",
            "  return lib.intersection(a, b, **kwargs)\n"
          ]
        },
        {
          "output_type": "stream",
          "name": "stdout",
          "text": [
            "(0.853125, 0.853125)\n",
            "(0.853125, 0.853125)\n",
            "(0.853125, 0.853125)\n",
            "(0.853125, 0.853125)\n",
            "fps: 0.33\n",
            "[1 1 1 1 1 1 1 1 1 1]\n",
            "progress: 151 / 250\n"
          ]
        },
        {
          "output_type": "stream",
          "name": "stderr",
          "text": [
            "/usr/local/lib/python3.8/dist-packages/shapely/set_operations.py:133: RuntimeWarning: invalid value encountered in intersection\n",
            "  return lib.intersection(a, b, **kwargs)\n"
          ]
        },
        {
          "output_type": "stream",
          "name": "stdout",
          "text": [
            "(0.9765625, 0.9765625)\n",
            "(0.9765625, 0.9765625)\n",
            "(0.9765625, 0.9765625)\n",
            "(0.9765625, 0.9765625)\n",
            "fps: 0.33\n",
            "[1 1 1 1 1 1]\n",
            "progress: 152 / 250\n"
          ]
        },
        {
          "output_type": "stream",
          "name": "stderr",
          "text": [
            "/usr/local/lib/python3.8/dist-packages/shapely/set_operations.py:133: RuntimeWarning: invalid value encountered in intersection\n",
            "  return lib.intersection(a, b, **kwargs)\n"
          ]
        },
        {
          "output_type": "stream",
          "name": "stdout",
          "text": [
            "(0.6078125, 0.6078125)\n",
            "(0.6078125, 0.6078125)\n",
            "(0.6078125, 0.6078125)\n",
            "(0.6078125, 0.6078125)\n",
            "fps: 0.33\n",
            "[1 1 1 1 1]\n",
            "progress: 153 / 250\n"
          ]
        },
        {
          "output_type": "stream",
          "name": "stderr",
          "text": [
            "/usr/local/lib/python3.8/dist-packages/shapely/set_operations.py:133: RuntimeWarning: invalid value encountered in intersection\n",
            "  return lib.intersection(a, b, **kwargs)\n"
          ]
        },
        {
          "output_type": "stream",
          "name": "stdout",
          "text": [
            "(0.8140625, 0.8140625)\n",
            "(0.8140625, 0.8140625)\n",
            "(0.8140625, 0.8140625)\n",
            "(0.8140625, 0.8140625)\n",
            "(0.8140625, 0.8140625)\n",
            "(0.8140625, 0.8140625)\n",
            "(0.8140625, 0.8140625)\n",
            "(0.8140625, 0.8140625)\n",
            "(0.8140625, 0.8140625)\n",
            "fps: 0.33\n",
            "[1 1 1 1 1 1 1]\n",
            "progress: 154 / 250\n"
          ]
        },
        {
          "output_type": "stream",
          "name": "stderr",
          "text": [
            "/usr/local/lib/python3.8/dist-packages/shapely/set_operations.py:133: RuntimeWarning: invalid value encountered in intersection\n",
            "  return lib.intersection(a, b, **kwargs)\n"
          ]
        },
        {
          "output_type": "stream",
          "name": "stdout",
          "text": [
            "(0.7875, 0.7875)\n",
            "(0.7875, 0.7875)\n",
            "(0.7875, 0.7875)\n",
            "(0.7875, 0.7875)\n",
            "(0.7875, 0.7875)\n",
            "(0.7875, 0.7875)\n",
            "(0.7875, 0.7875)\n",
            "(0.7875, 0.7875)\n",
            "(0.7875, 0.7875)\n",
            "fps: 0.33\n",
            "[1 1 1 1 1 1 1 1 1 1 1]\n",
            "progress: 155 / 250\n"
          ]
        },
        {
          "output_type": "stream",
          "name": "stderr",
          "text": [
            "/usr/local/lib/python3.8/dist-packages/shapely/set_operations.py:133: RuntimeWarning: invalid value encountered in intersection\n",
            "  return lib.intersection(a, b, **kwargs)\n"
          ]
        },
        {
          "output_type": "stream",
          "name": "stdout",
          "text": [
            "(0.31875, 0.31875)\n",
            "(0.31875, 0.31875)\n",
            "(0.31875, 0.31875)\n",
            "(0.31875, 0.31875)\n",
            "(0.31875, 0.31875)\n",
            "fps: 0.33\n",
            "[1 1 1 1 1]\n",
            "progress: 156 / 250\n"
          ]
        },
        {
          "output_type": "stream",
          "name": "stderr",
          "text": [
            "/usr/local/lib/python3.8/dist-packages/shapely/set_operations.py:133: RuntimeWarning: invalid value encountered in intersection\n",
            "  return lib.intersection(a, b, **kwargs)\n"
          ]
        },
        {
          "output_type": "stream",
          "name": "stdout",
          "text": [
            "(0.3859375, 0.3859375)\n",
            "(0.3859375, 0.3859375)\n",
            "fps: 0.33\n",
            "[1 1]\n",
            "progress: 157 / 250\n",
            "(0.4828125, 0.4828125)\n",
            "(0.4828125, 0.4828125)\n",
            "(0.4828125, 0.4828125)\n",
            "(0.4828125, 0.4828125)\n",
            "(0.4828125, 0.4828125)\n",
            "(0.4828125, 0.4828125)\n",
            "(0.4828125, 0.4828125)\n",
            "(0.4828125, 0.4828125)\n",
            "(0.4828125, 0.4828125)\n",
            "(0.4828125, 0.4828125)\n",
            "(0.4828125, 0.4828125)\n",
            "(0.4828125, 0.4828125)\n",
            "(0.4828125, 0.4828125)\n",
            "(0.4828125, 0.4828125)\n",
            "(0.4828125, 0.4828125)\n",
            "(0.4828125, 0.4828125)\n",
            "(0.4828125, 0.4828125)\n",
            "fps: 0.33\n",
            "[1 1 1 1 1 1 1 1 1 1 1 1 1 1 1 1 1 1 1 1]\n",
            "progress: 158 / 250\n"
          ]
        },
        {
          "output_type": "stream",
          "name": "stderr",
          "text": [
            "/usr/local/lib/python3.8/dist-packages/shapely/set_operations.py:133: RuntimeWarning: invalid value encountered in intersection\n",
            "  return lib.intersection(a, b, **kwargs)\n"
          ]
        },
        {
          "output_type": "stream",
          "name": "stdout",
          "text": [
            "(1.2, 1.2)\n",
            "(1.2, 1.2)\n",
            "(1.2, 1.2)\n",
            "(1.2, 1.2)\n",
            "(1.2, 1.2)\n",
            "(1.2, 1.2)\n",
            "(1.2, 1.2)\n",
            "(1.2, 1.2)\n",
            "(1.2, 1.2)\n",
            "(1.2, 1.2)\n",
            "(1.2, 1.2)\n",
            "(1.2, 1.2)\n",
            "(1.2, 1.2)\n",
            "(1.2, 1.2)\n",
            "(1.2, 1.2)\n",
            "(1.2, 1.2)\n",
            "(1.2, 1.2)\n",
            "fps: 0.33\n",
            "[1 1 1 1 1 1 1 1 1 1 1 1 1 1 1 1 1]\n",
            "progress: 159 / 250\n"
          ]
        },
        {
          "output_type": "stream",
          "name": "stderr",
          "text": [
            "/usr/local/lib/python3.8/dist-packages/shapely/set_operations.py:133: RuntimeWarning: invalid value encountered in intersection\n",
            "  return lib.intersection(a, b, **kwargs)\n"
          ]
        },
        {
          "output_type": "stream",
          "name": "stdout",
          "text": [
            "(0.6734375, 0.6734375)\n",
            "(0.6734375, 0.6734375)\n",
            "(0.6734375, 0.6734375)\n",
            "(0.6734375, 0.6734375)\n",
            "fps: 0.32\n",
            "[1 1 1 1 1]\n",
            "progress: 160 / 250\n"
          ]
        },
        {
          "output_type": "stream",
          "name": "stderr",
          "text": [
            "/usr/local/lib/python3.8/dist-packages/shapely/set_operations.py:133: RuntimeWarning: invalid value encountered in intersection\n",
            "  return lib.intersection(a, b, **kwargs)\n"
          ]
        },
        {
          "output_type": "stream",
          "name": "stdout",
          "text": [
            "(0.8984375, 0.8984375)\n",
            "(0.8984375, 0.8984375)\n",
            "(0.8984375, 0.8984375)\n",
            "(0.8984375, 0.8984375)\n",
            "(0.8984375, 0.8984375)\n",
            "(0.8984375, 0.8984375)\n",
            "fps: 0.32\n",
            "[1 1 1 1 1 1]\n",
            "progress: 161 / 250\n"
          ]
        },
        {
          "output_type": "stream",
          "name": "stderr",
          "text": [
            "/usr/local/lib/python3.8/dist-packages/shapely/set_operations.py:133: RuntimeWarning: invalid value encountered in intersection\n",
            "  return lib.intersection(a, b, **kwargs)\n"
          ]
        },
        {
          "output_type": "stream",
          "name": "stdout",
          "text": [
            "(0.6609375, 0.6609375)\n",
            "(0.6609375, 0.6609375)\n",
            "(0.6609375, 0.6609375)\n",
            "(0.6609375, 0.6609375)\n",
            "(0.6609375, 0.6609375)\n",
            "fps: 0.32\n",
            "[1 1 1 1 1]\n",
            "progress: 162 / 250\n"
          ]
        },
        {
          "output_type": "stream",
          "name": "stderr",
          "text": [
            "/usr/local/lib/python3.8/dist-packages/shapely/set_operations.py:133: RuntimeWarning: invalid value encountered in intersection\n",
            "  return lib.intersection(a, b, **kwargs)\n"
          ]
        },
        {
          "output_type": "stream",
          "name": "stdout",
          "text": [
            "(1.159375, 1.159375)\n",
            "(1.159375, 1.159375)\n",
            "(1.159375, 1.159375)\n",
            "(1.159375, 1.159375)\n",
            "(1.159375, 1.159375)\n",
            "(1.159375, 1.159375)\n",
            "(1.159375, 1.159375)\n",
            "(1.159375, 1.159375)\n",
            "fps: 0.33\n",
            "[1 1 1 1 1 1 1 1 1 1]\n",
            "progress: 163 / 250\n"
          ]
        },
        {
          "output_type": "stream",
          "name": "stderr",
          "text": [
            "/usr/local/lib/python3.8/dist-packages/shapely/set_operations.py:133: RuntimeWarning: invalid value encountered in intersection\n",
            "  return lib.intersection(a, b, **kwargs)\n"
          ]
        },
        {
          "output_type": "stream",
          "name": "stdout",
          "text": [
            "(0.490625, 0.490625)\n",
            "(0.490625, 0.490625)\n",
            "(0.490625, 0.490625)\n",
            "(0.490625, 0.490625)\n",
            "(0.490625, 0.490625)\n",
            "(0.490625, 0.490625)\n",
            "fps: 0.33\n",
            "[1 1 1 1 1 1]\n",
            "progress: 164 / 250\n"
          ]
        },
        {
          "output_type": "stream",
          "name": "stderr",
          "text": [
            "/usr/local/lib/python3.8/dist-packages/shapely/set_operations.py:133: RuntimeWarning: invalid value encountered in intersection\n",
            "  return lib.intersection(a, b, **kwargs)\n"
          ]
        },
        {
          "output_type": "stream",
          "name": "stdout",
          "text": [
            "(0.8578125, 0.8578125)\n",
            "(0.8578125, 0.8578125)\n",
            "(0.8578125, 0.8578125)\n",
            "(0.8578125, 0.8578125)\n",
            "fps: 0.33\n",
            "[1 1 1 1 1 1]\n",
            "progress: 165 / 250\n"
          ]
        },
        {
          "output_type": "stream",
          "name": "stderr",
          "text": [
            "/usr/local/lib/python3.8/dist-packages/shapely/set_operations.py:133: RuntimeWarning: invalid value encountered in intersection\n",
            "  return lib.intersection(a, b, **kwargs)\n"
          ]
        },
        {
          "output_type": "stream",
          "name": "stdout",
          "text": [
            "(0.48125, 0.48125)\n",
            "(0.48125, 0.48125)\n",
            "(0.48125, 0.48125)\n",
            "(0.48125, 0.48125)\n",
            "(0.48125, 0.48125)\n",
            "(0.48125, 0.48125)\n",
            "fps: 0.33\n",
            "[1 1 1 1 1 1]\n",
            "progress: 166 / 250\n"
          ]
        },
        {
          "output_type": "stream",
          "name": "stderr",
          "text": [
            "/usr/local/lib/python3.8/dist-packages/shapely/set_operations.py:133: RuntimeWarning: invalid value encountered in intersection\n",
            "  return lib.intersection(a, b, **kwargs)\n"
          ]
        },
        {
          "output_type": "stream",
          "name": "stdout",
          "text": [
            "(0.6375, 0.6375)\n",
            "(0.6375, 0.6375)\n",
            "(0.6375, 0.6375)\n",
            "(0.6375, 0.6375)\n",
            "(0.6375, 0.6375)\n",
            "(0.6375, 0.6375)\n",
            "(0.6375, 0.6375)\n",
            "(0.6375, 0.6375)\n",
            "fps: 0.33\n",
            "[1 1 1 1 1 1 1 1]\n",
            "progress: 167 / 250\n"
          ]
        },
        {
          "output_type": "stream",
          "name": "stderr",
          "text": [
            "/usr/local/lib/python3.8/dist-packages/shapely/set_operations.py:133: RuntimeWarning: invalid value encountered in intersection\n",
            "  return lib.intersection(a, b, **kwargs)\n"
          ]
        },
        {
          "output_type": "stream",
          "name": "stdout",
          "text": [
            "(0.925, 0.925)\n",
            "(0.925, 0.925)\n",
            "(0.925, 0.925)\n",
            "(0.925, 0.925)\n",
            "(0.925, 0.925)\n",
            "(0.925, 0.925)\n",
            "fps: 0.32\n",
            "[1 1 1 1 1 1]\n",
            "progress: 168 / 250\n"
          ]
        },
        {
          "output_type": "stream",
          "name": "stderr",
          "text": [
            "/usr/local/lib/python3.8/dist-packages/shapely/set_operations.py:133: RuntimeWarning: invalid value encountered in intersection\n",
            "  return lib.intersection(a, b, **kwargs)\n"
          ]
        },
        {
          "output_type": "stream",
          "name": "stdout",
          "text": [
            "(0.7140625, 0.7140625)\n",
            "(0.7140625, 0.7140625)\n",
            "(0.7140625, 0.7140625)\n",
            "(0.7140625, 0.7140625)\n",
            "(0.7140625, 0.7140625)\n",
            "(0.7140625, 0.7140625)\n",
            "(0.7140625, 0.7140625)\n",
            "(0.7140625, 0.7140625)\n",
            "(0.7140625, 0.7140625)\n",
            "(0.7140625, 0.7140625)\n",
            "(0.7140625, 0.7140625)\n",
            "fps: 0.32\n",
            "[1 1 1 1]\n",
            "progress: 169 / 250\n"
          ]
        },
        {
          "output_type": "stream",
          "name": "stderr",
          "text": [
            "/usr/local/lib/python3.8/dist-packages/shapely/set_operations.py:133: RuntimeWarning: invalid value encountered in intersection\n",
            "  return lib.intersection(a, b, **kwargs)\n"
          ]
        },
        {
          "output_type": "stream",
          "name": "stdout",
          "text": [
            "(1.1078125, 1.1078125)\n",
            "(1.1078125, 1.1078125)\n",
            "(1.1078125, 1.1078125)\n",
            "(1.1078125, 1.1078125)\n",
            "(1.1078125, 1.1078125)\n",
            "fps: 0.33\n",
            "[1 1 1 1 1 1 1 1 1 1 1 1 1 1]\n",
            "progress: 170 / 250\n"
          ]
        },
        {
          "output_type": "stream",
          "name": "stderr",
          "text": [
            "/usr/local/lib/python3.8/dist-packages/shapely/set_operations.py:133: RuntimeWarning: invalid value encountered in intersection\n",
            "  return lib.intersection(a, b, **kwargs)\n"
          ]
        },
        {
          "output_type": "stream",
          "name": "stdout",
          "text": [
            "(0.490625, 0.490625)\n",
            "(0.490625, 0.490625)\n",
            "(0.490625, 0.490625)\n",
            "(0.490625, 0.490625)\n",
            "fps: 0.33\n",
            "[1 1 1 1 1]\n",
            "progress: 171 / 250\n"
          ]
        },
        {
          "output_type": "stream",
          "name": "stderr",
          "text": [
            "/usr/local/lib/python3.8/dist-packages/shapely/set_operations.py:133: RuntimeWarning: invalid value encountered in intersection\n",
            "  return lib.intersection(a, b, **kwargs)\n"
          ]
        },
        {
          "output_type": "stream",
          "name": "stdout",
          "text": [
            "(0.71875, 0.71875)\n",
            "(0.71875, 0.71875)\n",
            "(0.71875, 0.71875)\n",
            "(0.71875, 0.71875)\n",
            "(0.71875, 0.71875)\n",
            "(0.71875, 0.71875)\n",
            "(0.71875, 0.71875)\n",
            "(0.71875, 0.71875)\n",
            "(0.71875, 0.71875)\n",
            "fps: 0.33\n",
            "[1 1 1 1 1 1 1 1 1 1]\n",
            "progress: 172 / 250\n"
          ]
        },
        {
          "output_type": "stream",
          "name": "stderr",
          "text": [
            "/usr/local/lib/python3.8/dist-packages/shapely/set_operations.py:133: RuntimeWarning: invalid value encountered in intersection\n",
            "  return lib.intersection(a, b, **kwargs)\n"
          ]
        },
        {
          "output_type": "stream",
          "name": "stdout",
          "text": [
            "(0.828125, 0.828125)\n",
            "(0.828125, 0.828125)\n",
            "(0.828125, 0.828125)\n",
            "fps: 0.33\n",
            "[1 1 1]\n",
            "progress: 173 / 250\n"
          ]
        },
        {
          "output_type": "stream",
          "name": "stderr",
          "text": [
            "/usr/local/lib/python3.8/dist-packages/shapely/set_operations.py:133: RuntimeWarning: invalid value encountered in intersection\n",
            "  return lib.intersection(a, b, **kwargs)\n"
          ]
        },
        {
          "output_type": "stream",
          "name": "stdout",
          "text": [
            "(1.4046875, 1.4046875)\n",
            "(1.4046875, 1.4046875)\n",
            "(1.4046875, 1.4046875)\n",
            "(1.4046875, 1.4046875)\n",
            "fps: 0.33\n",
            "[1 1 1 1 1]\n",
            "progress: 174 / 250\n"
          ]
        },
        {
          "output_type": "stream",
          "name": "stderr",
          "text": [
            "/usr/local/lib/python3.8/dist-packages/shapely/set_operations.py:133: RuntimeWarning: invalid value encountered in intersection\n",
            "  return lib.intersection(a, b, **kwargs)\n"
          ]
        },
        {
          "output_type": "stream",
          "name": "stdout",
          "text": [
            "(1.1203125, 1.1203125)\n",
            "(1.1203125, 1.1203125)\n",
            "(1.1203125, 1.1203125)\n",
            "(1.1203125, 1.1203125)\n",
            "(1.1203125, 1.1203125)\n",
            "(1.1203125, 1.1203125)\n",
            "fps: 0.32\n",
            "[1 1 1 1 1 1]\n",
            "progress: 175 / 250\n"
          ]
        },
        {
          "output_type": "stream",
          "name": "stderr",
          "text": [
            "/usr/local/lib/python3.8/dist-packages/shapely/set_operations.py:133: RuntimeWarning: invalid value encountered in intersection\n",
            "  return lib.intersection(a, b, **kwargs)\n"
          ]
        },
        {
          "output_type": "stream",
          "name": "stdout",
          "text": [
            "(0.7203125, 0.7203125)\n",
            "(0.7203125, 0.7203125)\n",
            "(0.7203125, 0.7203125)\n",
            "(0.7203125, 0.7203125)\n",
            "(0.7203125, 0.7203125)\n",
            "(0.7203125, 0.7203125)\n",
            "(0.7203125, 0.7203125)\n",
            "fps: 0.32\n",
            "[1 1 1 1 1 1 1]\n",
            "progress: 176 / 250\n"
          ]
        },
        {
          "output_type": "stream",
          "name": "stderr",
          "text": [
            "/usr/local/lib/python3.8/dist-packages/shapely/set_operations.py:133: RuntimeWarning: invalid value encountered in intersection\n",
            "  return lib.intersection(a, b, **kwargs)\n"
          ]
        },
        {
          "output_type": "stream",
          "name": "stdout",
          "text": [
            "(1.425, 1.425)\n",
            "(1.425, 1.425)\n",
            "fps: 0.32\n",
            "[1 1]\n",
            "progress: 177 / 250\n",
            "(1.1640625, 1.1640625)\n",
            "(1.1640625, 1.1640625)\n",
            "(1.1640625, 1.1640625)\n",
            "(1.1640625, 1.1640625)\n",
            "fps: 0.32\n",
            "[1 1 1 1]\n",
            "progress: 178 / 250\n"
          ]
        },
        {
          "output_type": "stream",
          "name": "stderr",
          "text": [
            "/usr/local/lib/python3.8/dist-packages/shapely/set_operations.py:133: RuntimeWarning: invalid value encountered in intersection\n",
            "  return lib.intersection(a, b, **kwargs)\n"
          ]
        },
        {
          "output_type": "stream",
          "name": "stdout",
          "text": [
            "(0.9921875, 0.9921875)\n",
            "fps: 0.32\n",
            "[1 1]\n",
            "progress: 179 / 250\n",
            "(0.94375, 0.94375)\n",
            "(0.94375, 0.94375)\n",
            "(0.94375, 0.94375)\n",
            "(0.94375, 0.94375)\n",
            "(0.94375, 0.94375)\n",
            "fps: 0.32\n",
            "[1 1 1 1 1]\n",
            "progress: 180 / 250\n"
          ]
        },
        {
          "output_type": "stream",
          "name": "stderr",
          "text": [
            "/usr/local/lib/python3.8/dist-packages/shapely/set_operations.py:133: RuntimeWarning: invalid value encountered in intersection\n",
            "  return lib.intersection(a, b, **kwargs)\n"
          ]
        },
        {
          "output_type": "stream",
          "name": "stdout",
          "text": [
            "(1.2, 1.2)\n",
            "(1.2, 1.2)\n",
            "(1.2, 1.2)\n",
            "(1.2, 1.2)\n",
            "(1.2, 1.2)\n",
            "(1.2, 1.2)\n",
            "(1.2, 1.2)\n",
            "(1.2, 1.2)\n",
            "fps: 0.32\n",
            "[1 1 1 1 1 1 1 1]\n",
            "progress: 181 / 250\n"
          ]
        },
        {
          "output_type": "stream",
          "name": "stderr",
          "text": [
            "/usr/local/lib/python3.8/dist-packages/shapely/set_operations.py:133: RuntimeWarning: invalid value encountered in intersection\n",
            "  return lib.intersection(a, b, **kwargs)\n"
          ]
        },
        {
          "output_type": "stream",
          "name": "stdout",
          "text": [
            "(1.159375, 1.159375)\n",
            "(1.159375, 1.159375)\n",
            "(1.159375, 1.159375)\n",
            "(1.159375, 1.159375)\n",
            "(1.159375, 1.159375)\n",
            "(1.159375, 1.159375)\n",
            "(1.159375, 1.159375)\n",
            "(1.159375, 1.159375)\n",
            "(1.159375, 1.159375)\n",
            "(1.159375, 1.159375)\n",
            "(1.159375, 1.159375)\n",
            "(1.159375, 1.159375)\n",
            "(1.159375, 1.159375)\n",
            "fps: 0.32\n",
            "[1 1 1 1 1 1 1 1 1 1 1 1 1]\n",
            "progress: 182 / 250\n"
          ]
        },
        {
          "output_type": "stream",
          "name": "stderr",
          "text": [
            "/usr/local/lib/python3.8/dist-packages/shapely/set_operations.py:133: RuntimeWarning: invalid value encountered in intersection\n",
            "  return lib.intersection(a, b, **kwargs)\n"
          ]
        },
        {
          "output_type": "stream",
          "name": "stdout",
          "text": [
            "(0.31875, 0.31875)\n",
            "(0.31875, 0.31875)\n",
            "(0.31875, 0.31875)\n",
            "fps: 0.32\n",
            "[1 1 1 1]\n",
            "progress: 183 / 250\n"
          ]
        },
        {
          "output_type": "stream",
          "name": "stderr",
          "text": [
            "/usr/local/lib/python3.8/dist-packages/shapely/set_operations.py:133: RuntimeWarning: invalid value encountered in intersection\n",
            "  return lib.intersection(a, b, **kwargs)\n"
          ]
        },
        {
          "output_type": "stream",
          "name": "stdout",
          "text": [
            "(1.215625, 1.215625)\n",
            "(1.215625, 1.215625)\n",
            "(1.215625, 1.215625)\n",
            "fps: 0.32\n",
            "[1 1 1]\n",
            "progress: 184 / 250\n"
          ]
        },
        {
          "output_type": "stream",
          "name": "stderr",
          "text": [
            "/usr/local/lib/python3.8/dist-packages/shapely/set_operations.py:133: RuntimeWarning: invalid value encountered in intersection\n",
            "  return lib.intersection(a, b, **kwargs)\n"
          ]
        },
        {
          "output_type": "stream",
          "name": "stdout",
          "text": [
            "(0.63125, 0.63125)\n",
            "(0.63125, 0.63125)\n",
            "(0.63125, 0.63125)\n",
            "(0.63125, 0.63125)\n",
            "(0.63125, 0.63125)\n",
            "(0.63125, 0.63125)\n",
            "(0.63125, 0.63125)\n",
            "fps: 0.32\n",
            "[1 1 1 1]\n",
            "progress: 185 / 250\n"
          ]
        },
        {
          "output_type": "stream",
          "name": "stderr",
          "text": [
            "/usr/local/lib/python3.8/dist-packages/shapely/set_operations.py:133: RuntimeWarning: invalid value encountered in intersection\n",
            "  return lib.intersection(a, b, **kwargs)\n"
          ]
        },
        {
          "output_type": "stream",
          "name": "stdout",
          "text": [
            "(0.7859375, 0.7859375)\n",
            "(0.7859375, 0.7859375)\n",
            "(0.7859375, 0.7859375)\n",
            "(0.7859375, 0.7859375)\n",
            "(0.7859375, 0.7859375)\n",
            "(0.7859375, 0.7859375)\n",
            "(0.7859375, 0.7859375)\n",
            "fps: 0.32\n",
            "[1 1 1 1 1 1 1]\n",
            "progress: 186 / 250\n"
          ]
        },
        {
          "output_type": "stream",
          "name": "stderr",
          "text": [
            "/usr/local/lib/python3.8/dist-packages/shapely/set_operations.py:133: RuntimeWarning: invalid value encountered in intersection\n",
            "  return lib.intersection(a, b, **kwargs)\n"
          ]
        },
        {
          "output_type": "stream",
          "name": "stdout",
          "text": [
            "(0.59375, 0.59375)\n",
            "(0.59375, 0.59375)\n",
            "(0.59375, 0.59375)\n",
            "(0.59375, 0.59375)\n",
            "fps: 0.32\n",
            "[1 1 1 1 1]\n",
            "progress: 187 / 250\n"
          ]
        },
        {
          "output_type": "stream",
          "name": "stderr",
          "text": [
            "/usr/local/lib/python3.8/dist-packages/shapely/set_operations.py:133: RuntimeWarning: invalid value encountered in intersection\n",
            "  return lib.intersection(a, b, **kwargs)\n"
          ]
        },
        {
          "output_type": "stream",
          "name": "stdout",
          "text": [
            "(0.9203125, 0.9203125)\n",
            "(0.9203125, 0.9203125)\n",
            "(0.9203125, 0.9203125)\n",
            "(0.9203125, 0.9203125)\n",
            "(0.9203125, 0.9203125)\n",
            "(0.9203125, 0.9203125)\n",
            "(0.9203125, 0.9203125)\n",
            "(0.9203125, 0.9203125)\n",
            "(0.9203125, 0.9203125)\n",
            "(0.9203125, 0.9203125)\n",
            "fps: 0.32\n",
            "[1 1 1 1 1 1 1 1 1 1]\n",
            "progress: 188 / 250\n"
          ]
        },
        {
          "output_type": "stream",
          "name": "stderr",
          "text": [
            "/usr/local/lib/python3.8/dist-packages/shapely/set_operations.py:133: RuntimeWarning: invalid value encountered in intersection\n",
            "  return lib.intersection(a, b, **kwargs)\n"
          ]
        },
        {
          "output_type": "stream",
          "name": "stdout",
          "text": [
            "(0.4328125, 0.4328125)\n",
            "(0.4328125, 0.4328125)\n",
            "(0.4328125, 0.4328125)\n",
            "(0.4328125, 0.4328125)\n",
            "(0.4328125, 0.4328125)\n",
            "(0.4328125, 0.4328125)\n",
            "(0.4328125, 0.4328125)\n",
            "(0.4328125, 0.4328125)\n",
            "(0.4328125, 0.4328125)\n",
            "(0.4328125, 0.4328125)\n",
            "fps: 0.33\n",
            "[1 1 1 1 1 1 1 1 1 1]\n",
            "progress: 189 / 250\n"
          ]
        },
        {
          "output_type": "stream",
          "name": "stderr",
          "text": [
            "/usr/local/lib/python3.8/dist-packages/shapely/set_operations.py:133: RuntimeWarning: invalid value encountered in intersection\n",
            "  return lib.intersection(a, b, **kwargs)\n"
          ]
        },
        {
          "output_type": "stream",
          "name": "stdout",
          "text": [
            "(1.0796875, 1.0796875)\n",
            "(1.0796875, 1.0796875)\n",
            "(1.0796875, 1.0796875)\n",
            "(1.0796875, 1.0796875)\n",
            "(1.0796875, 1.0796875)\n",
            "(1.0796875, 1.0796875)\n",
            "fps: 0.33\n",
            "[1 1 1 1 1 1]\n",
            "progress: 190 / 250\n"
          ]
        },
        {
          "output_type": "stream",
          "name": "stderr",
          "text": [
            "/usr/local/lib/python3.8/dist-packages/shapely/set_operations.py:133: RuntimeWarning: invalid value encountered in intersection\n",
            "  return lib.intersection(a, b, **kwargs)\n"
          ]
        },
        {
          "output_type": "stream",
          "name": "stdout",
          "text": [
            "(0.89375, 0.89375)\n",
            "(0.89375, 0.89375)\n",
            "(0.89375, 0.89375)\n",
            "(0.89375, 0.89375)\n",
            "(0.89375, 0.89375)\n",
            "(0.89375, 0.89375)\n",
            "(0.89375, 0.89375)\n",
            "(0.89375, 0.89375)\n",
            "(0.89375, 0.89375)\n",
            "(0.89375, 0.89375)\n",
            "fps: 0.33\n",
            "[1 1 1 1 1 1 1]\n",
            "progress: 191 / 250\n"
          ]
        },
        {
          "output_type": "stream",
          "name": "stderr",
          "text": [
            "/usr/local/lib/python3.8/dist-packages/shapely/set_operations.py:133: RuntimeWarning: invalid value encountered in intersection\n",
            "  return lib.intersection(a, b, **kwargs)\n"
          ]
        },
        {
          "output_type": "stream",
          "name": "stdout",
          "text": [
            "(0.5578125, 0.5578125)\n",
            "(0.5578125, 0.5578125)\n",
            "(0.5578125, 0.5578125)\n",
            "(0.5578125, 0.5578125)\n",
            "(0.5578125, 0.5578125)\n",
            "(0.5578125, 0.5578125)\n",
            "(0.5578125, 0.5578125)\n",
            "(0.5578125, 0.5578125)\n",
            "(0.5578125, 0.5578125)\n",
            "(0.5578125, 0.5578125)\n",
            "fps: 0.33\n",
            "[1 1 1 1 1 1 1 1 1 1]\n",
            "progress: 192 / 250\n"
          ]
        },
        {
          "output_type": "stream",
          "name": "stderr",
          "text": [
            "/usr/local/lib/python3.8/dist-packages/shapely/set_operations.py:133: RuntimeWarning: invalid value encountered in intersection\n",
            "  return lib.intersection(a, b, **kwargs)\n"
          ]
        },
        {
          "output_type": "stream",
          "name": "stdout",
          "text": [
            "(0.775, 0.775)\n",
            "(0.775, 0.775)\n",
            "(0.775, 0.775)\n",
            "(0.775, 0.775)\n",
            "fps: 0.33\n",
            "[1 1 1 1]\n",
            "progress: 193 / 250\n"
          ]
        },
        {
          "output_type": "stream",
          "name": "stderr",
          "text": [
            "/usr/local/lib/python3.8/dist-packages/shapely/set_operations.py:133: RuntimeWarning: invalid value encountered in intersection\n",
            "  return lib.intersection(a, b, **kwargs)\n"
          ]
        },
        {
          "output_type": "stream",
          "name": "stdout",
          "text": [
            "(0.9609375, 0.9609375)\n",
            "(0.9609375, 0.9609375)\n",
            "(0.9609375, 0.9609375)\n",
            "(0.9609375, 0.9609375)\n",
            "(0.9609375, 0.9609375)\n",
            "(0.9609375, 0.9609375)\n",
            "(0.9609375, 0.9609375)\n",
            "(0.9609375, 0.9609375)\n",
            "(0.9609375, 0.9609375)\n",
            "(0.9609375, 0.9609375)\n",
            "(0.9609375, 0.9609375)\n",
            "(0.9609375, 0.9609375)\n",
            "fps: 0.33\n",
            "[1 1 1 1 1 1 1 1 1 1 1 1 1 1]\n",
            "progress: 194 / 250\n"
          ]
        },
        {
          "output_type": "stream",
          "name": "stderr",
          "text": [
            "/usr/local/lib/python3.8/dist-packages/shapely/set_operations.py:133: RuntimeWarning: invalid value encountered in intersection\n",
            "  return lib.intersection(a, b, **kwargs)\n"
          ]
        },
        {
          "output_type": "stream",
          "name": "stdout",
          "text": [
            "(0.925, 0.925)\n",
            "(0.925, 0.925)\n",
            "fps: 0.33\n",
            "[1 1]\n",
            "progress: 195 / 250\n",
            "(0.58125, 0.58125)\n",
            "(0.58125, 0.58125)\n",
            "fps: 0.33\n",
            "[1 1]\n",
            "progress: 196 / 250\n",
            "(0.5546875, 0.5546875)\n",
            "(0.5546875, 0.5546875)\n",
            "(0.5546875, 0.5546875)\n",
            "(0.5546875, 0.5546875)\n",
            "(0.5546875, 0.5546875)\n",
            "(0.5546875, 0.5546875)\n",
            "(0.5546875, 0.5546875)\n",
            "(0.5546875, 0.5546875)\n",
            "fps: 0.33\n",
            "[1 1 1 1 1 1 1 1]\n",
            "progress: 197 / 250\n"
          ]
        },
        {
          "output_type": "stream",
          "name": "stderr",
          "text": [
            "/usr/local/lib/python3.8/dist-packages/shapely/set_operations.py:133: RuntimeWarning: invalid value encountered in intersection\n",
            "  return lib.intersection(a, b, **kwargs)\n"
          ]
        },
        {
          "output_type": "stream",
          "name": "stdout",
          "text": [
            "(1.25, 1.25)\n",
            "(1.25, 1.25)\n",
            "(1.25, 1.25)\n",
            "fps: 0.33\n",
            "[1 1 1 1]\n",
            "progress: 198 / 250\n"
          ]
        },
        {
          "output_type": "stream",
          "name": "stderr",
          "text": [
            "/usr/local/lib/python3.8/dist-packages/shapely/set_operations.py:133: RuntimeWarning: invalid value encountered in intersection\n",
            "  return lib.intersection(a, b, **kwargs)\n"
          ]
        },
        {
          "output_type": "stream",
          "name": "stdout",
          "text": [
            "(0.378125, 0.378125)\n",
            "(0.378125, 0.378125)\n",
            "(0.378125, 0.378125)\n",
            "fps: 0.33\n",
            "[1 1 1]\n",
            "progress: 199 / 250\n"
          ]
        },
        {
          "output_type": "stream",
          "name": "stderr",
          "text": [
            "/usr/local/lib/python3.8/dist-packages/shapely/set_operations.py:133: RuntimeWarning: invalid value encountered in intersection\n",
            "  return lib.intersection(a, b, **kwargs)\n"
          ]
        },
        {
          "output_type": "stream",
          "name": "stdout",
          "text": [
            "(1.2859375, 1.2859375)\n",
            "(1.2859375, 1.2859375)\n",
            "(1.2859375, 1.2859375)\n",
            "(1.2859375, 1.2859375)\n",
            "fps: 0.33\n",
            "[1 1 1 1 1 1 1 1]\n",
            "progress: 200 / 250\n"
          ]
        },
        {
          "output_type": "stream",
          "name": "stderr",
          "text": [
            "/usr/local/lib/python3.8/dist-packages/shapely/set_operations.py:133: RuntimeWarning: invalid value encountered in intersection\n",
            "  return lib.intersection(a, b, **kwargs)\n"
          ]
        },
        {
          "output_type": "stream",
          "name": "stdout",
          "text": [
            "(0.31875, 0.31875)\n",
            "(0.31875, 0.31875)\n",
            "(0.31875, 0.31875)\n",
            "(0.31875, 0.31875)\n",
            "fps: 0.33\n",
            "[1 1 1 1]\n",
            "progress: 201 / 250\n"
          ]
        },
        {
          "output_type": "stream",
          "name": "stderr",
          "text": [
            "/usr/local/lib/python3.8/dist-packages/shapely/set_operations.py:133: RuntimeWarning: invalid value encountered in intersection\n",
            "  return lib.intersection(a, b, **kwargs)\n"
          ]
        },
        {
          "output_type": "stream",
          "name": "stdout",
          "text": [
            "(0.715625, 0.715625)\n",
            "(0.715625, 0.715625)\n",
            "(0.715625, 0.715625)\n",
            "(0.715625, 0.715625)\n",
            "(0.715625, 0.715625)\n",
            "(0.715625, 0.715625)\n",
            "(0.715625, 0.715625)\n",
            "(0.715625, 0.715625)\n",
            "(0.715625, 0.715625)\n",
            "(0.715625, 0.715625)\n",
            "(0.715625, 0.715625)\n",
            "(0.715625, 0.715625)\n",
            "fps: 0.33\n",
            "[1 1 1 1 1 1 1 1 1 1 1 1]\n",
            "progress: 202 / 250\n"
          ]
        },
        {
          "output_type": "stream",
          "name": "stderr",
          "text": [
            "/usr/local/lib/python3.8/dist-packages/shapely/set_operations.py:133: RuntimeWarning: invalid value encountered in intersection\n",
            "  return lib.intersection(a, b, **kwargs)\n"
          ]
        },
        {
          "output_type": "stream",
          "name": "stdout",
          "text": [
            "(0.3609375, 0.3609375)\n",
            "(0.3609375, 0.3609375)\n",
            "(0.3609375, 0.3609375)\n",
            "(0.3609375, 0.3609375)\n",
            "fps: 0.33\n",
            "[1 1 1]\n",
            "progress: 203 / 250\n"
          ]
        },
        {
          "output_type": "stream",
          "name": "stderr",
          "text": [
            "/usr/local/lib/python3.8/dist-packages/shapely/set_operations.py:133: RuntimeWarning: invalid value encountered in intersection\n",
            "  return lib.intersection(a, b, **kwargs)\n"
          ]
        },
        {
          "output_type": "stream",
          "name": "stdout",
          "text": [
            "(1.9734375, 1.9734375)\n",
            "(1.9734375, 1.9734375)\n",
            "(1.9734375, 1.9734375)\n",
            "(1.9734375, 1.9734375)\n",
            "(1.9734375, 1.9734375)\n",
            "(1.9734375, 1.9734375)\n",
            "(1.9734375, 1.9734375)\n",
            "(1.9734375, 1.9734375)\n",
            "(1.9734375, 1.9734375)\n",
            "(1.9734375, 1.9734375)\n",
            "fps: 0.32\n",
            "[1 1 1 1 1 1 1 1 1 1 1 1]\n",
            "progress: 204 / 250\n"
          ]
        },
        {
          "output_type": "stream",
          "name": "stderr",
          "text": [
            "/usr/local/lib/python3.8/dist-packages/shapely/set_operations.py:133: RuntimeWarning: invalid value encountered in intersection\n",
            "  return lib.intersection(a, b, **kwargs)\n"
          ]
        },
        {
          "output_type": "stream",
          "name": "stdout",
          "text": [
            "(0.8890625, 0.8890625)\n",
            "(0.8890625, 0.8890625)\n",
            "(0.8890625, 0.8890625)\n",
            "(0.8890625, 0.8890625)\n",
            "(0.8890625, 0.8890625)\n",
            "(0.8890625, 0.8890625)\n",
            "(0.8890625, 0.8890625)\n",
            "(0.8890625, 0.8890625)\n",
            "fps: 0.32\n",
            "[1 1 1 1 1 1]\n",
            "progress: 205 / 250\n"
          ]
        },
        {
          "output_type": "stream",
          "name": "stderr",
          "text": [
            "/usr/local/lib/python3.8/dist-packages/shapely/set_operations.py:133: RuntimeWarning: invalid value encountered in intersection\n",
            "  return lib.intersection(a, b, **kwargs)\n"
          ]
        },
        {
          "output_type": "stream",
          "name": "stdout",
          "text": [
            "(0.7390625, 0.7390625)\n",
            "(0.7390625, 0.7390625)\n",
            "(0.7390625, 0.7390625)\n",
            "(0.7390625, 0.7390625)\n",
            "(0.7390625, 0.7390625)\n",
            "(0.7390625, 0.7390625)\n",
            "(0.7390625, 0.7390625)\n",
            "(0.7390625, 0.7390625)\n",
            "fps: 0.33\n",
            "[1 1 1 1 1 1 1 1 1]\n",
            "progress: 206 / 250\n"
          ]
        },
        {
          "output_type": "stream",
          "name": "stderr",
          "text": [
            "/usr/local/lib/python3.8/dist-packages/shapely/set_operations.py:133: RuntimeWarning: invalid value encountered in intersection\n",
            "  return lib.intersection(a, b, **kwargs)\n"
          ]
        },
        {
          "output_type": "stream",
          "name": "stdout",
          "text": [
            "(0.578125, 0.578125)\n",
            "(0.578125, 0.578125)\n",
            "(0.578125, 0.578125)\n",
            "(0.578125, 0.578125)\n",
            "(0.578125, 0.578125)\n",
            "(0.578125, 0.578125)\n",
            "(0.578125, 0.578125)\n",
            "fps: 0.33\n",
            "[1 1 1 1 1 1 1]\n",
            "progress: 207 / 250\n"
          ]
        },
        {
          "output_type": "stream",
          "name": "stderr",
          "text": [
            "/usr/local/lib/python3.8/dist-packages/shapely/set_operations.py:133: RuntimeWarning: invalid value encountered in intersection\n",
            "  return lib.intersection(a, b, **kwargs)\n"
          ]
        },
        {
          "output_type": "stream",
          "name": "stdout",
          "text": [
            "(0.85625, 0.85625)\n",
            "(0.85625, 0.85625)\n",
            "(0.85625, 0.85625)\n",
            "(0.85625, 0.85625)\n",
            "(0.85625, 0.85625)\n",
            "(0.85625, 0.85625)\n",
            "(0.85625, 0.85625)\n",
            "(0.85625, 0.85625)\n",
            "(0.85625, 0.85625)\n",
            "(0.85625, 0.85625)\n",
            "fps: 0.33\n",
            "[1 1 1 1 1 1 1 1 1 1 1 1 1 1 1 1]\n",
            "progress: 208 / 250\n"
          ]
        },
        {
          "output_type": "stream",
          "name": "stderr",
          "text": [
            "/usr/local/lib/python3.8/dist-packages/shapely/set_operations.py:133: RuntimeWarning: invalid value encountered in intersection\n",
            "  return lib.intersection(a, b, **kwargs)\n"
          ]
        },
        {
          "output_type": "stream",
          "name": "stdout",
          "text": [
            "(1.2875, 1.2875)\n",
            "(1.2875, 1.2875)\n",
            "(1.2875, 1.2875)\n",
            "(1.2875, 1.2875)\n",
            "(1.2875, 1.2875)\n",
            "(1.2875, 1.2875)\n",
            "(1.2875, 1.2875)\n",
            "(1.2875, 1.2875)\n",
            "(1.2875, 1.2875)\n",
            "(1.2875, 1.2875)\n",
            "fps: 0.33\n",
            "[1 1 1 1 1 1 1 1 1 1 1 1 1 1 1 1 1 1 1]\n",
            "progress: 209 / 250\n"
          ]
        },
        {
          "output_type": "stream",
          "name": "stderr",
          "text": [
            "/usr/local/lib/python3.8/dist-packages/shapely/set_operations.py:133: RuntimeWarning: invalid value encountered in intersection\n",
            "  return lib.intersection(a, b, **kwargs)\n"
          ]
        },
        {
          "output_type": "stream",
          "name": "stdout",
          "text": [
            "(1.278125, 1.278125)\n",
            "(1.278125, 1.278125)\n",
            "(1.278125, 1.278125)\n",
            "(1.278125, 1.278125)\n",
            "(1.278125, 1.278125)\n",
            "(1.278125, 1.278125)\n",
            "fps: 0.33\n",
            "[1 1 1 1 1 1 1]\n",
            "progress: 210 / 250\n"
          ]
        },
        {
          "output_type": "stream",
          "name": "stderr",
          "text": [
            "/usr/local/lib/python3.8/dist-packages/shapely/set_operations.py:133: RuntimeWarning: invalid value encountered in intersection\n",
            "  return lib.intersection(a, b, **kwargs)\n"
          ]
        },
        {
          "output_type": "stream",
          "name": "stdout",
          "text": [
            "(0.434375, 0.434375)\n",
            "(0.434375, 0.434375)\n",
            "(0.434375, 0.434375)\n",
            "(0.434375, 0.434375)\n",
            "(0.434375, 0.434375)\n",
            "(0.434375, 0.434375)\n",
            "(0.434375, 0.434375)\n",
            "(0.434375, 0.434375)\n",
            "(0.434375, 0.434375)\n",
            "(0.434375, 0.434375)\n",
            "(0.434375, 0.434375)\n",
            "fps: 0.32\n",
            "[1 1 1 1 1 1 1 1 1 1 1 1 1]\n",
            "progress: 211 / 250\n"
          ]
        },
        {
          "output_type": "stream",
          "name": "stderr",
          "text": [
            "/usr/local/lib/python3.8/dist-packages/shapely/set_operations.py:133: RuntimeWarning: invalid value encountered in intersection\n",
            "  return lib.intersection(a, b, **kwargs)\n"
          ]
        },
        {
          "output_type": "stream",
          "name": "stdout",
          "text": [
            "(0.5390625, 0.5390625)\n",
            "(0.5390625, 0.5390625)\n",
            "(0.5390625, 0.5390625)\n",
            "(0.5390625, 0.5390625)\n",
            "(0.5390625, 0.5390625)\n",
            "(0.5390625, 0.5390625)\n",
            "(0.5390625, 0.5390625)\n",
            "(0.5390625, 0.5390625)\n",
            "fps: 0.33\n",
            "[1 1 1 1 1 1 1 1 1 1 1]\n",
            "progress: 212 / 250\n"
          ]
        },
        {
          "output_type": "stream",
          "name": "stderr",
          "text": [
            "/usr/local/lib/python3.8/dist-packages/shapely/set_operations.py:133: RuntimeWarning: invalid value encountered in intersection\n",
            "  return lib.intersection(a, b, **kwargs)\n"
          ]
        },
        {
          "output_type": "stream",
          "name": "stdout",
          "text": [
            "(0.5859375, 0.5859375)\n",
            "(0.5859375, 0.5859375)\n",
            "(0.5859375, 0.5859375)\n",
            "(0.5859375, 0.5859375)\n",
            "(0.5859375, 0.5859375)\n",
            "(0.5859375, 0.5859375)\n",
            "(0.5859375, 0.5859375)\n",
            "(0.5859375, 0.5859375)\n",
            "(0.5859375, 0.5859375)\n",
            "fps: 0.33\n",
            "[1 1 1 1 1 1 1 1 1 1]\n",
            "progress: 213 / 250\n"
          ]
        },
        {
          "output_type": "stream",
          "name": "stderr",
          "text": [
            "/usr/local/lib/python3.8/dist-packages/shapely/set_operations.py:133: RuntimeWarning: invalid value encountered in intersection\n",
            "  return lib.intersection(a, b, **kwargs)\n"
          ]
        },
        {
          "output_type": "stream",
          "name": "stdout",
          "text": [
            "(1.1265625, 1.1265625)\n",
            "(1.1265625, 1.1265625)\n",
            "(1.1265625, 1.1265625)\n",
            "fps: 0.33\n",
            "[1 0 1 1 1 1 1 1]\n",
            "progress: 214 / 250\n"
          ]
        },
        {
          "output_type": "stream",
          "name": "stderr",
          "text": [
            "/usr/local/lib/python3.8/dist-packages/shapely/set_operations.py:133: RuntimeWarning: invalid value encountered in intersection\n",
            "  return lib.intersection(a, b, **kwargs)\n",
            "/usr/local/lib/python3.8/dist-packages/shapely/set_operations.py:133: RuntimeWarning: invalid value encountered in intersection\n",
            "  return lib.intersection(a, b, **kwargs)\n"
          ]
        },
        {
          "output_type": "stream",
          "name": "stdout",
          "text": [
            "(0.4234375, 0.4234375)\n",
            "(0.4234375, 0.4234375)\n",
            "(0.4234375, 0.4234375)\n",
            "fps: 0.33\n",
            "[1 1 1]\n",
            "progress: 215 / 250\n"
          ]
        },
        {
          "output_type": "stream",
          "name": "stderr",
          "text": [
            "/usr/local/lib/python3.8/dist-packages/shapely/set_operations.py:133: RuntimeWarning: invalid value encountered in intersection\n",
            "  return lib.intersection(a, b, **kwargs)\n"
          ]
        },
        {
          "output_type": "stream",
          "name": "stdout",
          "text": [
            "(0.9140625, 0.9140625)\n",
            "(0.9140625, 0.9140625)\n",
            "(0.9140625, 0.9140625)\n",
            "(0.9140625, 0.9140625)\n",
            "(0.9140625, 0.9140625)\n",
            "(0.9140625, 0.9140625)\n",
            "(0.9140625, 0.9140625)\n",
            "(0.9140625, 0.9140625)\n",
            "fps: 0.33\n",
            "[1 1 1 1 1 1 1 1 1 1 1]\n",
            "progress: 216 / 250\n"
          ]
        },
        {
          "output_type": "stream",
          "name": "stderr",
          "text": [
            "/usr/local/lib/python3.8/dist-packages/shapely/set_operations.py:133: RuntimeWarning: invalid value encountered in intersection\n",
            "  return lib.intersection(a, b, **kwargs)\n"
          ]
        },
        {
          "output_type": "stream",
          "name": "stdout",
          "text": [
            "(1.215625, 1.215625)\n",
            "(1.215625, 1.215625)\n",
            "(1.215625, 1.215625)\n",
            "fps: 0.33\n",
            "[1 1 1]\n",
            "progress: 217 / 250\n"
          ]
        },
        {
          "output_type": "stream",
          "name": "stderr",
          "text": [
            "/usr/local/lib/python3.8/dist-packages/shapely/set_operations.py:133: RuntimeWarning: invalid value encountered in intersection\n",
            "  return lib.intersection(a, b, **kwargs)\n"
          ]
        },
        {
          "output_type": "stream",
          "name": "stdout",
          "text": [
            "(1.26875, 1.26875)\n",
            "(1.26875, 1.26875)\n",
            "(1.26875, 1.26875)\n",
            "(1.26875, 1.26875)\n",
            "(1.26875, 1.26875)\n",
            "(1.26875, 1.26875)\n",
            "(1.26875, 1.26875)\n",
            "(1.26875, 1.26875)\n",
            "(1.26875, 1.26875)\n",
            "(1.26875, 1.26875)\n",
            "(1.26875, 1.26875)\n",
            "(1.26875, 1.26875)\n",
            "fps: 0.33\n",
            "[1 1 1 1 1 1 1 1 1 1 1 1 1 1 1 1 1 1]\n",
            "progress: 218 / 250\n"
          ]
        },
        {
          "output_type": "stream",
          "name": "stderr",
          "text": [
            "/usr/local/lib/python3.8/dist-packages/shapely/set_operations.py:133: RuntimeWarning: invalid value encountered in intersection\n",
            "  return lib.intersection(a, b, **kwargs)\n"
          ]
        },
        {
          "output_type": "stream",
          "name": "stdout",
          "text": [
            "(0.734375, 0.734375)\n",
            "(0.734375, 0.734375)\n",
            "(0.734375, 0.734375)\n",
            "(0.734375, 0.734375)\n",
            "(0.734375, 0.734375)\n",
            "(0.734375, 0.734375)\n",
            "fps: 0.33\n",
            "[1 1 1 1 1 1 1 1 1 1]\n",
            "progress: 219 / 250\n"
          ]
        },
        {
          "output_type": "stream",
          "name": "stderr",
          "text": [
            "/usr/local/lib/python3.8/dist-packages/shapely/set_operations.py:133: RuntimeWarning: invalid value encountered in intersection\n",
            "  return lib.intersection(a, b, **kwargs)\n"
          ]
        },
        {
          "output_type": "stream",
          "name": "stdout",
          "text": [
            "(0.7140625, 0.7140625)\n",
            "(0.7140625, 0.7140625)\n",
            "(0.7140625, 0.7140625)\n",
            "(0.7140625, 0.7140625)\n",
            "(0.7140625, 0.7140625)\n",
            "fps: 0.33\n",
            "[1 1 1 1 1]\n",
            "progress: 220 / 250\n"
          ]
        },
        {
          "output_type": "stream",
          "name": "stderr",
          "text": [
            "/usr/local/lib/python3.8/dist-packages/shapely/set_operations.py:133: RuntimeWarning: invalid value encountered in intersection\n",
            "  return lib.intersection(a, b, **kwargs)\n"
          ]
        },
        {
          "output_type": "stream",
          "name": "stdout",
          "text": [
            "(0.334375, 0.334375)\n",
            "(0.334375, 0.334375)\n",
            "(0.334375, 0.334375)\n",
            "(0.334375, 0.334375)\n",
            "(0.334375, 0.334375)\n",
            "(0.334375, 0.334375)\n",
            "(0.334375, 0.334375)\n",
            "(0.334375, 0.334375)\n",
            "(0.334375, 0.334375)\n",
            "fps: 0.33\n",
            "[1 1 1 1 1 1 1 1]\n",
            "progress: 221 / 250\n"
          ]
        },
        {
          "output_type": "stream",
          "name": "stderr",
          "text": [
            "/usr/local/lib/python3.8/dist-packages/shapely/set_operations.py:133: RuntimeWarning: invalid value encountered in intersection\n",
            "  return lib.intersection(a, b, **kwargs)\n"
          ]
        },
        {
          "output_type": "stream",
          "name": "stdout",
          "text": [
            "(0.65625, 0.65625)\n",
            "(0.65625, 0.65625)\n",
            "(0.65625, 0.65625)\n",
            "(0.65625, 0.65625)\n",
            "(0.65625, 0.65625)\n",
            "(0.65625, 0.65625)\n",
            "(0.65625, 0.65625)\n",
            "(0.65625, 0.65625)\n",
            "(0.65625, 0.65625)\n",
            "fps: 0.33\n",
            "[1 1 1 1 1 1 1 1 1 1]\n",
            "progress: 222 / 250\n"
          ]
        },
        {
          "output_type": "stream",
          "name": "stderr",
          "text": [
            "/usr/local/lib/python3.8/dist-packages/shapely/set_operations.py:133: RuntimeWarning: invalid value encountered in intersection\n",
            "  return lib.intersection(a, b, **kwargs)\n"
          ]
        },
        {
          "output_type": "stream",
          "name": "stdout",
          "text": [
            "(0.6390625, 0.6390625)\n",
            "(0.6390625, 0.6390625)\n",
            "(0.6390625, 0.6390625)\n",
            "(0.6390625, 0.6390625)\n",
            "fps: 0.33\n",
            "[1 1 1 1 1]\n",
            "progress: 223 / 250\n"
          ]
        },
        {
          "output_type": "stream",
          "name": "stderr",
          "text": [
            "/usr/local/lib/python3.8/dist-packages/shapely/set_operations.py:133: RuntimeWarning: invalid value encountered in intersection\n",
            "  return lib.intersection(a, b, **kwargs)\n"
          ]
        },
        {
          "output_type": "stream",
          "name": "stdout",
          "text": [
            "(0.9734375, 0.9734375)\n",
            "(0.9734375, 0.9734375)\n",
            "(0.9734375, 0.9734375)\n",
            "(0.9734375, 0.9734375)\n",
            "(0.9734375, 0.9734375)\n",
            "(0.9734375, 0.9734375)\n",
            "(0.9734375, 0.9734375)\n",
            "fps: 0.33\n",
            "[1 1 1 1 1 1 1]\n",
            "progress: 224 / 250\n"
          ]
        },
        {
          "output_type": "stream",
          "name": "stderr",
          "text": [
            "/usr/local/lib/python3.8/dist-packages/shapely/set_operations.py:133: RuntimeWarning: invalid value encountered in intersection\n",
            "  return lib.intersection(a, b, **kwargs)\n"
          ]
        },
        {
          "output_type": "stream",
          "name": "stdout",
          "text": [
            "(0.81875, 0.81875)\n",
            "(0.81875, 0.81875)\n",
            "(0.81875, 0.81875)\n",
            "(0.81875, 0.81875)\n",
            "(0.81875, 0.81875)\n",
            "(0.81875, 0.81875)\n",
            "(0.81875, 0.81875)\n",
            "(0.81875, 0.81875)\n",
            "fps: 0.33\n",
            "[1 1 1 1 1 1 1 1 1 1 1 1 1 1 1 1 1 0 1 1 1 1]\n",
            "progress: 225 / 250\n"
          ]
        },
        {
          "output_type": "stream",
          "name": "stderr",
          "text": [
            "/usr/local/lib/python3.8/dist-packages/shapely/set_operations.py:133: RuntimeWarning: invalid value encountered in intersection\n",
            "  return lib.intersection(a, b, **kwargs)\n",
            "/usr/local/lib/python3.8/dist-packages/shapely/set_operations.py:133: RuntimeWarning: invalid value encountered in intersection\n",
            "  return lib.intersection(a, b, **kwargs)\n",
            "/usr/local/lib/python3.8/dist-packages/shapely/set_operations.py:133: RuntimeWarning: invalid value encountered in intersection\n",
            "  return lib.intersection(a, b, **kwargs)\n",
            "/usr/local/lib/python3.8/dist-packages/shapely/set_operations.py:133: RuntimeWarning: invalid value encountered in intersection\n",
            "  return lib.intersection(a, b, **kwargs)\n",
            "/usr/local/lib/python3.8/dist-packages/shapely/set_operations.py:133: RuntimeWarning: invalid value encountered in intersection\n",
            "  return lib.intersection(a, b, **kwargs)\n",
            "/usr/local/lib/python3.8/dist-packages/shapely/set_operations.py:133: RuntimeWarning: invalid value encountered in intersection\n",
            "  return lib.intersection(a, b, **kwargs)\n",
            "/usr/local/lib/python3.8/dist-packages/shapely/set_operations.py:133: RuntimeWarning: invalid value encountered in intersection\n",
            "  return lib.intersection(a, b, **kwargs)\n"
          ]
        },
        {
          "output_type": "stream",
          "name": "stdout",
          "text": [
            "(1.484375, 1.484375)\n",
            "(1.484375, 1.484375)\n",
            "(1.484375, 1.484375)\n",
            "(1.484375, 1.484375)\n",
            "(1.484375, 1.484375)\n",
            "(1.484375, 1.484375)\n",
            "fps: 0.33\n",
            "[1 1 1 1 1 1]\n",
            "progress: 226 / 250\n"
          ]
        },
        {
          "output_type": "stream",
          "name": "stderr",
          "text": [
            "/usr/local/lib/python3.8/dist-packages/shapely/set_operations.py:133: RuntimeWarning: invalid value encountered in intersection\n",
            "  return lib.intersection(a, b, **kwargs)\n"
          ]
        },
        {
          "output_type": "stream",
          "name": "stdout",
          "text": [
            "(0.8, 0.8)\n",
            "(0.8, 0.8)\n",
            "(0.8, 0.8)\n",
            "(0.8, 0.8)\n",
            "fps: 0.34\n",
            "[1 1 1 1]\n",
            "progress: 227 / 250\n",
            "(1.303125, 1.303125)\n",
            "(1.303125, 1.303125)\n",
            "(1.303125, 1.303125)\n",
            "(1.303125, 1.303125)\n",
            "fps: 0.34\n",
            "[1 1 1 1 1 1 1]\n",
            "progress: 228 / 250\n"
          ]
        },
        {
          "output_type": "stream",
          "name": "stderr",
          "text": [
            "/usr/local/lib/python3.8/dist-packages/shapely/set_operations.py:133: RuntimeWarning: invalid value encountered in intersection\n",
            "  return lib.intersection(a, b, **kwargs)\n"
          ]
        },
        {
          "output_type": "stream",
          "name": "stdout",
          "text": [
            "(1.6, 1.6)\n",
            "(1.6, 1.6)\n",
            "(1.6, 1.6)\n",
            "(1.6, 1.6)\n",
            "(1.6, 1.6)\n",
            "(1.6, 1.6)\n",
            "(1.6, 1.6)\n",
            "(1.6, 1.6)\n",
            "(1.6, 1.6)\n",
            "fps: 0.34\n",
            "[1 1 1 1 1 1 1 1 1 1 1 1 1 1 1 1 1 1]\n",
            "progress: 229 / 250\n"
          ]
        },
        {
          "output_type": "stream",
          "name": "stderr",
          "text": [
            "/usr/local/lib/python3.8/dist-packages/shapely/set_operations.py:133: RuntimeWarning: invalid value encountered in intersection\n",
            "  return lib.intersection(a, b, **kwargs)\n"
          ]
        },
        {
          "output_type": "stream",
          "name": "stdout",
          "text": [
            "(0.7359375, 0.7359375)\n",
            "(0.7359375, 0.7359375)\n",
            "(0.7359375, 0.7359375)\n",
            "(0.7359375, 0.7359375)\n",
            "(0.7359375, 0.7359375)\n",
            "(0.7359375, 0.7359375)\n",
            "(0.7359375, 0.7359375)\n",
            "fps: 0.33\n",
            "[1 1 1 1 1 1 1]\n",
            "progress: 230 / 250\n"
          ]
        },
        {
          "output_type": "stream",
          "name": "stderr",
          "text": [
            "/usr/local/lib/python3.8/dist-packages/shapely/set_operations.py:133: RuntimeWarning: invalid value encountered in intersection\n",
            "  return lib.intersection(a, b, **kwargs)\n"
          ]
        },
        {
          "output_type": "stream",
          "name": "stdout",
          "text": [
            "(0.959375, 0.959375)\n",
            "(0.959375, 0.959375)\n",
            "(0.959375, 0.959375)\n",
            "(0.959375, 0.959375)\n",
            "(0.959375, 0.959375)\n",
            "(0.959375, 0.959375)\n",
            "(0.959375, 0.959375)\n",
            "(0.959375, 0.959375)\n",
            "fps: 0.33\n",
            "[1 1 1 1 1 1 1 1 1 1 1 1]\n",
            "progress: 231 / 250\n"
          ]
        },
        {
          "output_type": "stream",
          "name": "stderr",
          "text": [
            "/usr/local/lib/python3.8/dist-packages/shapely/set_operations.py:133: RuntimeWarning: invalid value encountered in intersection\n",
            "  return lib.intersection(a, b, **kwargs)\n"
          ]
        },
        {
          "output_type": "stream",
          "name": "stdout",
          "text": [
            "(0.46875, 0.46875)\n",
            "(0.46875, 0.46875)\n",
            "(0.46875, 0.46875)\n",
            "(0.46875, 0.46875)\n",
            "(0.46875, 0.46875)\n",
            "(0.46875, 0.46875)\n",
            "(0.46875, 0.46875)\n",
            "(0.46875, 0.46875)\n",
            "(0.46875, 0.46875)\n",
            "(0.46875, 0.46875)\n",
            "(0.46875, 0.46875)\n",
            "(0.46875, 0.46875)\n",
            "(0.46875, 0.46875)\n",
            "(0.46875, 0.46875)\n",
            "(0.46875, 0.46875)\n",
            "(0.46875, 0.46875)\n",
            "fps: 0.33\n",
            "[1 1 1 1 1 1 1 1 1 1 1 1 1 1 1 1 1 1 1]\n",
            "progress: 232 / 250\n"
          ]
        },
        {
          "output_type": "stream",
          "name": "stderr",
          "text": [
            "/usr/local/lib/python3.8/dist-packages/shapely/set_operations.py:133: RuntimeWarning: invalid value encountered in intersection\n",
            "  return lib.intersection(a, b, **kwargs)\n"
          ]
        },
        {
          "output_type": "stream",
          "name": "stdout",
          "text": [
            "(0.5859375, 0.5859375)\n",
            "(0.5859375, 0.5859375)\n",
            "(0.5859375, 0.5859375)\n",
            "(0.5859375, 0.5859375)\n",
            "(0.5859375, 0.5859375)\n",
            "(0.5859375, 0.5859375)\n",
            "(0.5859375, 0.5859375)\n",
            "(0.5859375, 0.5859375)\n",
            "(0.5859375, 0.5859375)\n",
            "fps: 0.33\n",
            "[1 1 1 1 1 1 1 1 1]\n",
            "progress: 233 / 250\n"
          ]
        },
        {
          "output_type": "stream",
          "name": "stderr",
          "text": [
            "/usr/local/lib/python3.8/dist-packages/shapely/set_operations.py:133: RuntimeWarning: invalid value encountered in intersection\n",
            "  return lib.intersection(a, b, **kwargs)\n"
          ]
        },
        {
          "output_type": "stream",
          "name": "stdout",
          "text": [
            "(0.9546875, 0.9546875)\n",
            "(0.9546875, 0.9546875)\n",
            "(0.9546875, 0.9546875)\n",
            "(0.9546875, 0.9546875)\n",
            "(0.9546875, 0.9546875)\n",
            "(0.9546875, 0.9546875)\n",
            "(0.9546875, 0.9546875)\n",
            "(0.9546875, 0.9546875)\n",
            "fps: 0.33\n",
            "[1 1 1 1 1 1 1 1]\n",
            "progress: 234 / 250\n"
          ]
        },
        {
          "output_type": "stream",
          "name": "stderr",
          "text": [
            "/usr/local/lib/python3.8/dist-packages/shapely/set_operations.py:133: RuntimeWarning: invalid value encountered in intersection\n",
            "  return lib.intersection(a, b, **kwargs)\n"
          ]
        },
        {
          "output_type": "stream",
          "name": "stdout",
          "text": [
            "(0.9609375, 0.9609375)\n",
            "(0.9609375, 0.9609375)\n",
            "(0.9609375, 0.9609375)\n",
            "(0.9609375, 0.9609375)\n",
            "fps: 0.33\n",
            "[1 1 1 1]\n",
            "progress: 235 / 250\n"
          ]
        },
        {
          "output_type": "stream",
          "name": "stderr",
          "text": [
            "/usr/local/lib/python3.8/dist-packages/shapely/set_operations.py:133: RuntimeWarning: invalid value encountered in intersection\n",
            "  return lib.intersection(a, b, **kwargs)\n"
          ]
        },
        {
          "output_type": "stream",
          "name": "stdout",
          "text": [
            "(1.1015625, 1.1015625)\n",
            "(1.1015625, 1.1015625)\n",
            "(1.1015625, 1.1015625)\n",
            "(1.1015625, 1.1015625)\n",
            "fps: 0.33\n",
            "[1 1 1 1]\n",
            "progress: 236 / 250\n"
          ]
        },
        {
          "output_type": "stream",
          "name": "stderr",
          "text": [
            "/usr/local/lib/python3.8/dist-packages/shapely/set_operations.py:133: RuntimeWarning: invalid value encountered in intersection\n",
            "  return lib.intersection(a, b, **kwargs)\n"
          ]
        },
        {
          "output_type": "stream",
          "name": "stdout",
          "text": [
            "(0.56875, 0.56875)\n",
            "(0.56875, 0.56875)\n",
            "(0.56875, 0.56875)\n",
            "(0.56875, 0.56875)\n",
            "(0.56875, 0.56875)\n",
            "(0.56875, 0.56875)\n",
            "(0.56875, 0.56875)\n",
            "(0.56875, 0.56875)\n",
            "fps: 0.33\n",
            "[1 1 1 1 1 1 1 1 1]\n",
            "progress: 237 / 250\n"
          ]
        },
        {
          "output_type": "stream",
          "name": "stderr",
          "text": [
            "/usr/local/lib/python3.8/dist-packages/shapely/set_operations.py:133: RuntimeWarning: invalid value encountered in intersection\n",
            "  return lib.intersection(a, b, **kwargs)\n"
          ]
        },
        {
          "output_type": "stream",
          "name": "stdout",
          "text": [
            "(0.665625, 0.665625)\n",
            "(0.665625, 0.665625)\n",
            "(0.665625, 0.665625)\n",
            "(0.665625, 0.665625)\n",
            "(0.665625, 0.665625)\n",
            "(0.665625, 0.665625)\n",
            "fps: 0.33\n",
            "[1 1 1 1 1 1]\n",
            "progress: 238 / 250\n"
          ]
        },
        {
          "output_type": "stream",
          "name": "stderr",
          "text": [
            "/usr/local/lib/python3.8/dist-packages/shapely/set_operations.py:133: RuntimeWarning: invalid value encountered in intersection\n",
            "  return lib.intersection(a, b, **kwargs)\n"
          ]
        },
        {
          "output_type": "stream",
          "name": "stdout",
          "text": [
            "(1.090625, 1.090625)\n",
            "(1.090625, 1.090625)\n",
            "(1.090625, 1.090625)\n",
            "fps: 0.33\n",
            "[1 1 1]\n",
            "progress: 239 / 250\n"
          ]
        },
        {
          "output_type": "stream",
          "name": "stderr",
          "text": [
            "/usr/local/lib/python3.8/dist-packages/shapely/set_operations.py:133: RuntimeWarning: invalid value encountered in intersection\n",
            "  return lib.intersection(a, b, **kwargs)\n"
          ]
        },
        {
          "output_type": "stream",
          "name": "stdout",
          "text": [
            "(0.7265625, 0.7265625)\n",
            "(0.7265625, 0.7265625)\n",
            "(0.7265625, 0.7265625)\n",
            "fps: 0.33\n",
            "[1 1 1 1]\n",
            "progress: 240 / 250\n"
          ]
        },
        {
          "output_type": "stream",
          "name": "stderr",
          "text": [
            "/usr/local/lib/python3.8/dist-packages/shapely/set_operations.py:133: RuntimeWarning: invalid value encountered in intersection\n",
            "  return lib.intersection(a, b, **kwargs)\n"
          ]
        },
        {
          "output_type": "stream",
          "name": "stdout",
          "text": [
            "(0.7328125, 0.7328125)\n",
            "(0.7328125, 0.7328125)\n",
            "(0.7328125, 0.7328125)\n",
            "(0.7328125, 0.7328125)\n",
            "(0.7328125, 0.7328125)\n",
            "(0.7328125, 0.7328125)\n",
            "fps: 0.33\n",
            "[1 1 1 1 1 1]\n",
            "progress: 241 / 250\n"
          ]
        },
        {
          "output_type": "stream",
          "name": "stderr",
          "text": [
            "/usr/local/lib/python3.8/dist-packages/shapely/set_operations.py:133: RuntimeWarning: invalid value encountered in intersection\n",
            "  return lib.intersection(a, b, **kwargs)\n"
          ]
        },
        {
          "output_type": "stream",
          "name": "stdout",
          "text": [
            "(0.584375, 0.584375)\n",
            "(0.584375, 0.584375)\n",
            "(0.584375, 0.584375)\n",
            "(0.584375, 0.584375)\n",
            "fps: 0.33\n",
            "[1 1 1 1]\n",
            "progress: 242 / 250\n"
          ]
        },
        {
          "output_type": "stream",
          "name": "stderr",
          "text": [
            "/usr/local/lib/python3.8/dist-packages/shapely/set_operations.py:133: RuntimeWarning: invalid value encountered in intersection\n",
            "  return lib.intersection(a, b, **kwargs)\n"
          ]
        },
        {
          "output_type": "stream",
          "name": "stdout",
          "text": [
            "(0.63125, 0.63125)\n",
            "(0.63125, 0.63125)\n",
            "(0.63125, 0.63125)\n",
            "(0.63125, 0.63125)\n",
            "(0.63125, 0.63125)\n",
            "fps: 0.33\n",
            "[1 1 1 1 1]\n",
            "progress: 243 / 250\n"
          ]
        },
        {
          "output_type": "stream",
          "name": "stderr",
          "text": [
            "/usr/local/lib/python3.8/dist-packages/shapely/set_operations.py:133: RuntimeWarning: invalid value encountered in intersection\n",
            "  return lib.intersection(a, b, **kwargs)\n"
          ]
        },
        {
          "output_type": "stream",
          "name": "stdout",
          "text": [
            "(0.8484375, 0.8484375)\n",
            "(0.8484375, 0.8484375)\n",
            "(0.8484375, 0.8484375)\n",
            "(0.8484375, 0.8484375)\n",
            "(0.8484375, 0.8484375)\n",
            "(0.8484375, 0.8484375)\n",
            "(0.8484375, 0.8484375)\n",
            "(0.8484375, 0.8484375)\n",
            "fps: 0.33\n",
            "[1 1 1 1 1 1 1 1]\n",
            "progress: 244 / 250\n"
          ]
        },
        {
          "output_type": "stream",
          "name": "stderr",
          "text": [
            "/usr/local/lib/python3.8/dist-packages/shapely/set_operations.py:133: RuntimeWarning: invalid value encountered in intersection\n",
            "  return lib.intersection(a, b, **kwargs)\n"
          ]
        },
        {
          "output_type": "stream",
          "name": "stdout",
          "text": [
            "(0.4328125, 0.4328125)\n",
            "(0.4328125, 0.4328125)\n",
            "fps: 0.33\n",
            "[1 1]\n",
            "progress: 245 / 250\n",
            "(1.015625, 1.015625)\n",
            "(1.015625, 1.015625)\n",
            "(1.015625, 1.015625)\n",
            "(1.015625, 1.015625)\n",
            "fps: 0.33\n",
            "[1 1 1 1]\n",
            "progress: 246 / 250\n"
          ]
        },
        {
          "output_type": "stream",
          "name": "stderr",
          "text": [
            "/usr/local/lib/python3.8/dist-packages/shapely/set_operations.py:133: RuntimeWarning: invalid value encountered in intersection\n",
            "  return lib.intersection(a, b, **kwargs)\n"
          ]
        },
        {
          "output_type": "stream",
          "name": "stdout",
          "text": [
            "(1.8578125, 1.8578125)\n",
            "(1.8578125, 1.8578125)\n",
            "(1.8578125, 1.8578125)\n",
            "fps: 0.33\n",
            "[1 1 1 1 1 1 1 1 1 1 1 1 1 1 1]\n",
            "progress: 247 / 250\n"
          ]
        },
        {
          "output_type": "stream",
          "name": "stderr",
          "text": [
            "/usr/local/lib/python3.8/dist-packages/shapely/set_operations.py:133: RuntimeWarning: invalid value encountered in intersection\n",
            "  return lib.intersection(a, b, **kwargs)\n"
          ]
        },
        {
          "output_type": "stream",
          "name": "stdout",
          "text": [
            "(1.371875, 1.371875)\n",
            "(1.371875, 1.371875)\n",
            "(1.371875, 1.371875)\n",
            "(1.371875, 1.371875)\n",
            "(1.371875, 1.371875)\n",
            "(1.371875, 1.371875)\n",
            "(1.371875, 1.371875)\n",
            "(1.371875, 1.371875)\n",
            "fps: 0.32\n",
            "[1 1 1 1 1 1 1 1 1 1 1]\n",
            "progress: 248 / 250\n"
          ]
        },
        {
          "output_type": "stream",
          "name": "stderr",
          "text": [
            "/usr/local/lib/python3.8/dist-packages/shapely/set_operations.py:133: RuntimeWarning: invalid value encountered in intersection\n",
            "  return lib.intersection(a, b, **kwargs)\n"
          ]
        },
        {
          "output_type": "stream",
          "name": "stdout",
          "text": [
            "(0.959375, 0.959375)\n",
            "(0.959375, 0.959375)\n",
            "(0.959375, 0.959375)\n",
            "fps: 0.32\n",
            "[1 1 1]\n",
            "progress: 249 / 250\n"
          ]
        },
        {
          "output_type": "stream",
          "name": "stderr",
          "text": [
            "/usr/local/lib/python3.8/dist-packages/shapely/set_operations.py:133: RuntimeWarning: invalid value encountered in intersection\n",
            "  return lib.intersection(a, b, **kwargs)\n"
          ]
        },
        {
          "output_type": "stream",
          "name": "stdout",
          "text": [
            "(0.740625, 0.740625)\n",
            "(0.740625, 0.740625)\n",
            "(0.740625, 0.740625)\n",
            "(0.740625, 0.740625)\n",
            "(0.740625, 0.740625)\n",
            "(0.740625, 0.740625)\n",
            "(0.740625, 0.740625)\n",
            "(0.740625, 0.740625)\n",
            "(0.740625, 0.740625)\n",
            "(0.740625, 0.740625)\n",
            "(0.740625, 0.740625)\n",
            "(0.740625, 0.740625)\n",
            "(0.740625, 0.740625)\n",
            "(0.740625, 0.740625)\n",
            "fps: 0.32\n",
            "[1 1 1 1 1 1 1 1 1 1 1 1 1 1]\n",
            "hmean 0.8477228226358612\n",
            "precision 0.9193939393939394\n",
            "recall 0.7864178330741317\n",
            "done test\n"
          ]
        },
        {
          "output_type": "stream",
          "name": "stderr",
          "text": [
            "/usr/local/lib/python3.8/dist-packages/shapely/set_operations.py:133: RuntimeWarning: invalid value encountered in intersection\n",
            "  return lib.intersection(a, b, **kwargs)\n"
          ]
        }
      ]
    }
  ],
  "metadata": {
    "accelerator": "GPU",
    "colab": {
      "provenance": [],
      "toc_visible": true
    },
    "gpuClass": "premium",
    "kernelspec": {
      "display_name": "Python 3",
      "language": "python",
      "name": "python3"
    },
    "language_info": {
      "codemirror_mode": {
        "name": "ipython",
        "version": 3
      },
      "file_extension": ".py",
      "mimetype": "text/x-python",
      "name": "python",
      "nbconvert_exporter": "python",
      "pygments_lexer": "ipython3",
      "version": "3.9.2"
    },
    "vscode": {
      "interpreter": {
        "hash": "aee8b7b246df8f9039afb4144a1f6fd8d2ca17a180786b69acc140d282b71a49"
      }
    }
  },
  "nbformat": 4,
  "nbformat_minor": 0
}